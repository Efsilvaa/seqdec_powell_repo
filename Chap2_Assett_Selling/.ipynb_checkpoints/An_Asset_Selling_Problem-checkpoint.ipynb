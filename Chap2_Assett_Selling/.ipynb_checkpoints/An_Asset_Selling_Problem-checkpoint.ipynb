{
 "cells": [
  {
   "cell_type": "markdown",
   "metadata": {},
   "source": [
    "# An Asset Selling Problem"
   ]
  },
  {
   "cell_type": "markdown",
   "metadata": {},
   "source": [
    "**When to sell an asset**"
   ]
  },
  {
   "cell_type": "markdown",
   "metadata": {
    "ExecuteTime": {
     "end_time": "2020-12-21T12:33:31.902426Z",
     "start_time": "2020-12-21T12:33:31.899054Z"
    }
   },
   "source": [
    "* State Variable: $S_t$ that captures all the information we need ...($R_t$, $I_t$, $B_t$)\n",
    "* Decsion Variable : $x_t$ where $x_0$ is the design decision, while $x_t$ for t>0 represents control varilables.\n",
    "* Exogenous information\n",
    "* Transition fucntion\n",
    "* Objective Function: "
   ]
  },
  {
   "cell_type": "markdown",
   "metadata": {},
   "source": [
    "## Narrative"
   ]
  },
  {
   "cell_type": "markdown",
   "metadata": {},
   "source": [
    "We are holding a block of shares of stock, looking for oppurtunity to sell.If we sell at time t, we receive a price that varies according to some random process over time. Once we sell the stock, the process stops."
   ]
  },
  {
   "cell_type": "markdown",
   "metadata": {},
   "source": [
    "## Basic Model"
   ]
  },
  {
   "cell_type": "markdown",
   "metadata": {},
   "source": [
    "### State Variable"
   ]
  },
  {
   "cell_type": "markdown",
   "metadata": {},
   "source": [
    "Two state variable:\n",
    "* The **Physical State** which says whether or not we are still holding the assest\n",
    "* The **Information State** the price of stock "
   ]
  },
  {
   "cell_type": "markdown",
   "metadata": {},
   "source": [
    "* The physical State:"
   ]
  },
  {
   "cell_type": "markdown",
   "metadata": {},
   "source": [
    "$$\n",
    "\\begin{equation}\n",
    "  R_t=\\left\\{\n",
    "  \\begin{array}{@{}ll@{}}\n",
    "    1, & \\text{if we are holding the stock at time t}\\  \\\\\n",
    "    0, & \\text{if we are not longer holding the stock at time t}\n",
    "  \\end{array}\\right.\n",
    "\\end{equation} \n",
    "$$\n",
    "\n",
    "If we sell the stock, we receive the price per share $p_t$. This means our state variable is:\n",
    "$$\n",
    "S_t=(R_t, p_t)\n",
    "$$"
   ]
  },
  {
   "cell_type": "markdown",
   "metadata": {},
   "source": [
    "### Decision Variable"
   ]
  },
  {
   "cell_type": "markdown",
   "metadata": {
    "ExecuteTime": {
     "end_time": "2020-12-21T13:41:09.474173Z",
     "start_time": "2020-12-21T13:41:09.467788Z"
    }
   },
   "source": [
    "$$\n",
    "\\begin{equation}\n",
    "  x_t=\\left\\{\n",
    "  \\begin{array}{@{}ll@{}}\n",
    "    1, & \\text{if we sell the stock at time t}\\  \\\\\n",
    "    0, & \\text{if we do not sell the stock at time t}\n",
    "  \\end{array}\\right.\n",
    "\\end{equation} \n",
    "$$\n",
    "we only can sell stock if we hold it,\n",
    "$$\n",
    "x_t < R_t\n",
    "$$"
   ]
  },
  {
   "cell_type": "markdown",
   "metadata": {},
   "source": [
    "#### Policy\n",
    "\n",
    "What is the policy?\n",
    "\n",
    "$$\n",
    "X^{\\pi}(S_t)\n",
    "$$\n",
    "\n",
    "Example policy is we might be to sell if the price drops the below some limit point, thus we could write:\n",
    "\n",
    "$$\n",
    "\\begin{equation}\n",
    "  X^{sell-low}(S_t|\\theta^{low})=\\left\\{\n",
    "  \\begin{array}{@{}ll@{}}\n",
    "    1, & \\text{if}\\ p_t<\\theta^{low}  \\ \\text{and}\\ R_t=1  \\\\\n",
    "    1, & \\text{if}\\ t= T\\ \\text{and} \\ R_t = 1 \\\\\n",
    "    0, & \\text{otherwise}\n",
    "  \\end{array}\\right.\n",
    "\\end{equation} \n",
    "$$"
   ]
  },
  {
   "cell_type": "markdown",
   "metadata": {},
   "source": [
    "### Exogenous Function"
   ]
  },
  {
   "cell_type": "markdown",
   "metadata": {},
   "source": [
    "The only random process in our basic model is the change in price. Alternatively, naturally we simply write $W_t$ be the new price, in which we would write:\n",
    "\n",
    "$$\n",
    "W_{t+1} = (p_{t+1})\n",
    "$$"
   ]
  },
  {
   "cell_type": "markdown",
   "metadata": {},
   "source": [
    "### Transition Function"
   ]
  },
  {
   "cell_type": "markdown",
   "metadata": {},
   "source": [
    "Is the equation that describe how the states evolves. The transition equation is:\n",
    "\n",
    "$$\n",
    "R_{t+1} = R_{t} - x_{t}\n",
    "$$\n",
    "\n",
    "How the price evolves over time. \n",
    "\n",
    "$$p_{t+1} = p_t  + \\hat{p}_{t+1}$$"
   ]
  },
  {
   "cell_type": "markdown",
   "metadata": {},
   "source": [
    "**Transition Function**"
   ]
  },
  {
   "cell_type": "markdown",
   "metadata": {},
   "source": [
    "$$\n",
    "S_{t+1} = S^M(S_t, X^{\\pi}(S_t), W_{t+1})\n",
    "$$"
   ]
  },
  {
   "cell_type": "markdown",
   "metadata": {},
   "source": [
    "### Objective Function\n",
    "The performance metric is how much we earn from selling our stock."
   ]
  },
  {
   "cell_type": "markdown",
   "metadata": {
    "ExecuteTime": {
     "end_time": "2020-12-21T14:16:26.040468Z",
     "start_time": "2020-12-21T14:16:26.037354Z"
    }
   },
   "source": [
    "$$\n",
    "C(S_t,x_t) = p_tx_t\n",
    "$$"
   ]
  },
  {
   "cell_type": "markdown",
   "metadata": {},
   "source": [
    "We now can formulate the optimizatio problem:"
   ]
  },
  {
   "cell_type": "markdown",
   "metadata": {
    "ExecuteTime": {
     "end_time": "2020-12-21T14:19:50.538018Z",
     "start_time": "2020-12-21T14:19:50.528895Z"
    }
   },
   "source": [
    "$$\n",
    "max \\ \\sum_{t=0}^{T-1} p_tx_t \\\\\n",
    "x_0,x_1,...,x_{T-1}\n",
    "$$"
   ]
  }
 ],
 "metadata": {
  "kernelspec": {
   "display_name": "Python 3.7.6 64-bit ('miniconda3': virtualenv)",
   "language": "python",
   "name": "python37664bitminiconda3virtualenve74fedcb21d34eb1870d0e92f04bd4f6"
  },
  "language_info": {
   "codemirror_mode": {
    "name": "ipython",
    "version": 3
   },
   "file_extension": ".py",
   "mimetype": "text/x-python",
   "name": "python",
   "nbconvert_exporter": "python",
   "pygments_lexer": "ipython3",
   "version": "3.7.6"
  },
  "toc": {
   "base_numbering": 1,
   "nav_menu": {},
   "number_sections": true,
   "sideBar": true,
   "skip_h1_title": false,
   "title_cell": "Table of Contents",
   "title_sidebar": "Contents",
   "toc_cell": false,
   "toc_position": {
    "height": "calc(100% - 180px)",
    "left": "10px",
    "top": "150px",
    "width": "165px"
   },
   "toc_section_display": true,
   "toc_window_display": false
  },
  "varInspector": {
   "cols": {
    "lenName": 16,
    "lenType": 16,
    "lenVar": 40
   },
   "kernels_config": {
    "python": {
     "delete_cmd_postfix": "",
     "delete_cmd_prefix": "del ",
     "library": "var_list.py",
     "varRefreshCmd": "print(var_dic_list())"
    },
    "r": {
     "delete_cmd_postfix": ") ",
     "delete_cmd_prefix": "rm(",
     "library": "var_list.r",
     "varRefreshCmd": "cat(var_dic_list()) "
    }
   },
   "types_to_exclude": [
    "module",
    "function",
    "builtin_function_or_method",
    "instance",
    "_Feature"
   ],
   "window_display": false
  }
 },
 "nbformat": 4,
 "nbformat_minor": 4
}
