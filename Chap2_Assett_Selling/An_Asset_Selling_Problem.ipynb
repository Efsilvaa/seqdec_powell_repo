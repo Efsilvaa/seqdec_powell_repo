{
 "cells": [
  {
   "cell_type": "markdown",
   "metadata": {},
   "source": [
    "# Chap2: An Asset Selling Problem"
   ]
  },
  {
   "cell_type": "markdown",
   "metadata": {},
   "source": [
    "The chapter to answer basic question: **When to sell an asset** "
   ]
  },
  {
   "cell_type": "markdown",
   "metadata": {},
   "source": [
    "In this case, we use a simple class of policies known as:  *policy function approximations*."
   ]
  },
  {
   "cell_type": "markdown",
   "metadata": {},
   "source": [
    "**Mathematical Model**"
   ]
  },
  {
   "cell_type": "markdown",
   "metadata": {
    "ExecuteTime": {
     "end_time": "2020-12-21T12:33:31.902426Z",
     "start_time": "2020-12-21T12:33:31.899054Z"
    }
   },
   "source": [
    "* **State Variable**: $S_t$ that captures all the information we need ...($R_t$, $I_t$, $B_t$)\n",
    "* **Decsion Variable** : $x_t$ where $x_0$ is the design decision, while $x_t$ for t>0 represents control varilables.\n",
    "* **Exogenous Information**: The variable $W_t$ captures information that first becomes available between $t-1$ and $t$ from outside of our system.\n",
    "* **Transition Fucntion**:\n",
    "$$\n",
    "S_{t+1} = S^M(S_t, x_t,W_{t+1})\n",
    "$$\n",
    "* **Objective Function**: When there are elements of the *problem* that depend on the state variables, we represent costs/contribution as:\n",
    "\n",
    "$$\n",
    "C(S_{t},x_{t}) \\ or \\ C(S_t,x_t, W_{t+1})\n",
    "$$\n",
    "\n",
    "**Set of learning problems** : where we are trying to learn about a function which is not itself a function of state variable, it means:"
   ]
  },
  {
   "cell_type": "markdown",
   "metadata": {},
   "source": [
    "This means the state variable consists purely of belief state $B_t$."
   ]
  },
  {
   "cell_type": "markdown",
   "metadata": {},
   "source": [
    "## Narrative"
   ]
  },
  {
   "cell_type": "markdown",
   "metadata": {},
   "source": [
    "We are holding a block of shares of stock, looking for oppurtunity to sell.If we sell at time t, we receive a price that varies according to some random process over time. Once we sell the stock, the process stops."
   ]
  },
  {
   "cell_type": "markdown",
   "metadata": {},
   "source": [
    "## Basic Model"
   ]
  },
  {
   "cell_type": "markdown",
   "metadata": {},
   "source": [
    "### State Variable:"
   ]
  },
  {
   "cell_type": "markdown",
   "metadata": {},
   "source": [
    "Two state variables:\n",
    "* The **Physical State** which says whether or not we are still holding the assest\n",
    "* The **Information State** the price of stock "
   ]
  },
  {
   "cell_type": "markdown",
   "metadata": {},
   "source": [
    "* The physical State:"
   ]
  },
  {
   "cell_type": "markdown",
   "metadata": {},
   "source": [
    "$$\n",
    "  R_t=\\left\\{\n",
    "  \\begin{array}{@{}ll@{}}\n",
    "    1, & \\text{if we are holding the stock at time t}\\  \\\\\n",
    "    0, & \\text{if we are not longer holding the stock at time t}\n",
    "  \\end{array}\\right. \n",
    "$$\n",
    "\n",
    "If we sell the stock, we receive the price per share $p_t$. This means our state variable is:\n",
    "$$\n",
    "S_t=(R_t, p_t)\n",
    "$$"
   ]
  },
  {
   "cell_type": "markdown",
   "metadata": {},
   "source": [
    "### Decision Variable:"
   ]
  },
  {
   "cell_type": "markdown",
   "metadata": {
    "ExecuteTime": {
     "end_time": "2020-12-21T13:41:09.474173Z",
     "start_time": "2020-12-21T13:41:09.467788Z"
    }
   },
   "source": [
    "$$\n",
    "\\begin{equation}\n",
    "  x_t=\\left\\{\n",
    "  \\begin{array}{@{}ll@{}}\n",
    "    1, & \\text{if we sell the stock at time t}\\  \\\\\n",
    "    0, & \\text{if we do not sell the stock at time t}\n",
    "  \\end{array}\\right.\n",
    "\\end{equation} \n",
    "$$\n",
    "we only can sell stock if we hold it,\n",
    "$$\n",
    "x_t < R_t\n",
    "$$"
   ]
  },
  {
   "cell_type": "markdown",
   "metadata": {},
   "source": [
    "#### Policy:\n",
    "\n",
    "What is the policy: <br> **which is going to define how we make decision**\n",
    "\n",
    "$$\n",
    "X^{\\pi}(S_t)\n",
    "$$\n",
    "\n",
    "Example policy is we might be to sell if the price drops the below some limit point, thus we could write:\n",
    "\n",
    "$$\n",
    "\\begin{equation}\n",
    "  X^{sell-low}(S_t|\\theta^{low})=\\left\\{\n",
    "  \\begin{array}{@{}ll@{}}\n",
    "    1, & \\text{if}\\ p_t<\\theta^{low}  \\ \\text{and}\\ R_t=1  \\\\\n",
    "    1, & \\text{if}\\ t= T\\ \\text{and} \\ R_t = 1 \\\\\n",
    "    0, & \\text{otherwise}\n",
    "  \\end{array}\\right.\n",
    "\\end{equation} \n",
    "$$"
   ]
  },
  {
   "cell_type": "markdown",
   "metadata": {},
   "source": [
    "### Exogenous Function"
   ]
  },
  {
   "cell_type": "markdown",
   "metadata": {},
   "source": [
    "The only random process in our basic model is the change in price. Alternatively, naturally we simply write $W_t$ be the new price, in which we would write:\n",
    "\n",
    "$$\n",
    "W_{t+1} = (p_{t+1})\n",
    "$$"
   ]
  },
  {
   "cell_type": "markdown",
   "metadata": {},
   "source": [
    "### Transition Function"
   ]
  },
  {
   "cell_type": "markdown",
   "metadata": {},
   "source": [
    "Is the equation that describe how the states evolves. The transition equation is:\n",
    "\n",
    "$$\n",
    "R_{t+1} = R_{t} - x_{t}\n",
    "$$\n",
    "\n",
    "How the price evolves over time. \n",
    "\n",
    "$$p_{t+1} = p_t  + \\hat{p}_{t+1}$$"
   ]
  },
  {
   "cell_type": "markdown",
   "metadata": {},
   "source": [
    "**Transition Function**"
   ]
  },
  {
   "cell_type": "markdown",
   "metadata": {},
   "source": [
    "$$\n",
    "S_{t+1} = S^M(S_t, X^{\\pi}(S_t), W_{t+1})\n",
    "$$"
   ]
  },
  {
   "cell_type": "markdown",
   "metadata": {},
   "source": [
    "If we use our policy $X^{\\pi}(S_t)$, and if we choose sample path $\\omega$, that determine the sequence $W_1,W_2,W_3,...,W_T$...than the simulation of process can be written as:"
   ]
  },
  {
   "cell_type": "markdown",
   "metadata": {},
   "source": [
    "$$\n",
    "(S_0,x_0 = X^{\\pi}(S_0)), W_1(\\omega), S_1, x_1 = X^{\\pi}(S_1), W_(\\omega),..., x_{T-1}, W_T(\\omega),S_T)\n",
    "$$"
   ]
  },
  {
   "cell_type": "markdown",
   "metadata": {},
   "source": [
    "### Objective Function\n",
    "The performance metric is how much we earn from selling our stock."
   ]
  },
  {
   "cell_type": "markdown",
   "metadata": {
    "ExecuteTime": {
     "end_time": "2020-12-21T14:16:26.040468Z",
     "start_time": "2020-12-21T14:16:26.037354Z"
    }
   },
   "source": [
    "$$\n",
    "C(S_t,x_t) = p_tx_t\n",
    "$$"
   ]
  },
  {
   "cell_type": "markdown",
   "metadata": {},
   "source": [
    "We now can formulate the optimizatio problem:"
   ]
  },
  {
   "cell_type": "markdown",
   "metadata": {
    "ExecuteTime": {
     "end_time": "2020-12-21T14:19:50.538018Z",
     "start_time": "2020-12-21T14:19:50.528895Z"
    }
   },
   "source": [
    "$$\n",
    "max \\ \\sum_{t=0}^{T-1} p_tx_t \\\\\n",
    "x_0,x_1,...,x_{T-1}\n",
    "$$"
   ]
  },
  {
   "cell_type": "markdown",
   "metadata": {},
   "source": [
    "Constraints of the Optimization:"
   ]
  },
  {
   "cell_type": "markdown",
   "metadata": {},
   "source": [
    "$$\n",
    "\\sum_{t=0}^{T-1} x_t = 1, \\\\\n",
    "x_t \\leq 1, \\\\\n",
    "x_t \\geq 0,\n",
    "$$"
   ]
  },
  {
   "cell_type": "markdown",
   "metadata": {},
   "source": [
    "**Including Uncertainty**:"
   ]
  },
  {
   "cell_type": "markdown",
   "metadata": {},
   "source": [
    "We are simulating a policy following a sample path $\\omega$ of price $p_1(\\omega), p_2(\\omega),...$"
   ]
  },
  {
   "cell_type": "markdown",
   "metadata": {},
   "source": [
    "$$\n",
    "S_{t+1}(\\omega) = S^{M}(S_t(\\omega), X^{\\pi}(S_t(\\omega)), W_{t+1}(\\omega))\n",
    "$$"
   ]
  },
  {
   "cell_type": "markdown",
   "metadata": {},
   "source": [
    "If we follow policy $\\pi$ along this sample path, we can compute the performance:"
   ]
  },
  {
   "cell_type": "markdown",
   "metadata": {},
   "source": [
    "$$\n",
    "\\hat{F}^{\\pi}(\\omega) = \\sum_{t=0}^{T-1} p_t(\\omega)X^{\\pi}(S_t(\\omega))\n",
    "$$"
   ]
  },
  {
   "cell_type": "markdown",
   "metadata": {},
   "source": [
    "This is for one sample path . We can simulate over sample of $N$ sampels ($\\omega^{1},...,\\omega^n,...\\omega^N$), and take average:"
   ]
  },
  {
   "cell_type": "markdown",
   "metadata": {},
   "source": [
    "$$\n",
    "\\overline{F}^{\\pi} = \\frac{1}{N} \\sum_{n=1}^{N}\\hat{F}^{\\pi}(\\omega^n)\n",
    "$$"
   ]
  },
  {
   "cell_type": "markdown",
   "metadata": {},
   "source": [
    "Finally, we write out optimization problem in terms of finding the best policy, which we can write:"
   ]
  },
  {
   "cell_type": "markdown",
   "metadata": {},
   "source": [
    "$$\n",
    "max \\ \\ \\overline{F}^{\\pi} \\\\\n",
    "x \\in \\Pi\n",
    "$$"
   ]
  },
  {
   "cell_type": "markdown",
   "metadata": {},
   "source": [
    "## Designing Policy"
   ]
  },
  {
   "cell_type": "markdown",
   "metadata": {},
   "source": [
    "### Sell_low Policy:\n",
    "In this policy we *sell* at that the price lower than, $\\theta^{sell-low}$."
   ]
  },
  {
   "cell_type": "markdown",
   "metadata": {},
   "source": [
    "$$\n",
    "  X^{sell-low}(S_t|\\theta^{low}) =\\left\\{\n",
    "  \\begin{array}{@{}ll@{}}\n",
    "    1  & if \\ p_t < \\theta^{low} \\ and \\ R_t=1  \\\\\n",
    "    1, & t=T \\ R_t=1 \\\\\n",
    "    0, & otherwise\n",
    "  \\end{array}\\right.\n",
    "$$"
   ]
  },
  {
   "cell_type": "markdown",
   "metadata": {},
   "source": [
    "### High_Low policy:"
   ]
  },
  {
   "cell_type": "markdown",
   "metadata": {},
   "source": [
    "In this policy , we will sell the asset if the price jumps *too high** or ** too low**:"
   ]
  },
  {
   "cell_type": "markdown",
   "metadata": {},
   "source": [
    "$$\n",
    "  X^{high-low}(S_t|\\theta^{high-low}) =\\left\\{\n",
    "  \\begin{array}{@{}ll@{}}\n",
    "    1  & if \\ p_t < \\theta^{low} \\ or \\ p_t > \\theta^{high}   \\\\\n",
    "    1, & t=T \\ and \\ R_t=1 \\\\\n",
    "    0, & otherwise\n",
    "  \\end{array}\\right.\n",
    "$$"
   ]
  },
  {
   "cell_type": "markdown",
   "metadata": {},
   "source": [
    "### Track Policy:"
   ]
  },
  {
   "cell_type": "markdown",
   "metadata": {},
   "source": [
    "Perhaps we just want to sell when the stock rises above a tracking signal. Tod this, first create a smoothed estimate of price:"
   ]
  },
  {
   "cell_type": "markdown",
   "metadata": {},
   "source": [
    "$$\\overline{p}_t = (1- \\alpha)\\overline{p}_{t-1} + \\alpha \\hat{p}_t$$"
   ]
  },
  {
   "cell_type": "markdown",
   "metadata": {},
   "source": [
    "Now consider a tracking policy that we might write:"
   ]
  },
  {
   "cell_type": "markdown",
   "metadata": {},
   "source": [
    "$$\n",
    "  X^{track}(S_t | \\theta^{track}) =\\left\\{\n",
    "  \\begin{array}{@{}ll@{}}\n",
    "    1  & if \\ p_t > \\overline{p}_t + \\theta^{track} \\    \\\\\n",
    "    1, & t=T \\ and \\ R_t=1 \\\\\n",
    "    0, & otherwise\n",
    "  \\end{array}\\right.\n",
    "$$"
   ]
  },
  {
   "cell_type": "markdown",
   "metadata": {},
   "source": [
    "For this policy, we are going to need to tweak our model, because we now $\\overline{p}_{t}$ in order to make decision. This means we would now write our state as:"
   ]
  },
  {
   "cell_type": "markdown",
   "metadata": {},
   "source": [
    "$$\n",
    "S_t = (R_t, p_t, \\overline{p}_t)\n",
    "$$"
   ]
  },
  {
   "cell_type": "markdown",
   "metadata": {},
   "source": [
    "**Classes of Policies**:"
   ]
  },
  {
   "cell_type": "markdown",
   "metadata": {},
   "source": [
    "$F = \\{\"sell-low\",\"high-low\",\"track\"\\}$"
   ]
  },
  {
   "cell_type": "markdown",
   "metadata": {},
   "source": [
    "**Parameter for each policy**:"
   ]
  },
  {
   "cell_type": "markdown",
   "metadata": {},
   "source": [
    "$\\theta^f \\in F$"
   ]
  },
  {
   "cell_type": "markdown",
   "metadata": {},
   "source": [
    "**Search over policies**:"
   ]
  },
  {
   "cell_type": "markdown",
   "metadata": {},
   "source": [
    "$\\pi \\in \\Pi$"
   ]
  },
  {
   "cell_type": "markdown",
   "metadata": {},
   "source": [
    "## Coding Part:"
   ]
  },
  {
   "cell_type": "markdown",
   "metadata": {},
   "source": [
    "### Import libraries"
   ]
  },
  {
   "cell_type": "code",
   "execution_count": 1,
   "metadata": {},
   "outputs": [],
   "source": [
    "import pandas as pd\n",
    "import numpy as np\n",
    "from collections import namedtuple\n",
    "import matplotlib.pyplot as plt\n",
    "from copy import copy\n",
    "import math"
   ]
  },
  {
   "cell_type": "markdown",
   "metadata": {},
   "source": [
    "### Change the directory to to get module"
   ]
  },
  {
   "cell_type": "code",
   "execution_count": 2,
   "metadata": {},
   "outputs": [
    {
     "data": {
      "text/plain": [
       "'/home/peyman/Documents/PhD_UiS/seqdec_powell_repo/Chap2_Assett_Selling/function'"
      ]
     },
     "execution_count": 2,
     "metadata": {},
     "output_type": "execute_result"
    }
   ],
   "source": [
    "import os\n",
    "os.chdir(\"/home/peyman/Documents/PhD_UiS/seqdec_powell_repo/Chap2_Assett_Selling/function\")\n",
    "os.getcwd()"
   ]
  },
  {
   "cell_type": "markdown",
   "metadata": {},
   "source": [
    "### Import modules from function"
   ]
  },
  {
   "cell_type": "code",
   "execution_count": 3,
   "metadata": {},
   "outputs": [],
   "source": [
    "from AssetSellingModel import AssetSellingModel\n",
    "from AssetSellingPolicy import AssetSellingPolicy"
   ]
  },
  {
   "cell_type": "markdown",
   "metadata": {},
   "source": [
    "### Change the directory to to get parameters"
   ]
  },
  {
   "cell_type": "code",
   "execution_count": 4,
   "metadata": {},
   "outputs": [
    {
     "data": {
      "text/plain": [
       "'/home/peyman/Documents/PhD_UiS/seqdec_powell_repo/Chap2_Assett_Selling/data'"
      ]
     },
     "execution_count": 4,
     "metadata": {},
     "output_type": "execute_result"
    }
   ],
   "source": [
    "import os\n",
    "os.chdir(\"/home/peyman/Documents/PhD_UiS/seqdec_powell_repo/Chap2_Assett_Selling/data\")\n",
    "os.getcwd()"
   ]
  },
  {
   "cell_type": "markdown",
   "metadata": {},
   "source": [
    "### Policy Parameters:"
   ]
  },
  {
   "cell_type": "code",
   "execution_count": 5,
   "metadata": {},
   "outputs": [],
   "source": [
    "sheet1= pd.read_excel(\"asset_selling_policy_parameters_edit.xlsx\", sheet_name=\"Sheet1\", usecols=[\"policy\", \"param1\",\"param2\"])"
   ]
  },
  {
   "cell_type": "code",
   "execution_count": 6,
   "metadata": {},
   "outputs": [
    {
     "data": {
      "text/html": [
       "<div>\n",
       "<style scoped>\n",
       "    .dataframe tbody tr th:only-of-type {\n",
       "        vertical-align: middle;\n",
       "    }\n",
       "\n",
       "    .dataframe tbody tr th {\n",
       "        vertical-align: top;\n",
       "    }\n",
       "\n",
       "    .dataframe thead th {\n",
       "        text-align: right;\n",
       "    }\n",
       "</style>\n",
       "<table border=\"1\" class=\"dataframe\">\n",
       "  <thead>\n",
       "    <tr style=\"text-align: right;\">\n",
       "      <th></th>\n",
       "      <th>policy</th>\n",
       "      <th>param1</th>\n",
       "      <th>param2</th>\n",
       "    </tr>\n",
       "  </thead>\n",
       "  <tbody>\n",
       "    <tr>\n",
       "      <th>0</th>\n",
       "      <td>sell_low</td>\n",
       "      <td>2</td>\n",
       "      <td>NaN</td>\n",
       "    </tr>\n",
       "    <tr>\n",
       "      <th>1</th>\n",
       "      <td>high_low</td>\n",
       "      <td>4</td>\n",
       "      <td>10.0</td>\n",
       "    </tr>\n",
       "    <tr>\n",
       "      <th>2</th>\n",
       "      <td>track</td>\n",
       "      <td>0</td>\n",
       "      <td>4.0</td>\n",
       "    </tr>\n",
       "  </tbody>\n",
       "</table>\n",
       "</div>"
      ],
      "text/plain": [
       "     policy  param1  param2\n",
       "0  sell_low       2     NaN\n",
       "1  high_low       4    10.0\n",
       "2     track       0     4.0"
      ]
     },
     "execution_count": 6,
     "metadata": {},
     "output_type": "execute_result"
    }
   ],
   "source": [
    "sheet1"
   ]
  },
  {
   "cell_type": "code",
   "execution_count": 7,
   "metadata": {},
   "outputs": [
    {
     "data": {
      "text/plain": [
       "[(2, nan), (4, 10.0), (0, 4.0)]"
      ]
     },
     "execution_count": 7,
     "metadata": {},
     "output_type": "execute_result"
    }
   ],
   "source": [
    "params = zip(sheet1[\"param1\"], sheet1[\"param2\"])\n",
    "param_list = list(params)\n",
    "param_list"
   ]
  },
  {
   "cell_type": "markdown",
   "metadata": {},
   "source": [
    "### Full grid Policy Parameters:"
   ]
  },
  {
   "cell_type": "code",
   "execution_count": 8,
   "metadata": {},
   "outputs": [],
   "source": [
    "sheet2 = pd.read_excel(\"asset_selling_policy_parameters_edit.xlsx\", sheet_name=\"Sheet2\")"
   ]
  },
  {
   "cell_type": "code",
   "execution_count": 9,
   "metadata": {},
   "outputs": [
    {
     "data": {
      "text/html": [
       "<div>\n",
       "<style scoped>\n",
       "    .dataframe tbody tr th:only-of-type {\n",
       "        vertical-align: middle;\n",
       "    }\n",
       "\n",
       "    .dataframe tbody tr th {\n",
       "        vertical-align: top;\n",
       "    }\n",
       "\n",
       "    .dataframe thead th {\n",
       "        text-align: right;\n",
       "    }\n",
       "</style>\n",
       "<table border=\"1\" class=\"dataframe\">\n",
       "  <thead>\n",
       "    <tr style=\"text-align: right;\">\n",
       "      <th></th>\n",
       "      <th>low_min</th>\n",
       "      <th>low_max</th>\n",
       "      <th>high_min</th>\n",
       "      <th>high_max</th>\n",
       "      <th>increment_size</th>\n",
       "    </tr>\n",
       "  </thead>\n",
       "  <tbody>\n",
       "    <tr>\n",
       "      <th>0</th>\n",
       "      <td>0</td>\n",
       "      <td>0</td>\n",
       "      <td>0.01</td>\n",
       "      <td>5</td>\n",
       "      <td>0.005</td>\n",
       "    </tr>\n",
       "  </tbody>\n",
       "</table>\n",
       "</div>"
      ],
      "text/plain": [
       "   low_min  low_max  high_min  high_max  increment_size\n",
       "0        0        0      0.01         5           0.005"
      ]
     },
     "execution_count": 9,
     "metadata": {},
     "output_type": "execute_result"
    }
   ],
   "source": [
    "sheet2"
   ]
  },
  {
   "cell_type": "markdown",
   "metadata": {},
   "source": [
    "### Parameters of the Dynamic Model: "
   ]
  },
  {
   "cell_type": "code",
   "execution_count": 10,
   "metadata": {},
   "outputs": [
    {
     "data": {
      "text/html": [
       "<div>\n",
       "<style scoped>\n",
       "    .dataframe tbody tr th:only-of-type {\n",
       "        vertical-align: middle;\n",
       "    }\n",
       "\n",
       "    .dataframe tbody tr th {\n",
       "        vertical-align: top;\n",
       "    }\n",
       "\n",
       "    .dataframe thead th {\n",
       "        text-align: right;\n",
       "    }\n",
       "</style>\n",
       "<table border=\"1\" class=\"dataframe\">\n",
       "  <thead>\n",
       "    <tr style=\"text-align: right;\">\n",
       "      <th></th>\n",
       "      <th>Policy</th>\n",
       "      <th>TimeHorizon</th>\n",
       "      <th>DiscountFactor</th>\n",
       "      <th>InitialPrice</th>\n",
       "      <th>InitialBias</th>\n",
       "      <th>UpStep</th>\n",
       "      <th>DownStep</th>\n",
       "      <th>Variance</th>\n",
       "      <th>Iterations</th>\n",
       "      <th>PrintStep</th>\n",
       "    </tr>\n",
       "  </thead>\n",
       "  <tbody>\n",
       "    <tr>\n",
       "      <th>0</th>\n",
       "      <td>track</td>\n",
       "      <td>40</td>\n",
       "      <td>0.99</td>\n",
       "      <td>16</td>\n",
       "      <td>Up</td>\n",
       "      <td>1</td>\n",
       "      <td>-1</td>\n",
       "      <td>2</td>\n",
       "      <td>10</td>\n",
       "      <td>40</td>\n",
       "    </tr>\n",
       "  </tbody>\n",
       "</table>\n",
       "</div>"
      ],
      "text/plain": [
       "  Policy  TimeHorizon  DiscountFactor  InitialPrice InitialBias  UpStep  \\\n",
       "0  track           40            0.99            16          Up       1   \n",
       "\n",
       "   DownStep  Variance  Iterations  PrintStep  \n",
       "0        -1         2          10         40  "
      ]
     },
     "execution_count": 10,
     "metadata": {},
     "output_type": "execute_result"
    }
   ],
   "source": [
    "sheet3 = pd.read_excel(\"asset_selling_policy_parameters_edit.xlsx\", sheet_name=\"Sheet3\")\n",
    "sheet3"
   ]
  },
  {
   "cell_type": "markdown",
   "metadata": {},
   "source": [
    "### Bias Term:"
   ]
  },
  {
   "cell_type": "code",
   "execution_count": 11,
   "metadata": {},
   "outputs": [
    {
     "data": {
      "text/html": [
       "<div>\n",
       "<style scoped>\n",
       "    .dataframe tbody tr th:only-of-type {\n",
       "        vertical-align: middle;\n",
       "    }\n",
       "\n",
       "    .dataframe tbody tr th {\n",
       "        vertical-align: top;\n",
       "    }\n",
       "\n",
       "    .dataframe thead th {\n",
       "        text-align: right;\n",
       "    }\n",
       "</style>\n",
       "<table border=\"1\" class=\"dataframe\">\n",
       "  <thead>\n",
       "    <tr style=\"text-align: right;\">\n",
       "      <th></th>\n",
       "      <th>Up</th>\n",
       "      <th>Neutral</th>\n",
       "      <th>Down</th>\n",
       "    </tr>\n",
       "    <tr>\n",
       "      <th>additional</th>\n",
       "      <th></th>\n",
       "      <th></th>\n",
       "      <th></th>\n",
       "    </tr>\n",
       "  </thead>\n",
       "  <tbody>\n",
       "    <tr>\n",
       "      <th>Up</th>\n",
       "      <td>0.9</td>\n",
       "      <td>0.1</td>\n",
       "      <td>0.0</td>\n",
       "    </tr>\n",
       "    <tr>\n",
       "      <th>Neutral</th>\n",
       "      <td>0.2</td>\n",
       "      <td>0.6</td>\n",
       "      <td>0.2</td>\n",
       "    </tr>\n",
       "    <tr>\n",
       "      <th>Down</th>\n",
       "      <td>0.0</td>\n",
       "      <td>0.1</td>\n",
       "      <td>0.9</td>\n",
       "    </tr>\n",
       "  </tbody>\n",
       "</table>\n",
       "</div>"
      ],
      "text/plain": [
       "             Up  Neutral  Down\n",
       "additional                    \n",
       "Up          0.9      0.1   0.0\n",
       "Neutral     0.2      0.6   0.2\n",
       "Down        0.0      0.1   0.9"
      ]
     },
     "execution_count": 11,
     "metadata": {},
     "output_type": "execute_result"
    }
   ],
   "source": [
    "biasdf = pd.read_excel(\"asset_selling_policy_parameters_edit.xlsx\", sheet_name=\"Sheet4\")\n",
    "biasdf_edit=biasdf.set_index('additional')\n",
    "biasdf_edit"
   ]
  },
  {
   "cell_type": "markdown",
   "metadata": {},
   "source": [
    "### Track Policy:"
   ]
  },
  {
   "cell_type": "code",
   "execution_count": 12,
   "metadata": {},
   "outputs": [
    {
     "name": "stdout",
     "output_type": "stream",
     "text": [
      "The selected policy is: track\n",
      "The T value is: 40\n",
      "The initial price is: 16\n",
      "The initial Bias is: Up\n",
      "The exog_params is: {'UpStep': 1, 'DownStep': -1, 'Variance': 2, 'biasdf':              Up  Neutral  Down\n",
      "additional                    \n",
      "Up          0.9      0.1   0.0\n",
      "Neutral     0.2      0.6   0.2\n",
      "Down        0.0      0.1   0.9}\n",
      "The nIteration is: 10\n",
      "The printStep is: 40\n",
      "The printIterations is: [0]\n"
     ]
    }
   ],
   "source": [
    "policy_selected = sheet3['Policy'][0]\n",
    "print(\"The selected policy is: {}\".format(policy_selected))\n",
    "\n",
    "T = sheet3['TimeHorizon'][0]\n",
    "print(\"The T value is: {}\".format(T))\n",
    "\n",
    "initPrice = sheet3['InitialPrice'][0]\n",
    "print(\"The initial price is: {}\".format(initPrice))\n",
    "\n",
    "initBias = sheet3['InitialBias'][0]\n",
    "print(\"The initial Bias is: {}\".format(initBias))    \n",
    "\n",
    "exog_params = {'UpStep':sheet3['UpStep'][0],'DownStep':sheet3['DownStep'][0],'Variance':sheet3['Variance'][0],'biasdf'\n",
    "               :biasdf_edit}\n",
    "print(\"The exog_params is: {}\".format(exog_params))    \n",
    "    \n",
    "nIterations = sheet3['Iterations'][0]\n",
    "print(\"The nIteration is: {}\".format(nIterations))    \n",
    "\n",
    "printStep = sheet3['PrintStep'][0]\n",
    "print(\"The printStep is: {}\".format(printStep))    \n",
    "\n",
    "printIterations = [0]\n",
    "print(\"The printIterations is: {}\".format(printIterations))    \n",
    "\n",
    "printIterations.extend(list(reversed(range(nIterations-1,0,-printStep))))"
   ]
  },
  {
   "cell_type": "code",
   "execution_count": 13,
   "metadata": {},
   "outputs": [
    {
     "name": "stdout",
     "output_type": "stream",
     "text": [
      "policy_names are: ['sell_low', 'high_low', 'track']\n",
      "state_names are: ['price', 'resource', 'bias']\n",
      "init_state are: {'price': 16, 'resource': 1, 'bias': 'Up'}\n",
      "decision_names are: ['sell', 'hold']\n"
     ]
    }
   ],
   "source": [
    "policy_names = ['sell_low', 'high_low', 'track']\n",
    "print(\"policy_names are: {}\".format(policy_names))    \n",
    "\n",
    "state_names = ['price', 'resource','bias']\n",
    "print(\"state_names are: {}\".format(state_names))    \n",
    "\n",
    "init_state = {'price': initPrice, 'resource': 1,'bias':initBias}\n",
    "print(\"init_state are: {}\".format(init_state))    \n",
    "\n",
    "decision_names = ['sell', 'hold']\n",
    "print(\"decision_names are: {}\".format(decision_names))    \n"
   ]
  },
  {
   "cell_type": "code",
   "execution_count": 14,
   "metadata": {},
   "outputs": [
    {
     "name": "stdout",
     "output_type": "stream",
     "text": [
      "the biasdf_edit is \n",
      " .             Up  Neutral  Down\n",
      "additional                    \n",
      "Up          0.9      0.1   0.0\n",
      "Neutral     0.2      0.6   0.2\n",
      "Down        0.0      0.1   0.9\n",
      "<class 'pandas.core.frame.DataFrame'>\n",
      "the biasdf_edit is \n",
      " .             Up  Neutral  Down\n",
      "additional                    \n",
      "Up          0.9      1.0   1.0\n",
      "Neutral     0.2      0.8   1.0\n",
      "Down        0.0      0.1   1.0\n"
     ]
    }
   ],
   "source": [
    "biasdf = exog_params[\"biasdf\"]\n",
    "print(\"the biasdf_edit is \\n .{}\".format(biasdf))\n",
    "print(type(biasdf))\n",
    "biasdf= biasdf.cumsum(axis =1)\n",
    "print(\"the biasdf_edit is \\n .{}\".format(biasdf))\n"
   ]
  },
  {
   "cell_type": "code",
   "execution_count": 15,
   "metadata": {},
   "outputs": [],
   "source": [
    "M = AssetSellingModel(state_names, decision_names, init_state,exog_params,T)"
   ]
  },
  {
   "cell_type": "code",
   "execution_count": 16,
   "metadata": {},
   "outputs": [],
   "source": [
    "P = AssetSellingPolicy(M, policy_names)"
   ]
  },
  {
   "cell_type": "markdown",
   "metadata": {},
   "source": [
    "### Policy Evaluation"
   ]
  },
  {
   "cell_type": "code",
   "execution_count": 17,
   "metadata": {},
   "outputs": [],
   "source": [
    "t = 0\n",
    "prev_price = init_state['price']"
   ]
  },
  {
   "cell_type": "code",
   "execution_count": 18,
   "metadata": {},
   "outputs": [],
   "source": [
    "policy_info = {'sell_low': param_list[0],\n",
    "                   'high_low': param_list[1],\n",
    "                   'track': param_list[2] + (prev_price,)}"
   ]
  },
  {
   "cell_type": "code",
   "execution_count": 19,
   "metadata": {},
   "outputs": [
    {
     "data": {
      "text/plain": [
       "{'sell_low': (2, nan), 'high_low': (4, 10.0), 'track': (0, 4.0, 16)}"
      ]
     },
     "execution_count": 19,
     "metadata": {},
     "output_type": "execute_result"
    }
   ],
   "source": [
    "policy_info"
   ]
  },
  {
   "cell_type": "code",
   "execution_count": 20,
   "metadata": {},
   "outputs": [
    {
     "data": {
      "text/plain": [
       "'track'"
      ]
     },
     "execution_count": 20,
     "metadata": {},
     "output_type": "execute_result"
    }
   ],
   "source": [
    "policy_selected"
   ]
  },
  {
   "cell_type": "code",
   "execution_count": 21,
   "metadata": {},
   "outputs": [
    {
     "name": "stdout",
     "output_type": "stream",
     "text": [
      "Selected policy track, time horizon 40, initial price 16 and number of iterations 10\n",
      "time=0, obj=0.0, s.resource=1, s.price=16, x=Decision(sell=0, hold=1)\n",
      "coin  0.4139840589481404  curr_bias  Up  new_bias  Up\n",
      "alpha = 4.0,prev_price = 16\n",
      "time=1, obj=0.0, s.resource=1, s.price=16.818962962840924, x=Decision(sell=0, hold=1)\n",
      "coin  0.8487800961190239  curr_bias  Up  new_bias  Up\n",
      "alpha = 4.0,prev_price = 16.818962962840924\n",
      "time=2, obj=0.0, s.resource=1, s.price=15.844213500127637, x=Decision(sell=1, hold=0)\n",
      "coin  0.45203620488154816  curr_bias  Up  new_bias  Up\n",
      "obj=15.844213500127637, state.resource=0\n",
      "time=0, obj=0.0, s.resource=1, s.price=16, x=Decision(sell=0, hold=1)\n",
      "coin  0.2720800519673423  curr_bias  Up  new_bias  Up\n",
      "alpha = 4.0,prev_price = 16\n",
      "time=1, obj=0.0, s.resource=1, s.price=19.325169358615813, x=Decision(sell=0, hold=1)\n",
      "coin  0.905534061916374  curr_bias  Up  new_bias  Neutral\n",
      "alpha = 4.0,prev_price = 19.325169358615813\n",
      "time=2, obj=0.0, s.resource=1, s.price=17.41361453720127, x=Decision(sell=1, hold=0)\n",
      "coin  0.3755268704762992  curr_bias  Neutral  new_bias  Neutral\n",
      "obj=17.41361453720127, state.resource=0\n",
      "time=0, obj=0.0, s.resource=1, s.price=16, x=Decision(sell=0, hold=1)\n",
      "coin  0.09168318648059992  curr_bias  Up  new_bias  Up\n",
      "alpha = 4.0,prev_price = 16\n",
      "time=1, obj=0.0, s.resource=1, s.price=19.54492051852451, x=Decision(sell=0, hold=1)\n",
      "coin  0.9746533545172668  curr_bias  Up  new_bias  Neutral\n",
      "alpha = 4.0,prev_price = 19.54492051852451\n",
      "time=2, obj=0.0, s.resource=1, s.price=16.93547988534935, x=Decision(sell=1, hold=0)\n",
      "coin  0.845463715621411  curr_bias  Neutral  new_bias  Down\n",
      "obj=16.93547988534935, state.resource=0\n",
      "time=0, obj=0.0, s.resource=1, s.price=16, x=Decision(sell=0, hold=1)\n",
      "coin  0.7718855570743978  curr_bias  Up  new_bias  Up\n",
      "alpha = 4.0,prev_price = 16\n",
      "time=1, obj=0.0, s.resource=1, s.price=15.397661463642024, x=Decision(sell=1, hold=0)\n",
      "coin  0.058599417274914245  curr_bias  Up  new_bias  Up\n",
      "obj=15.397661463642024, state.resource=0\n",
      "time=0, obj=0.0, s.resource=1, s.price=16, x=Decision(sell=0, hold=1)\n",
      "coin  0.5630457710972723  curr_bias  Up  new_bias  Up\n",
      "alpha = 4.0,prev_price = 16\n",
      "time=1, obj=0.0, s.resource=1, s.price=15.601160349553894, x=Decision(sell=1, hold=0)\n",
      "coin  0.6337684851009756  curr_bias  Up  new_bias  Up\n",
      "obj=15.601160349553894, state.resource=0\n",
      "time=0, obj=0.0, s.resource=1, s.price=16, x=Decision(sell=0, hold=1)\n",
      "coin  0.32637382885748367  curr_bias  Up  new_bias  Up\n",
      "alpha = 4.0,prev_price = 16\n",
      "time=1, obj=0.0, s.resource=1, s.price=19.30931856683528, x=Decision(sell=0, hold=1)\n",
      "coin  0.010789716774533442  curr_bias  Up  new_bias  Up\n",
      "alpha = 4.0,prev_price = 19.30931856683528\n",
      "time=2, obj=0.0, s.resource=1, s.price=20.57123121070621, x=Decision(sell=0, hold=1)\n",
      "coin  0.10655404328873319  curr_bias  Up  new_bias  Up\n",
      "alpha = 4.0,prev_price = 20.57123121070621\n",
      "time=3, obj=0.0, s.resource=1, s.price=23.65775469565424, x=Decision(sell=0, hold=1)\n",
      "coin  0.2744609047476718  curr_bias  Up  new_bias  Up\n",
      "alpha = 4.0,prev_price = 23.65775469565424\n",
      "time=4, obj=0.0, s.resource=1, s.price=22.795735744709045, x=Decision(sell=1, hold=0)\n",
      "coin  0.7876352836985036  curr_bias  Up  new_bias  Up\n",
      "obj=22.795735744709045, state.resource=0\n",
      "time=0, obj=0.0, s.resource=1, s.price=16, x=Decision(sell=0, hold=1)\n",
      "coin  0.5732916894272274  curr_bias  Up  new_bias  Up\n",
      "alpha = 4.0,prev_price = 16\n",
      "time=1, obj=0.0, s.resource=1, s.price=18.82950721784333, x=Decision(sell=0, hold=1)\n",
      "coin  0.25230738226248894  curr_bias  Up  new_bias  Up\n",
      "alpha = 4.0,prev_price = 18.82950721784333\n",
      "time=2, obj=0.0, s.resource=1, s.price=22.173455472137675, x=Decision(sell=0, hold=1)\n",
      "coin  0.34703831077049807  curr_bias  Up  new_bias  Up\n",
      "alpha = 4.0,prev_price = 22.173455472137675\n",
      "time=3, obj=0.0, s.resource=1, s.price=22.176324070451372, x=Decision(sell=0, hold=1)\n",
      "coin  0.020311694923608736  curr_bias  Up  new_bias  Up\n",
      "alpha = 4.0,prev_price = 22.176324070451372\n",
      "time=4, obj=0.0, s.resource=1, s.price=25.82098819098841, x=Decision(sell=0, hold=1)\n",
      "coin  0.5773741485181105  curr_bias  Up  new_bias  Up\n",
      "alpha = 4.0,prev_price = 25.82098819098841\n",
      "time=5, obj=0.0, s.resource=1, s.price=24.243902947987433, x=Decision(sell=1, hold=0)\n",
      "coin  0.9296106478220897  curr_bias  Up  new_bias  Neutral\n",
      "obj=24.243902947987433, state.resource=0\n",
      "time=0, obj=0.0, s.resource=1, s.price=16, x=Decision(sell=0, hold=1)\n",
      "coin  0.4326408307147147  curr_bias  Up  new_bias  Up\n",
      "alpha = 4.0,prev_price = 16\n",
      "time=1, obj=0.0, s.resource=1, s.price=19.44659502367821, x=Decision(sell=0, hold=1)\n",
      "coin  0.9844689697230611  curr_bias  Up  new_bias  Neutral\n",
      "alpha = 4.0,prev_price = 19.44659502367821\n",
      "time=2, obj=0.0, s.resource=1, s.price=16.84685532652269, x=Decision(sell=1, hold=0)\n",
      "coin  0.8262653217404742  curr_bias  Neutral  new_bias  Down\n",
      "obj=16.84685532652269, state.resource=0\n",
      "time=0, obj=0.0, s.resource=1, s.price=16, x=Decision(sell=0, hold=1)\n",
      "coin  0.4433318705856356  curr_bias  Up  new_bias  Up\n",
      "alpha = 4.0,prev_price = 16\n",
      "time=1, obj=0.0, s.resource=1, s.price=13.103911000739522, x=Decision(sell=1, hold=0)\n",
      "coin  0.6753561026946597  curr_bias  Up  new_bias  Up\n",
      "obj=13.103911000739522, state.resource=0\n",
      "time=0, obj=0.0, s.resource=1, s.price=16, x=Decision(sell=0, hold=1)\n",
      "coin  0.8662383958568906  curr_bias  Up  new_bias  Up\n",
      "alpha = 4.0,prev_price = 16\n",
      "time=1, obj=0.0, s.resource=1, s.price=22.33800862434439, x=Decision(sell=0, hold=1)\n",
      "coin  0.9282091767826981  curr_bias  Up  new_bias  Neutral\n",
      "alpha = 4.0,prev_price = 22.33800862434439\n",
      "time=2, obj=0.0, s.resource=1, s.price=22.959096047731283, x=Decision(sell=0, hold=1)\n",
      "coin  0.3886605993398763  curr_bias  Neutral  new_bias  Neutral\n",
      "alpha = 4.0,prev_price = 22.959096047731283\n",
      "time=3, obj=0.0, s.resource=1, s.price=24.3305666499575, x=Decision(sell=0, hold=1)\n",
      "coin  0.7922183625790814  curr_bias  Neutral  new_bias  Neutral\n",
      "alpha = 4.0,prev_price = 24.3305666499575\n",
      "time=4, obj=0.0, s.resource=1, s.price=20.26712226359752, x=Decision(sell=1, hold=0)\n",
      "coin  0.7101424377623707  curr_bias  Neutral  new_bias  Neutral\n",
      "obj=20.26712226359752, state.resource=0\n",
      "Contribution per iteration: \n",
      "0    15.844214\n",
      "1    17.413615\n",
      "2    16.935480\n",
      "3    15.397661\n",
      "4    15.601160\n",
      "5    22.795736\n",
      "6    24.243903\n",
      "7    16.846855\n",
      "8    13.103911\n",
      "9    20.267122\n",
      "dtype: float64\n",
      "Cumulative average contribution per iteration: \n",
      "0    15.844214\n",
      "1    16.628914\n",
      "2    16.731103\n",
      "3    16.397742\n",
      "4    16.238426\n",
      "5    17.331311\n",
      "6    18.318824\n",
      "7    18.134828\n",
      "8    17.575837\n",
      "9    17.844966\n",
      "dtype: float64\n"
     ]
    },
    {
     "data": {
      "image/png": "[encoded data removed]",
      "text/plain": [
       "<Figure size 432x288 with 3 Axes>"
      ]
     },
     "metadata": {
      "needs_background": "light"
     },
     "output_type": "display_data"
    }
   ],
   "source": [
    "#if (not policy_selected =='full_grid'):\n",
    "print(\"Selected policy {}, time horizon {}, initial price {} and number of iterations {}\".format(policy_selected,T,initPrice,nIterations))\n",
    "contribution_iterations=[P.run_policy(param_list, policy_info, policy_selected, t) for ite in list(range(nIterations))]\n",
    "\n",
    "contribution_iterations = pd.Series(contribution_iterations)\n",
    "print(\"Contribution per iteration: \")\n",
    "print(contribution_iterations)\n",
    "cum_avg_contrib = contribution_iterations.expanding().mean()\n",
    "print(\"Cumulative average contribution per iteration: \")\n",
    "print(cum_avg_contrib)\n",
    "        \n",
    "#plotting the results\n",
    "\n",
    "fig, axsubs = plt.subplots(1,2,sharex=True,sharey=True)\n",
    "fig.suptitle(\"Asset selling using policy {} with parameters {} and T {}\".format(policy_selected,policy_info[policy_selected],T) )\n",
    "i = np.arange(0, nIterations, 1)\n",
    "        \n",
    "axsubs[0].plot(i, cum_avg_contrib, 'g')\n",
    "axsubs[0].set_title('Cumulative average contribution')\n",
    "          \n",
    "axsubs[1].plot(i, contribution_iterations, 'g')\n",
    "axsubs[1].set_title('Contribution per iteration')\n",
    "        \n",
    "    \n",
    "# Create a big subplot\n",
    "ax = fig.add_subplot(111, frameon=False)\n",
    "# hide tick and tick label of the big axes\n",
    "plt.tick_params(labelcolor='none', top=False, bottom=False, left=False, right=False)\n",
    "\n",
    "ax.set_ylabel('USD', labelpad=0) # Use argument `labelpad` to move label downwards.\n",
    "ax.set_xlabel('Iterations', labelpad=10)\n",
    "        \n",
    "plt.show()\n",
    "        \n"
   ]
  },
  {
   "cell_type": "code",
   "execution_count": 22,
   "metadata": {},
   "outputs": [],
   "source": [
    "policy_selected =='full_grid'\n",
    "# obtain the theta values to carry out a full grid search\n",
    "grid_search_theta_values = P.grid_search_theta_values(sheet2['low_min'], sheet2['low_max'], sheet2['high_min'], sheet2['high_max'], sheet2['increment_size'])\n",
    "# use those theta values to calculate corresponding contribution values"
   ]
  },
  {
   "cell_type": "code",
   "execution_count": 23,
   "metadata": {},
   "outputs": [
    {
     "data": {
      "text/plain": [
       "25"
      ]
     },
     "execution_count": 23,
     "metadata": {},
     "output_type": "execute_result"
    }
   ],
   "source": [
    "len(grid_search_theta_values[0])"
   ]
  },
  {
   "cell_type": "code",
   "execution_count": 24,
   "metadata": {},
   "outputs": [
    {
     "name": "stdout",
     "output_type": "stream",
     "text": [
      "policy_dict={'sell_low': (2, nan), 'high_low': (array([0.]), array([0.01])), 'track': (0, 4.0, 20.26712226359752)}\n",
      "time=0, obj=0.0, s.resource=1, s.price=16, x=Decision(sell=1, hold=0)\n",
      "coin  0.059625827446253  curr_bias  Up  new_bias  Up\n",
      "obj=16.0, state.resource=0\n",
      "policy_dict={'sell_low': (2, nan), 'high_low': (array([0.]), array([1.2575])), 'track': (0, 4.0, 20.26712226359752)}\n",
      "time=0, obj=0.0, s.resource=1, s.price=16, x=Decision(sell=1, hold=0)\n",
      "coin  0.5477912175212573  curr_bias  Up  new_bias  Up\n",
      "obj=16.0, state.resource=0\n",
      "policy_dict={'sell_low': (2, nan), 'high_low': (array([0.]), array([2.505])), 'track': (0, 4.0, 20.26712226359752)}\n",
      "time=0, obj=0.0, s.resource=1, s.price=16, x=Decision(sell=1, hold=0)\n",
      "coin  0.3124863733250671  curr_bias  Up  new_bias  Up\n",
      "obj=16.0, state.resource=0\n",
      "policy_dict={'sell_low': (2, nan), 'high_low': (array([0.]), array([3.7525])), 'track': (0, 4.0, 20.26712226359752)}\n",
      "time=0, obj=0.0, s.resource=1, s.price=16, x=Decision(sell=1, hold=0)\n",
      "coin  0.10313373740931653  curr_bias  Up  new_bias  Up\n",
      "obj=16.0, state.resource=0\n",
      "policy_dict={'sell_low': (2, nan), 'high_low': (array([0.]), array([5.])), 'track': (0, 4.0, 20.26712226359752)}\n",
      "time=0, obj=0.0, s.resource=1, s.price=16, x=Decision(sell=1, hold=0)\n",
      "coin  0.9406508051209478  curr_bias  Up  new_bias  Neutral\n",
      "obj=16.0, state.resource=0\n",
      "policy_dict={'sell_low': (2, nan), 'high_low': (array([0.]), array([0.01])), 'track': (0, 4.0, 20.26712226359752)}\n",
      "time=0, obj=0.0, s.resource=1, s.price=16, x=Decision(sell=1, hold=0)\n",
      "coin  0.1684888435118309  curr_bias  Up  new_bias  Up\n",
      "obj=16.0, state.resource=0\n",
      "policy_dict={'sell_low': (2, nan), 'high_low': (array([0.]), array([1.2575])), 'track': (0, 4.0, 20.26712226359752)}\n",
      "time=0, obj=0.0, s.resource=1, s.price=16, x=Decision(sell=1, hold=0)\n",
      "coin  0.5596119153998756  curr_bias  Up  new_bias  Up\n",
      "obj=16.0, state.resource=0\n",
      "policy_dict={'sell_low': (2, nan), 'high_low': (array([0.]), array([2.505])), 'track': (0, 4.0, 20.26712226359752)}\n",
      "time=0, obj=0.0, s.resource=1, s.price=16, x=Decision(sell=1, hold=0)\n",
      "coin  0.0822272722864622  curr_bias  Up  new_bias  Up\n",
      "obj=16.0, state.resource=0\n",
      "policy_dict={'sell_low': (2, nan), 'high_low': (array([0.]), array([3.7525])), 'track': (0, 4.0, 20.26712226359752)}\n",
      "time=0, obj=0.0, s.resource=1, s.price=16, x=Decision(sell=1, hold=0)\n",
      "coin  0.5274427850588601  curr_bias  Up  new_bias  Up\n",
      "obj=16.0, state.resource=0\n",
      "policy_dict={'sell_low': (2, nan), 'high_low': (array([0.]), array([5.])), 'track': (0, 4.0, 20.26712226359752)}\n",
      "time=0, obj=0.0, s.resource=1, s.price=16, x=Decision(sell=1, hold=0)\n",
      "coin  0.659612184607769  curr_bias  Up  new_bias  Up\n",
      "obj=16.0, state.resource=0\n",
      "policy_dict={'sell_low': (2, nan), 'high_low': (array([0.]), array([0.01])), 'track': (0, 4.0, 20.26712226359752)}\n",
      "time=0, obj=0.0, s.resource=1, s.price=16, x=Decision(sell=1, hold=0)\n",
      "coin  0.8192467709434913  curr_bias  Up  new_bias  Up\n",
      "obj=16.0, state.resource=0\n",
      "policy_dict={'sell_low': (2, nan), 'high_low': (array([0.]), array([1.2575])), 'track': (0, 4.0, 20.26712226359752)}\n",
      "time=0, obj=0.0, s.resource=1, s.price=16, x=Decision(sell=1, hold=0)\n",
      "coin  0.7904571341772412  curr_bias  Up  new_bias  Up\n",
      "obj=16.0, state.resource=0\n",
      "policy_dict={'sell_low': (2, nan), 'high_low': (array([0.]), array([2.505])), 'track': (0, 4.0, 20.26712226359752)}\n",
      "time=0, obj=0.0, s.resource=1, s.price=16, x=Decision(sell=1, hold=0)\n",
      "coin  0.48277880352613  curr_bias  Up  new_bias  Up\n",
      "obj=16.0, state.resource=0\n",
      "policy_dict={'sell_low': (2, nan), 'high_low': (array([0.]), array([3.7525])), 'track': (0, 4.0, 20.26712226359752)}\n",
      "time=0, obj=0.0, s.resource=1, s.price=16, x=Decision(sell=1, hold=0)\n",
      "coin  0.6008635295301037  curr_bias  Up  new_bias  Up\n",
      "obj=16.0, state.resource=0\n",
      "policy_dict={'sell_low': (2, nan), 'high_low': (array([0.]), array([5.])), 'track': (0, 4.0, 20.26712226359752)}\n",
      "time=0, obj=0.0, s.resource=1, s.price=16, x=Decision(sell=1, hold=0)\n",
      "coin  0.01567889516764942  curr_bias  Up  new_bias  Up\n",
      "obj=16.0, state.resource=0\n",
      "policy_dict={'sell_low': (2, nan), 'high_low': (array([0.]), array([0.01])), 'track': (0, 4.0, 20.26712226359752)}\n",
      "time=0, obj=0.0, s.resource=1, s.price=16, x=Decision(sell=1, hold=0)\n",
      "coin  0.015198329473851135  curr_bias  Up  new_bias  Up\n",
      "obj=16.0, state.resource=0\n",
      "policy_dict={'sell_low': (2, nan), 'high_low': (array([0.]), array([1.2575])), 'track': (0, 4.0, 20.26712226359752)}\n",
      "time=0, obj=0.0, s.resource=1, s.price=16, x=Decision(sell=1, hold=0)\n",
      "coin  0.04416605401500773  curr_bias  Up  new_bias  Up\n",
      "obj=16.0, state.resource=0\n",
      "policy_dict={'sell_low': (2, nan), 'high_low': (array([0.]), array([2.505])), 'track': (0, 4.0, 20.26712226359752)}\n",
      "time=0, obj=0.0, s.resource=1, s.price=16, x=Decision(sell=1, hold=0)\n",
      "coin  0.3819335365697125  curr_bias  Up  new_bias  Up\n",
      "obj=16.0, state.resource=0\n",
      "policy_dict={'sell_low': (2, nan), 'high_low': (array([0.]), array([3.7525])), 'track': (0, 4.0, 20.26712226359752)}\n",
      "time=0, obj=0.0, s.resource=1, s.price=16, x=Decision(sell=1, hold=0)\n",
      "coin  0.7016407254976783  curr_bias  Up  new_bias  Up\n",
      "obj=16.0, state.resource=0\n",
      "policy_dict={'sell_low': (2, nan), 'high_low': (array([0.]), array([5.])), 'track': (0, 4.0, 20.26712226359752)}\n",
      "time=0, obj=0.0, s.resource=1, s.price=16, x=Decision(sell=1, hold=0)\n",
      "coin  0.4200826679344263  curr_bias  Up  new_bias  Up\n",
      "obj=16.0, state.resource=0\n",
      "policy_dict={'sell_low': (2, nan), 'high_low': (array([0.]), array([0.01])), 'track': (0, 4.0, 20.26712226359752)}\n",
      "time=0, obj=0.0, s.resource=1, s.price=16, x=Decision(sell=1, hold=0)\n",
      "coin  0.5958557808984619  curr_bias  Up  new_bias  Up\n",
      "obj=16.0, state.resource=0\n",
      "policy_dict={'sell_low': (2, nan), 'high_low': (array([0.]), array([1.2575])), 'track': (0, 4.0, 20.26712226359752)}\n",
      "time=0, obj=0.0, s.resource=1, s.price=16, x=Decision(sell=1, hold=0)\n",
      "coin  0.6582979525387146  curr_bias  Up  new_bias  Up\n",
      "obj=16.0, state.resource=0\n",
      "policy_dict={'sell_low': (2, nan), 'high_low': (array([0.]), array([2.505])), 'track': (0, 4.0, 20.26712226359752)}\n",
      "time=0, obj=0.0, s.resource=1, s.price=16, x=Decision(sell=1, hold=0)\n",
      "coin  0.19715303016648633  curr_bias  Up  new_bias  Up\n",
      "obj=16.0, state.resource=0\n",
      "policy_dict={'sell_low': (2, nan), 'high_low': (array([0.]), array([3.7525])), 'track': (0, 4.0, 20.26712226359752)}\n",
      "time=0, obj=0.0, s.resource=1, s.price=16, x=Decision(sell=1, hold=0)\n",
      "coin  0.2614885787921005  curr_bias  Up  new_bias  Up\n",
      "obj=16.0, state.resource=0\n",
      "policy_dict={'sell_low': (2, nan), 'high_low': (array([0.]), array([5.])), 'track': (0, 4.0, 20.26712226359752)}\n",
      "time=0, obj=0.0, s.resource=1, s.price=16, x=Decision(sell=1, hold=0)\n",
      "coin  0.35641422250624544  curr_bias  Up  new_bias  Up\n",
      "obj=16.0, state.resource=0\n",
      "policy_dict={'sell_low': (2, nan), 'high_low': (array([0.]), array([0.01])), 'track': (0, 4.0, 20.26712226359752)}\n",
      "time=0, obj=0.0, s.resource=1, s.price=16, x=Decision(sell=1, hold=0)\n",
      "coin  0.08552695016328382  curr_bias  Up  new_bias  Up\n",
      "obj=16.0, state.resource=0\n",
      "policy_dict={'sell_low': (2, nan), 'high_low': (array([0.]), array([1.2575])), 'track': (0, 4.0, 20.26712226359752)}\n",
      "time=0, obj=0.0, s.resource=1, s.price=16, x=Decision(sell=1, hold=0)\n",
      "coin  0.3661581557710999  curr_bias  Up  new_bias  Up\n",
      "obj=16.0, state.resource=0\n",
      "policy_dict={'sell_low': (2, nan), 'high_low': (array([0.]), array([2.505])), 'track': (0, 4.0, 20.26712226359752)}\n",
      "time=0, obj=0.0, s.resource=1, s.price=16, x=Decision(sell=1, hold=0)\n",
      "coin  0.09180613281881622  curr_bias  Up  new_bias  Up\n",
      "obj=16.0, state.resource=0\n",
      "policy_dict={'sell_low': (2, nan), 'high_low': (array([0.]), array([3.7525])), 'track': (0, 4.0, 20.26712226359752)}\n",
      "time=0, obj=0.0, s.resource=1, s.price=16, x=Decision(sell=1, hold=0)\n",
      "coin  0.3302079574424508  curr_bias  Up  new_bias  Up\n",
      "obj=16.0, state.resource=0\n",
      "policy_dict={'sell_low': (2, nan), 'high_low': (array([0.]), array([5.])), 'track': (0, 4.0, 20.26712226359752)}\n",
      "time=0, obj=0.0, s.resource=1, s.price=16, x=Decision(sell=1, hold=0)\n",
      "coin  0.05542327085207277  curr_bias  Up  new_bias  Up\n",
      "obj=16.0, state.resource=0\n",
      "policy_dict={'sell_low': (2, nan), 'high_low': (array([0.]), array([0.01])), 'track': (0, 4.0, 20.26712226359752)}\n",
      "time=0, obj=0.0, s.resource=1, s.price=16, x=Decision(sell=1, hold=0)\n",
      "coin  0.6495978578496083  curr_bias  Up  new_bias  Up\n",
      "obj=16.0, state.resource=0\n",
      "policy_dict={'sell_low': (2, nan), 'high_low': (array([0.]), array([1.2575])), 'track': (0, 4.0, 20.26712226359752)}\n",
      "time=0, obj=0.0, s.resource=1, s.price=16, x=Decision(sell=1, hold=0)\n",
      "coin  0.4950676887318336  curr_bias  Up  new_bias  Up\n",
      "obj=16.0, state.resource=0\n",
      "policy_dict={'sell_low': (2, nan), 'high_low': (array([0.]), array([2.505])), 'track': (0, 4.0, 20.26712226359752)}\n",
      "time=0, obj=0.0, s.resource=1, s.price=16, x=Decision(sell=1, hold=0)\n",
      "coin  0.20487328024557938  curr_bias  Up  new_bias  Up\n",
      "obj=16.0, state.resource=0\n",
      "policy_dict={'sell_low': (2, nan), 'high_low': (array([0.]), array([3.7525])), 'track': (0, 4.0, 20.26712226359752)}\n",
      "time=0, obj=0.0, s.resource=1, s.price=16, x=Decision(sell=1, hold=0)\n",
      "coin  0.8941509386415077  curr_bias  Up  new_bias  Up\n",
      "obj=16.0, state.resource=0\n",
      "policy_dict={'sell_low': (2, nan), 'high_low': (array([0.]), array([5.])), 'track': (0, 4.0, 20.26712226359752)}\n",
      "time=0, obj=0.0, s.resource=1, s.price=16, x=Decision(sell=1, hold=0)\n",
      "coin  0.08348619481447239  curr_bias  Up  new_bias  Up\n",
      "obj=16.0, state.resource=0\n",
      "policy_dict={'sell_low': (2, nan), 'high_low': (array([0.]), array([0.01])), 'track': (0, 4.0, 20.26712226359752)}\n",
      "time=0, obj=0.0, s.resource=1, s.price=16, x=Decision(sell=1, hold=0)\n",
      "coin  0.7729678258663791  curr_bias  Up  new_bias  Up\n",
      "obj=16.0, state.resource=0\n",
      "policy_dict={'sell_low': (2, nan), 'high_low': (array([0.]), array([1.2575])), 'track': (0, 4.0, 20.26712226359752)}\n",
      "time=0, obj=0.0, s.resource=1, s.price=16, x=Decision(sell=1, hold=0)\n",
      "coin  0.6976020329558196  curr_bias  Up  new_bias  Up\n",
      "obj=16.0, state.resource=0\n",
      "policy_dict={'sell_low': (2, nan), 'high_low': (array([0.]), array([2.505])), 'track': (0, 4.0, 20.26712226359752)}\n",
      "time=0, obj=0.0, s.resource=1, s.price=16, x=Decision(sell=1, hold=0)\n",
      "coin  0.5135025049203482  curr_bias  Up  new_bias  Up\n",
      "obj=16.0, state.resource=0\n",
      "policy_dict={'sell_low': (2, nan), 'high_low': (array([0.]), array([3.7525])), 'track': (0, 4.0, 20.26712226359752)}\n",
      "time=0, obj=0.0, s.resource=1, s.price=16, x=Decision(sell=1, hold=0)\n",
      "coin  0.5469790907067655  curr_bias  Up  new_bias  Up\n",
      "obj=16.0, state.resource=0\n",
      "policy_dict={'sell_low': (2, nan), 'high_low': (array([0.]), array([5.])), 'track': (0, 4.0, 20.26712226359752)}\n",
      "time=0, obj=0.0, s.resource=1, s.price=16, x=Decision(sell=1, hold=0)\n",
      "coin  0.3183849411530906  curr_bias  Up  new_bias  Up\n",
      "obj=16.0, state.resource=0\n",
      "policy_dict={'sell_low': (2, nan), 'high_low': (array([0.]), array([0.01])), 'track': (0, 4.0, 20.26712226359752)}\n",
      "time=0, obj=0.0, s.resource=1, s.price=16, x=Decision(sell=1, hold=0)\n",
      "coin  0.17631349173733113  curr_bias  Up  new_bias  Up\n",
      "obj=16.0, state.resource=0\n",
      "policy_dict={'sell_low': (2, nan), 'high_low': (array([0.]), array([1.2575])), 'track': (0, 4.0, 20.26712226359752)}\n",
      "time=0, obj=0.0, s.resource=1, s.price=16, x=Decision(sell=1, hold=0)\n",
      "coin  0.5186201296745278  curr_bias  Up  new_bias  Up\n",
      "obj=16.0, state.resource=0\n",
      "policy_dict={'sell_low': (2, nan), 'high_low': (array([0.]), array([2.505])), 'track': (0, 4.0, 20.26712226359752)}\n",
      "time=0, obj=0.0, s.resource=1, s.price=16, x=Decision(sell=1, hold=0)\n",
      "coin  0.3146362725997548  curr_bias  Up  new_bias  Up\n",
      "obj=16.0, state.resource=0\n",
      "policy_dict={'sell_low': (2, nan), 'high_low': (array([0.]), array([3.7525])), 'track': (0, 4.0, 20.26712226359752)}\n",
      "time=0, obj=0.0, s.resource=1, s.price=16, x=Decision(sell=1, hold=0)\n",
      "coin  0.7619000213669831  curr_bias  Up  new_bias  Up\n",
      "obj=16.0, state.resource=0\n",
      "policy_dict={'sell_low': (2, nan), 'high_low': (array([0.]), array([5.])), 'track': (0, 4.0, 20.26712226359752)}\n",
      "time=0, obj=0.0, s.resource=1, s.price=16, x=Decision(sell=1, hold=0)\n",
      "coin  0.1548372299232612  curr_bias  Up  new_bias  Up\n",
      "obj=16.0, state.resource=0\n",
      "policy_dict={'sell_low': (2, nan), 'high_low': (array([0.]), array([0.01])), 'track': (0, 4.0, 20.26712226359752)}\n",
      "time=0, obj=0.0, s.resource=1, s.price=16, x=Decision(sell=1, hold=0)\n",
      "coin  0.7417806973519159  curr_bias  Up  new_bias  Up\n",
      "obj=16.0, state.resource=0\n",
      "policy_dict={'sell_low': (2, nan), 'high_low': (array([0.]), array([1.2575])), 'track': (0, 4.0, 20.26712226359752)}\n",
      "time=0, obj=0.0, s.resource=1, s.price=16, x=Decision(sell=1, hold=0)\n",
      "coin  0.8138742254236002  curr_bias  Up  new_bias  Up\n",
      "obj=16.0, state.resource=0\n",
      "policy_dict={'sell_low': (2, nan), 'high_low': (array([0.]), array([2.505])), 'track': (0, 4.0, 20.26712226359752)}\n",
      "time=0, obj=0.0, s.resource=1, s.price=16, x=Decision(sell=1, hold=0)\n",
      "coin  0.9958617901494262  curr_bias  Up  new_bias  Neutral\n",
      "obj=16.0, state.resource=0\n",
      "policy_dict={'sell_low': (2, nan), 'high_low': (array([0.]), array([3.7525])), 'track': (0, 4.0, 20.26712226359752)}\n",
      "time=0, obj=0.0, s.resource=1, s.price=16, x=Decision(sell=1, hold=0)\n",
      "coin  0.2814278972459371  curr_bias  Up  new_bias  Up\n",
      "obj=16.0, state.resource=0\n",
      "policy_dict={'sell_low': (2, nan), 'high_low': (array([0.]), array([5.])), 'track': (0, 4.0, 20.26712226359752)}\n",
      "time=0, obj=0.0, s.resource=1, s.price=16, x=Decision(sell=1, hold=0)\n",
      "coin  0.4478735178748525  curr_bias  Up  new_bias  Up\n",
      "obj=16.0, state.resource=0\n",
      "policy_dict={'sell_low': (2, nan), 'high_low': (array([0.]), array([0.01])), 'track': (0, 4.0, 20.26712226359752)}\n",
      "time=0, obj=0.0, s.resource=1, s.price=16, x=Decision(sell=1, hold=0)\n",
      "coin  0.7635280109100959  curr_bias  Up  new_bias  Up\n",
      "obj=16.0, state.resource=0\n",
      "policy_dict={'sell_low': (2, nan), 'high_low': (array([0.]), array([1.2575])), 'track': (0, 4.0, 20.26712226359752)}\n",
      "time=0, obj=0.0, s.resource=1, s.price=16, x=Decision(sell=1, hold=0)\n",
      "coin  0.6345585884352359  curr_bias  Up  new_bias  Up\n",
      "obj=16.0, state.resource=0\n",
      "policy_dict={'sell_low': (2, nan), 'high_low': (array([0.]), array([2.505])), 'track': (0, 4.0, 20.26712226359752)}\n",
      "time=0, obj=0.0, s.resource=1, s.price=16, x=Decision(sell=1, hold=0)\n",
      "coin  0.3908406643529526  curr_bias  Up  new_bias  Up\n",
      "obj=16.0, state.resource=0\n",
      "policy_dict={'sell_low': (2, nan), 'high_low': (array([0.]), array([3.7525])), 'track': (0, 4.0, 20.26712226359752)}\n",
      "time=0, obj=0.0, s.resource=1, s.price=16, x=Decision(sell=1, hold=0)\n",
      "coin  0.5110902280758459  curr_bias  Up  new_bias  Up\n",
      "obj=16.0, state.resource=0\n",
      "policy_dict={'sell_low': (2, nan), 'high_low': (array([0.]), array([5.])), 'track': (0, 4.0, 20.26712226359752)}\n",
      "time=0, obj=0.0, s.resource=1, s.price=16, x=Decision(sell=1, hold=0)\n",
      "coin  0.23869951689225555  curr_bias  Up  new_bias  Up\n",
      "obj=16.0, state.resource=0\n",
      "policy_dict={'sell_low': (2, nan), 'high_low': (array([0.]), array([0.01])), 'track': (0, 4.0, 20.26712226359752)}\n",
      "time=0, obj=0.0, s.resource=1, s.price=16, x=Decision(sell=1, hold=0)\n",
      "coin  0.8752818516301238  curr_bias  Up  new_bias  Up\n",
      "obj=16.0, state.resource=0\n",
      "policy_dict={'sell_low': (2, nan), 'high_low': (array([0.]), array([1.2575])), 'track': (0, 4.0, 20.26712226359752)}\n",
      "time=0, obj=0.0, s.resource=1, s.price=16, x=Decision(sell=1, hold=0)\n",
      "coin  0.25143609145860135  curr_bias  Up  new_bias  Up\n",
      "obj=16.0, state.resource=0\n",
      "policy_dict={'sell_low': (2, nan), 'high_low': (array([0.]), array([2.505])), 'track': (0, 4.0, 20.26712226359752)}\n",
      "time=0, obj=0.0, s.resource=1, s.price=16, x=Decision(sell=1, hold=0)\n",
      "coin  0.27106862367576967  curr_bias  Up  new_bias  Up\n",
      "obj=16.0, state.resource=0\n",
      "policy_dict={'sell_low': (2, nan), 'high_low': (array([0.]), array([3.7525])), 'track': (0, 4.0, 20.26712226359752)}\n",
      "time=0, obj=0.0, s.resource=1, s.price=16, x=Decision(sell=1, hold=0)\n",
      "coin  0.8241729519750237  curr_bias  Up  new_bias  Up\n",
      "obj=16.0, state.resource=0\n",
      "policy_dict={'sell_low': (2, nan), 'high_low': (array([0.]), array([5.])), 'track': (0, 4.0, 20.26712226359752)}\n",
      "time=0, obj=0.0, s.resource=1, s.price=16, x=Decision(sell=1, hold=0)\n",
      "coin  0.5646394830128394  curr_bias  Up  new_bias  Up\n",
      "obj=16.0, state.resource=0\n",
      "policy_dict={'sell_low': (2, nan), 'high_low': (array([0.]), array([0.01])), 'track': (0, 4.0, 20.26712226359752)}\n",
      "time=0, obj=0.0, s.resource=1, s.price=16, x=Decision(sell=1, hold=0)\n",
      "coin  0.42612102625298676  curr_bias  Up  new_bias  Up\n",
      "obj=16.0, state.resource=0\n",
      "policy_dict={'sell_low': (2, nan), 'high_low': (array([0.]), array([1.2575])), 'track': (0, 4.0, 20.26712226359752)}\n",
      "time=0, obj=0.0, s.resource=1, s.price=16, x=Decision(sell=1, hold=0)\n",
      "coin  0.8128832648501544  curr_bias  Up  new_bias  Up\n",
      "obj=16.0, state.resource=0\n",
      "policy_dict={'sell_low': (2, nan), 'high_low': (array([0.]), array([2.505])), 'track': (0, 4.0, 20.26712226359752)}\n",
      "time=0, obj=0.0, s.resource=1, s.price=16, x=Decision(sell=1, hold=0)\n",
      "coin  0.27005933402811255  curr_bias  Up  new_bias  Up\n",
      "obj=16.0, state.resource=0\n",
      "policy_dict={'sell_low': (2, nan), 'high_low': (array([0.]), array([3.7525])), 'track': (0, 4.0, 20.26712226359752)}\n",
      "time=0, obj=0.0, s.resource=1, s.price=16, x=Decision(sell=1, hold=0)\n",
      "coin  0.053376652731436325  curr_bias  Up  new_bias  Up\n",
      "obj=16.0, state.resource=0\n",
      "policy_dict={'sell_low': (2, nan), 'high_low': (array([0.]), array([5.])), 'track': (0, 4.0, 20.26712226359752)}\n",
      "time=0, obj=0.0, s.resource=1, s.price=16, x=Decision(sell=1, hold=0)\n",
      "coin  0.3945020025393071  curr_bias  Up  new_bias  Up\n",
      "obj=16.0, state.resource=0\n",
      "policy_dict={'sell_low': (2, nan), 'high_low': (array([0.]), array([0.01])), 'track': (0, 4.0, 20.26712226359752)}\n",
      "time=0, obj=0.0, s.resource=1, s.price=16, x=Decision(sell=1, hold=0)\n",
      "coin  0.7954696765266511  curr_bias  Up  new_bias  Up\n",
      "obj=16.0, state.resource=0\n",
      "policy_dict={'sell_low': (2, nan), 'high_low': (array([0.]), array([1.2575])), 'track': (0, 4.0, 20.26712226359752)}\n",
      "time=0, obj=0.0, s.resource=1, s.price=16, x=Decision(sell=1, hold=0)\n",
      "coin  0.947339595548537  curr_bias  Up  new_bias  Neutral\n",
      "obj=16.0, state.resource=0\n",
      "policy_dict={'sell_low': (2, nan), 'high_low': (array([0.]), array([2.505])), 'track': (0, 4.0, 20.26712226359752)}\n",
      "time=0, obj=0.0, s.resource=1, s.price=16, x=Decision(sell=1, hold=0)\n",
      "coin  0.4952181013536874  curr_bias  Up  new_bias  Up\n",
      "obj=16.0, state.resource=0\n",
      "policy_dict={'sell_low': (2, nan), 'high_low': (array([0.]), array([3.7525])), 'track': (0, 4.0, 20.26712226359752)}\n",
      "time=0, obj=0.0, s.resource=1, s.price=16, x=Decision(sell=1, hold=0)\n",
      "coin  0.08796455529133362  curr_bias  Up  new_bias  Up\n",
      "obj=16.0, state.resource=0\n",
      "policy_dict={'sell_low': (2, nan), 'high_low': (array([0.]), array([5.])), 'track': (0, 4.0, 20.26712226359752)}\n",
      "time=0, obj=0.0, s.resource=1, s.price=16, x=Decision(sell=1, hold=0)\n",
      "coin  0.5675620265959185  curr_bias  Up  new_bias  Up\n",
      "obj=16.0, state.resource=0\n",
      "policy_dict={'sell_low': (2, nan), 'high_low': (array([0.]), array([0.01])), 'track': (0, 4.0, 20.26712226359752)}\n",
      "time=0, obj=0.0, s.resource=1, s.price=16, x=Decision(sell=1, hold=0)\n",
      "coin  0.979107232460737  curr_bias  Up  new_bias  Neutral\n",
      "obj=16.0, state.resource=0\n",
      "policy_dict={'sell_low': (2, nan), 'high_low': (array([0.]), array([1.2575])), 'track': (0, 4.0, 20.26712226359752)}\n",
      "time=0, obj=0.0, s.resource=1, s.price=16, x=Decision(sell=1, hold=0)\n",
      "coin  0.13653558674628563  curr_bias  Up  new_bias  Up\n",
      "obj=16.0, state.resource=0\n",
      "policy_dict={'sell_low': (2, nan), 'high_low': (array([0.]), array([2.505])), 'track': (0, 4.0, 20.26712226359752)}\n",
      "time=0, obj=0.0, s.resource=1, s.price=16, x=Decision(sell=1, hold=0)\n",
      "coin  0.22227093730859782  curr_bias  Up  new_bias  Up\n",
      "obj=16.0, state.resource=0\n",
      "policy_dict={'sell_low': (2, nan), 'high_low': (array([0.]), array([3.7525])), 'track': (0, 4.0, 20.26712226359752)}\n",
      "time=0, obj=0.0, s.resource=1, s.price=16, x=Decision(sell=1, hold=0)\n",
      "coin  0.8486244960339273  curr_bias  Up  new_bias  Up\n",
      "obj=16.0, state.resource=0\n",
      "policy_dict={'sell_low': (2, nan), 'high_low': (array([0.]), array([5.])), 'track': (0, 4.0, 20.26712226359752)}\n",
      "time=0, obj=0.0, s.resource=1, s.price=16, x=Decision(sell=1, hold=0)\n",
      "coin  0.3366588534691112  curr_bias  Up  new_bias  Up\n",
      "obj=16.0, state.resource=0\n",
      "policy_dict={'sell_low': (2, nan), 'high_low': (array([0.]), array([0.01])), 'track': (0, 4.0, 20.26712226359752)}\n",
      "time=0, obj=0.0, s.resource=1, s.price=16, x=Decision(sell=1, hold=0)\n",
      "coin  0.21445935317505804  curr_bias  Up  new_bias  Up\n",
      "obj=16.0, state.resource=0\n",
      "policy_dict={'sell_low': (2, nan), 'high_low': (array([0.]), array([1.2575])), 'track': (0, 4.0, 20.26712226359752)}\n",
      "time=0, obj=0.0, s.resource=1, s.price=16, x=Decision(sell=1, hold=0)\n",
      "coin  0.7085391054840665  curr_bias  Up  new_bias  Up\n",
      "obj=16.0, state.resource=0\n",
      "policy_dict={'sell_low': (2, nan), 'high_low': (array([0.]), array([2.505])), 'track': (0, 4.0, 20.26712226359752)}\n",
      "time=0, obj=0.0, s.resource=1, s.price=16, x=Decision(sell=1, hold=0)\n",
      "coin  0.5772954992226518  curr_bias  Up  new_bias  Up\n",
      "obj=16.0, state.resource=0\n",
      "policy_dict={'sell_low': (2, nan), 'high_low': (array([0.]), array([3.7525])), 'track': (0, 4.0, 20.26712226359752)}\n",
      "time=0, obj=0.0, s.resource=1, s.price=16, x=Decision(sell=1, hold=0)\n",
      "coin  0.5196562979191857  curr_bias  Up  new_bias  Up\n",
      "obj=16.0, state.resource=0\n",
      "policy_dict={'sell_low': (2, nan), 'high_low': (array([0.]), array([5.])), 'track': (0, 4.0, 20.26712226359752)}\n",
      "time=0, obj=0.0, s.resource=1, s.price=16, x=Decision(sell=1, hold=0)\n",
      "coin  0.5329130843734448  curr_bias  Up  new_bias  Up\n",
      "obj=16.0, state.resource=0\n",
      "policy_dict={'sell_low': (2, nan), 'high_low': (array([0.]), array([0.01])), 'track': (0, 4.0, 20.26712226359752)}\n",
      "time=0, obj=0.0, s.resource=1, s.price=16, x=Decision(sell=1, hold=0)\n",
      "coin  0.9033219325411262  curr_bias  Up  new_bias  Neutral\n",
      "obj=16.0, state.resource=0\n",
      "policy_dict={'sell_low': (2, nan), 'high_low': (array([0.]), array([1.2575])), 'track': (0, 4.0, 20.26712226359752)}\n",
      "time=0, obj=0.0, s.resource=1, s.price=16, x=Decision(sell=1, hold=0)\n",
      "coin  0.5199178359547055  curr_bias  Up  new_bias  Up\n",
      "obj=16.0, state.resource=0\n",
      "policy_dict={'sell_low': (2, nan), 'high_low': (array([0.]), array([2.505])), 'track': (0, 4.0, 20.26712226359752)}\n",
      "time=0, obj=0.0, s.resource=1, s.price=16, x=Decision(sell=1, hold=0)\n",
      "coin  0.9989253406169298  curr_bias  Up  new_bias  Neutral\n",
      "obj=16.0, state.resource=0\n",
      "policy_dict={'sell_low': (2, nan), 'high_low': (array([0.]), array([3.7525])), 'track': (0, 4.0, 20.26712226359752)}\n",
      "time=0, obj=0.0, s.resource=1, s.price=16, x=Decision(sell=1, hold=0)\n",
      "coin  0.22638112315006254  curr_bias  Up  new_bias  Up\n",
      "obj=16.0, state.resource=0\n",
      "policy_dict={'sell_low': (2, nan), 'high_low': (array([0.]), array([5.])), 'track': (0, 4.0, 20.26712226359752)}\n",
      "time=0, obj=0.0, s.resource=1, s.price=16, x=Decision(sell=1, hold=0)\n",
      "coin  0.8966040135637273  curr_bias  Up  new_bias  Up\n",
      "obj=16.0, state.resource=0\n",
      "policy_dict={'sell_low': (2, nan), 'high_low': (array([0.]), array([0.01])), 'track': (0, 4.0, 20.26712226359752)}\n",
      "time=0, obj=0.0, s.resource=1, s.price=16, x=Decision(sell=1, hold=0)\n",
      "coin  0.21449368219534193  curr_bias  Up  new_bias  Up\n",
      "obj=16.0, state.resource=0\n",
      "policy_dict={'sell_low': (2, nan), 'high_low': (array([0.]), array([1.2575])), 'track': (0, 4.0, 20.26712226359752)}\n",
      "time=0, obj=0.0, s.resource=1, s.price=16, x=Decision(sell=1, hold=0)\n",
      "coin  0.5521642806220787  curr_bias  Up  new_bias  Up\n",
      "obj=16.0, state.resource=0\n",
      "policy_dict={'sell_low': (2, nan), 'high_low': (array([0.]), array([2.505])), 'track': (0, 4.0, 20.26712226359752)}\n",
      "time=0, obj=0.0, s.resource=1, s.price=16, x=Decision(sell=1, hold=0)\n",
      "coin  0.2743164008088571  curr_bias  Up  new_bias  Up\n",
      "obj=16.0, state.resource=0\n",
      "policy_dict={'sell_low': (2, nan), 'high_low': (array([0.]), array([3.7525])), 'track': (0, 4.0, 20.26712226359752)}\n",
      "time=0, obj=0.0, s.resource=1, s.price=16, x=Decision(sell=1, hold=0)\n",
      "coin  0.5083942253298411  curr_bias  Up  new_bias  Up\n",
      "obj=16.0, state.resource=0\n",
      "policy_dict={'sell_low': (2, nan), 'high_low': (array([0.]), array([5.])), 'track': (0, 4.0, 20.26712226359752)}\n",
      "time=0, obj=0.0, s.resource=1, s.price=16, x=Decision(sell=1, hold=0)\n",
      "coin  0.7241429280830625  curr_bias  Up  new_bias  Up\n",
      "obj=16.0, state.resource=0\n",
      "policy_dict={'sell_low': (2, nan), 'high_low': (array([0.]), array([0.01])), 'track': (0, 4.0, 20.26712226359752)}\n",
      "time=0, obj=0.0, s.resource=1, s.price=16, x=Decision(sell=1, hold=0)\n",
      "coin  0.1626505904274188  curr_bias  Up  new_bias  Up\n",
      "obj=16.0, state.resource=0\n",
      "policy_dict={'sell_low': (2, nan), 'high_low': (array([0.]), array([1.2575])), 'track': (0, 4.0, 20.26712226359752)}\n",
      "time=0, obj=0.0, s.resource=1, s.price=16, x=Decision(sell=1, hold=0)\n",
      "coin  0.5813966200532049  curr_bias  Up  new_bias  Up\n",
      "obj=16.0, state.resource=0\n",
      "policy_dict={'sell_low': (2, nan), 'high_low': (array([0.]), array([2.505])), 'track': (0, 4.0, 20.26712226359752)}\n",
      "time=0, obj=0.0, s.resource=1, s.price=16, x=Decision(sell=1, hold=0)\n",
      "coin  0.4240624187776365  curr_bias  Up  new_bias  Up\n",
      "obj=16.0, state.resource=0\n",
      "policy_dict={'sell_low': (2, nan), 'high_low': (array([0.]), array([3.7525])), 'track': (0, 4.0, 20.26712226359752)}\n",
      "time=0, obj=0.0, s.resource=1, s.price=16, x=Decision(sell=1, hold=0)\n",
      "coin  0.33405458876378247  curr_bias  Up  new_bias  Up\n",
      "obj=16.0, state.resource=0\n",
      "policy_dict={'sell_low': (2, nan), 'high_low': (array([0.]), array([5.])), 'track': (0, 4.0, 20.26712226359752)}\n",
      "time=0, obj=0.0, s.resource=1, s.price=16, x=Decision(sell=1, hold=0)\n",
      "coin  0.09581713271514325  curr_bias  Up  new_bias  Up\n",
      "obj=16.0, state.resource=0\n",
      "policy_dict={'sell_low': (2, nan), 'high_low': (array([0.]), array([0.01])), 'track': (0, 4.0, 20.26712226359752)}\n",
      "time=0, obj=0.0, s.resource=1, s.price=16, x=Decision(sell=1, hold=0)\n",
      "coin  0.4755787772628176  curr_bias  Up  new_bias  Up\n",
      "obj=16.0, state.resource=0\n",
      "policy_dict={'sell_low': (2, nan), 'high_low': (array([0.]), array([1.2575])), 'track': (0, 4.0, 20.26712226359752)}\n",
      "time=0, obj=0.0, s.resource=1, s.price=16, x=Decision(sell=1, hold=0)\n",
      "coin  0.35059297453378224  curr_bias  Up  new_bias  Up\n",
      "obj=16.0, state.resource=0\n",
      "policy_dict={'sell_low': (2, nan), 'high_low': (array([0.]), array([2.505])), 'track': (0, 4.0, 20.26712226359752)}\n",
      "time=0, obj=0.0, s.resource=1, s.price=16, x=Decision(sell=1, hold=0)\n",
      "coin  0.9279112219015438  curr_bias  Up  new_bias  Neutral\n",
      "obj=16.0, state.resource=0\n",
      "policy_dict={'sell_low': (2, nan), 'high_low': (array([0.]), array([3.7525])), 'track': (0, 4.0, 20.26712226359752)}\n",
      "time=0, obj=0.0, s.resource=1, s.price=16, x=Decision(sell=1, hold=0)\n",
      "coin  0.20389268299420404  curr_bias  Up  new_bias  Up\n",
      "obj=16.0, state.resource=0\n",
      "policy_dict={'sell_low': (2, nan), 'high_low': (array([0.]), array([5.])), 'track': (0, 4.0, 20.26712226359752)}\n",
      "time=0, obj=0.0, s.resource=1, s.price=16, x=Decision(sell=1, hold=0)\n",
      "coin  0.21598751712182673  curr_bias  Up  new_bias  Up\n",
      "obj=16.0, state.resource=0\n",
      "policy_dict={'sell_low': (2, nan), 'high_low': (array([0.]), array([0.01])), 'track': (0, 4.0, 20.26712226359752)}\n",
      "time=0, obj=0.0, s.resource=1, s.price=16, x=Decision(sell=1, hold=0)\n",
      "coin  0.07419024803917873  curr_bias  Up  new_bias  Up\n",
      "obj=16.0, state.resource=0\n",
      "policy_dict={'sell_low': (2, nan), 'high_low': (array([0.]), array([1.2575])), 'track': (0, 4.0, 20.26712226359752)}\n",
      "time=0, obj=0.0, s.resource=1, s.price=16, x=Decision(sell=1, hold=0)\n",
      "coin  0.03611685083756144  curr_bias  Up  new_bias  Up\n",
      "obj=16.0, state.resource=0\n",
      "policy_dict={'sell_low': (2, nan), 'high_low': (array([0.]), array([2.505])), 'track': (0, 4.0, 20.26712226359752)}\n",
      "time=0, obj=0.0, s.resource=1, s.price=16, x=Decision(sell=1, hold=0)\n",
      "coin  0.7684121985970839  curr_bias  Up  new_bias  Up\n",
      "obj=16.0, state.resource=0\n",
      "policy_dict={'sell_low': (2, nan), 'high_low': (array([0.]), array([3.7525])), 'track': (0, 4.0, 20.26712226359752)}\n",
      "time=0, obj=0.0, s.resource=1, s.price=16, x=Decision(sell=1, hold=0)\n",
      "coin  0.7101719107857338  curr_bias  Up  new_bias  Up\n",
      "obj=16.0, state.resource=0\n",
      "policy_dict={'sell_low': (2, nan), 'high_low': (array([0.]), array([5.])), 'track': (0, 4.0, 20.26712226359752)}\n",
      "time=0, obj=0.0, s.resource=1, s.price=16, x=Decision(sell=1, hold=0)\n",
      "coin  0.4682139918349948  curr_bias  Up  new_bias  Up\n",
      "obj=16.0, state.resource=0\n",
      "policy_dict={'sell_low': (2, nan), 'high_low': (array([0.]), array([0.01])), 'track': (0, 4.0, 20.26712226359752)}\n",
      "time=0, obj=0.0, s.resource=1, s.price=16, x=Decision(sell=1, hold=0)\n",
      "coin  0.0037233007039758625  curr_bias  Up  new_bias  Up\n",
      "obj=16.0, state.resource=0\n",
      "policy_dict={'sell_low': (2, nan), 'high_low': (array([0.]), array([1.2575])), 'track': (0, 4.0, 20.26712226359752)}\n",
      "time=0, obj=0.0, s.resource=1, s.price=16, x=Decision(sell=1, hold=0)\n",
      "coin  0.5462432413028787  curr_bias  Up  new_bias  Up\n",
      "obj=16.0, state.resource=0\n",
      "policy_dict={'sell_low': (2, nan), 'high_low': (array([0.]), array([2.505])), 'track': (0, 4.0, 20.26712226359752)}\n",
      "time=0, obj=0.0, s.resource=1, s.price=16, x=Decision(sell=1, hold=0)\n",
      "coin  0.3609343010190801  curr_bias  Up  new_bias  Up\n",
      "obj=16.0, state.resource=0\n",
      "policy_dict={'sell_low': (2, nan), 'high_low': (array([0.]), array([3.7525])), 'track': (0, 4.0, 20.26712226359752)}\n",
      "time=0, obj=0.0, s.resource=1, s.price=16, x=Decision(sell=1, hold=0)\n",
      "coin  0.7231125423054038  curr_bias  Up  new_bias  Up\n",
      "obj=16.0, state.resource=0\n",
      "policy_dict={'sell_low': (2, nan), 'high_low': (array([0.]), array([5.])), 'track': (0, 4.0, 20.26712226359752)}\n",
      "time=0, obj=0.0, s.resource=1, s.price=16, x=Decision(sell=1, hold=0)\n",
      "coin  0.8173417259140272  curr_bias  Up  new_bias  Up\n",
      "obj=16.0, state.resource=0\n",
      "policy_dict={'sell_low': (2, nan), 'high_low': (array([0.]), array([0.01])), 'track': (0, 4.0, 20.26712226359752)}\n",
      "time=0, obj=0.0, s.resource=1, s.price=16, x=Decision(sell=1, hold=0)\n",
      "coin  0.5216509002457363  curr_bias  Up  new_bias  Up\n",
      "obj=16.0, state.resource=0\n",
      "policy_dict={'sell_low': (2, nan), 'high_low': (array([0.]), array([1.2575])), 'track': (0, 4.0, 20.26712226359752)}\n",
      "time=0, obj=0.0, s.resource=1, s.price=16, x=Decision(sell=1, hold=0)\n",
      "coin  0.9575119829302672  curr_bias  Up  new_bias  Neutral\n",
      "obj=16.0, state.resource=0\n",
      "policy_dict={'sell_low': (2, nan), 'high_low': (array([0.]), array([2.505])), 'track': (0, 4.0, 20.26712226359752)}\n",
      "time=0, obj=0.0, s.resource=1, s.price=16, x=Decision(sell=1, hold=0)\n",
      "coin  0.9786092003422285  curr_bias  Up  new_bias  Neutral\n",
      "obj=16.0, state.resource=0\n",
      "policy_dict={'sell_low': (2, nan), 'high_low': (array([0.]), array([3.7525])), 'track': (0, 4.0, 20.26712226359752)}\n",
      "time=0, obj=0.0, s.resource=1, s.price=16, x=Decision(sell=1, hold=0)\n",
      "coin  0.7824855623124374  curr_bias  Up  new_bias  Up\n",
      "obj=16.0, state.resource=0\n",
      "policy_dict={'sell_low': (2, nan), 'high_low': (array([0.]), array([5.])), 'track': (0, 4.0, 20.26712226359752)}\n",
      "time=0, obj=0.0, s.resource=1, s.price=16, x=Decision(sell=1, hold=0)\n",
      "coin  0.46224179147783695  curr_bias  Up  new_bias  Up\n",
      "obj=16.0, state.resource=0\n",
      "policy_dict={'sell_low': (2, nan), 'high_low': (array([0.]), array([0.01])), 'track': (0, 4.0, 20.26712226359752)}\n",
      "time=0, obj=0.0, s.resource=1, s.price=16, x=Decision(sell=1, hold=0)\n",
      "coin  0.7025251970961777  curr_bias  Up  new_bias  Up\n",
      "obj=16.0, state.resource=0\n",
      "policy_dict={'sell_low': (2, nan), 'high_low': (array([0.]), array([1.2575])), 'track': (0, 4.0, 20.26712226359752)}\n",
      "time=0, obj=0.0, s.resource=1, s.price=16, x=Decision(sell=1, hold=0)\n",
      "coin  0.49241202677360063  curr_bias  Up  new_bias  Up\n",
      "obj=16.0, state.resource=0\n",
      "policy_dict={'sell_low': (2, nan), 'high_low': (array([0.]), array([2.505])), 'track': (0, 4.0, 20.26712226359752)}\n",
      "time=0, obj=0.0, s.resource=1, s.price=16, x=Decision(sell=1, hold=0)\n",
      "coin  0.09639646347111164  curr_bias  Up  new_bias  Up\n",
      "obj=16.0, state.resource=0\n",
      "policy_dict={'sell_low': (2, nan), 'high_low': (array([0.]), array([3.7525])), 'track': (0, 4.0, 20.26712226359752)}\n",
      "time=0, obj=0.0, s.resource=1, s.price=16, x=Decision(sell=1, hold=0)\n",
      "coin  0.5465760573070179  curr_bias  Up  new_bias  Up\n",
      "obj=16.0, state.resource=0\n",
      "policy_dict={'sell_low': (2, nan), 'high_low': (array([0.]), array([5.])), 'track': (0, 4.0, 20.26712226359752)}\n",
      "time=0, obj=0.0, s.resource=1, s.price=16, x=Decision(sell=1, hold=0)\n",
      "coin  0.6267953254056897  curr_bias  Up  new_bias  Up\n",
      "obj=16.0, state.resource=0\n",
      "policy_dict={'sell_low': (2, nan), 'high_low': (array([0.]), array([0.01])), 'track': (0, 4.0, 20.26712226359752)}\n",
      "time=0, obj=0.0, s.resource=1, s.price=16, x=Decision(sell=1, hold=0)\n",
      "coin  0.04364867746440937  curr_bias  Up  new_bias  Up\n",
      "obj=16.0, state.resource=0\n",
      "policy_dict={'sell_low': (2, nan), 'high_low': (array([0.]), array([1.2575])), 'track': (0, 4.0, 20.26712226359752)}\n",
      "time=0, obj=0.0, s.resource=1, s.price=16, x=Decision(sell=1, hold=0)\n",
      "coin  0.25740518296177717  curr_bias  Up  new_bias  Up\n",
      "obj=16.0, state.resource=0\n",
      "policy_dict={'sell_low': (2, nan), 'high_low': (array([0.]), array([2.505])), 'track': (0, 4.0, 20.26712226359752)}\n",
      "time=0, obj=0.0, s.resource=1, s.price=16, x=Decision(sell=1, hold=0)\n",
      "coin  0.8189962901897864  curr_bias  Up  new_bias  Up\n",
      "obj=16.0, state.resource=0\n",
      "policy_dict={'sell_low': (2, nan), 'high_low': (array([0.]), array([3.7525])), 'track': (0, 4.0, 20.26712226359752)}\n",
      "time=0, obj=0.0, s.resource=1, s.price=16, x=Decision(sell=1, hold=0)\n",
      "coin  0.7239557150039996  curr_bias  Up  new_bias  Up\n",
      "obj=16.0, state.resource=0\n",
      "policy_dict={'sell_low': (2, nan), 'high_low': (array([0.]), array([5.])), 'track': (0, 4.0, 20.26712226359752)}\n",
      "time=0, obj=0.0, s.resource=1, s.price=16, x=Decision(sell=1, hold=0)\n",
      "coin  0.29026468356704993  curr_bias  Up  new_bias  Up\n",
      "obj=16.0, state.resource=0\n",
      "policy_dict={'sell_low': (2, nan), 'high_low': (array([0.]), array([0.01])), 'track': (0, 4.0, 20.26712226359752)}\n",
      "time=0, obj=0.0, s.resource=1, s.price=16, x=Decision(sell=1, hold=0)\n",
      "coin  0.10386887022925406  curr_bias  Up  new_bias  Up\n",
      "obj=16.0, state.resource=0\n",
      "policy_dict={'sell_low': (2, nan), 'high_low': (array([0.]), array([1.2575])), 'track': (0, 4.0, 20.26712226359752)}\n",
      "time=0, obj=0.0, s.resource=1, s.price=16, x=Decision(sell=1, hold=0)\n",
      "coin  0.7155420100221593  curr_bias  Up  new_bias  Up\n",
      "obj=16.0, state.resource=0\n",
      "policy_dict={'sell_low': (2, nan), 'high_low': (array([0.]), array([2.505])), 'track': (0, 4.0, 20.26712226359752)}\n",
      "time=0, obj=0.0, s.resource=1, s.price=16, x=Decision(sell=1, hold=0)\n",
      "coin  0.453123608476127  curr_bias  Up  new_bias  Up\n",
      "obj=16.0, state.resource=0\n",
      "policy_dict={'sell_low': (2, nan), 'high_low': (array([0.]), array([3.7525])), 'track': (0, 4.0, 20.26712226359752)}\n",
      "time=0, obj=0.0, s.resource=1, s.price=16, x=Decision(sell=1, hold=0)\n",
      "coin  0.581593544514928  curr_bias  Up  new_bias  Up\n",
      "obj=16.0, state.resource=0\n",
      "policy_dict={'sell_low': (2, nan), 'high_low': (array([0.]), array([5.])), 'track': (0, 4.0, 20.26712226359752)}\n",
      "time=0, obj=0.0, s.resource=1, s.price=16, x=Decision(sell=1, hold=0)\n",
      "coin  0.6215054866902109  curr_bias  Up  new_bias  Up\n",
      "obj=16.0, state.resource=0\n",
      "policy_dict={'sell_low': (2, nan), 'high_low': (array([0.]), array([0.01])), 'track': (0, 4.0, 20.26712226359752)}\n",
      "time=0, obj=0.0, s.resource=1, s.price=16, x=Decision(sell=1, hold=0)\n",
      "coin  0.7309456577059659  curr_bias  Up  new_bias  Up\n",
      "obj=16.0, state.resource=0\n",
      "policy_dict={'sell_low': (2, nan), 'high_low': (array([0.]), array([1.2575])), 'track': (0, 4.0, 20.26712226359752)}\n",
      "time=0, obj=0.0, s.resource=1, s.price=16, x=Decision(sell=1, hold=0)\n",
      "coin  0.23804527034193113  curr_bias  Up  new_bias  Up\n",
      "obj=16.0, state.resource=0\n",
      "policy_dict={'sell_low': (2, nan), 'high_low': (array([0.]), array([2.505])), 'track': (0, 4.0, 20.26712226359752)}\n",
      "time=0, obj=0.0, s.resource=1, s.price=16, x=Decision(sell=1, hold=0)\n",
      "coin  0.15739913139805328  curr_bias  Up  new_bias  Up\n",
      "obj=16.0, state.resource=0\n",
      "policy_dict={'sell_low': (2, nan), 'high_low': (array([0.]), array([3.7525])), 'track': (0, 4.0, 20.26712226359752)}\n",
      "time=0, obj=0.0, s.resource=1, s.price=16, x=Decision(sell=1, hold=0)\n",
      "coin  0.5124802779289894  curr_bias  Up  new_bias  Up\n",
      "obj=16.0, state.resource=0\n",
      "policy_dict={'sell_low': (2, nan), 'high_low': (array([0.]), array([5.])), 'track': (0, 4.0, 20.26712226359752)}\n",
      "time=0, obj=0.0, s.resource=1, s.price=16, x=Decision(sell=1, hold=0)\n",
      "coin  0.37479086340282275  curr_bias  Up  new_bias  Up\n",
      "obj=16.0, state.resource=0\n",
      "policy_dict={'sell_low': (2, nan), 'high_low': (array([0.]), array([0.01])), 'track': (0, 4.0, 20.26712226359752)}\n",
      "time=0, obj=0.0, s.resource=1, s.price=16, x=Decision(sell=1, hold=0)\n",
      "coin  0.7723473468243091  curr_bias  Up  new_bias  Up\n",
      "obj=16.0, state.resource=0\n",
      "policy_dict={'sell_low': (2, nan), 'high_low': (array([0.]), array([1.2575])), 'track': (0, 4.0, 20.26712226359752)}\n",
      "time=0, obj=0.0, s.resource=1, s.price=16, x=Decision(sell=1, hold=0)\n",
      "coin  0.6743035964354331  curr_bias  Up  new_bias  Up\n",
      "obj=16.0, state.resource=0\n",
      "policy_dict={'sell_low': (2, nan), 'high_low': (array([0.]), array([2.505])), 'track': (0, 4.0, 20.26712226359752)}\n",
      "time=0, obj=0.0, s.resource=1, s.price=16, x=Decision(sell=1, hold=0)\n",
      "coin  0.5294573304234017  curr_bias  Up  new_bias  Up\n",
      "obj=16.0, state.resource=0\n",
      "policy_dict={'sell_low': (2, nan), 'high_low': (array([0.]), array([3.7525])), 'track': (0, 4.0, 20.26712226359752)}\n",
      "time=0, obj=0.0, s.resource=1, s.price=16, x=Decision(sell=1, hold=0)\n",
      "coin  0.15878254984344176  curr_bias  Up  new_bias  Up\n",
      "obj=16.0, state.resource=0\n",
      "policy_dict={'sell_low': (2, nan), 'high_low': (array([0.]), array([5.])), 'track': (0, 4.0, 20.26712226359752)}\n",
      "time=0, obj=0.0, s.resource=1, s.price=16, x=Decision(sell=1, hold=0)\n",
      "coin  0.23258558547423547  curr_bias  Up  new_bias  Up\n",
      "obj=16.0, state.resource=0\n",
      "policy_dict={'sell_low': (2, nan), 'high_low': (array([0.]), array([0.01])), 'track': (0, 4.0, 20.26712226359752)}\n",
      "time=0, obj=0.0, s.resource=1, s.price=16, x=Decision(sell=1, hold=0)\n",
      "coin  0.1005856395391379  curr_bias  Up  new_bias  Up\n",
      "obj=16.0, state.resource=0\n",
      "policy_dict={'sell_low': (2, nan), 'high_low': (array([0.]), array([1.2575])), 'track': (0, 4.0, 20.26712226359752)}\n",
      "time=0, obj=0.0, s.resource=1, s.price=16, x=Decision(sell=1, hold=0)\n",
      "coin  0.3913559259085313  curr_bias  Up  new_bias  Up\n",
      "obj=16.0, state.resource=0\n",
      "policy_dict={'sell_low': (2, nan), 'high_low': (array([0.]), array([2.505])), 'track': (0, 4.0, 20.26712226359752)}\n",
      "time=0, obj=0.0, s.resource=1, s.price=16, x=Decision(sell=1, hold=0)\n",
      "coin  0.09103436954722466  curr_bias  Up  new_bias  Up\n",
      "obj=16.0, state.resource=0\n",
      "policy_dict={'sell_low': (2, nan), 'high_low': (array([0.]), array([3.7525])), 'track': (0, 4.0, 20.26712226359752)}\n",
      "time=0, obj=0.0, s.resource=1, s.price=16, x=Decision(sell=1, hold=0)\n",
      "coin  0.8633502147749378  curr_bias  Up  new_bias  Up\n",
      "obj=16.0, state.resource=0\n",
      "policy_dict={'sell_low': (2, nan), 'high_low': (array([0.]), array([5.])), 'track': (0, 4.0, 20.26712226359752)}\n",
      "time=0, obj=0.0, s.resource=1, s.price=16, x=Decision(sell=1, hold=0)\n",
      "coin  0.9770510819328783  curr_bias  Up  new_bias  Neutral\n",
      "obj=16.0, state.resource=0\n",
      "policy_dict={'sell_low': (2, nan), 'high_low': (array([0.]), array([0.01])), 'track': (0, 4.0, 20.26712226359752)}\n",
      "time=0, obj=0.0, s.resource=1, s.price=16, x=Decision(sell=1, hold=0)\n",
      "coin  0.6658260364720088  curr_bias  Up  new_bias  Up\n",
      "obj=16.0, state.resource=0\n",
      "policy_dict={'sell_low': (2, nan), 'high_low': (array([0.]), array([1.2575])), 'track': (0, 4.0, 20.26712226359752)}\n",
      "time=0, obj=0.0, s.resource=1, s.price=16, x=Decision(sell=1, hold=0)\n",
      "coin  0.6657026611155845  curr_bias  Up  new_bias  Up\n",
      "obj=16.0, state.resource=0\n",
      "policy_dict={'sell_low': (2, nan), 'high_low': (array([0.]), array([2.505])), 'track': (0, 4.0, 20.26712226359752)}\n",
      "time=0, obj=0.0, s.resource=1, s.price=16, x=Decision(sell=1, hold=0)\n",
      "coin  0.7361290856803555  curr_bias  Up  new_bias  Up\n",
      "obj=16.0, state.resource=0\n",
      "policy_dict={'sell_low': (2, nan), 'high_low': (array([0.]), array([3.7525])), 'track': (0, 4.0, 20.26712226359752)}\n",
      "time=0, obj=0.0, s.resource=1, s.price=16, x=Decision(sell=1, hold=0)\n",
      "coin  0.758491129270247  curr_bias  Up  new_bias  Up\n",
      "obj=16.0, state.resource=0\n",
      "policy_dict={'sell_low': (2, nan), 'high_low': (array([0.]), array([5.])), 'track': (0, 4.0, 20.26712226359752)}\n",
      "time=0, obj=0.0, s.resource=1, s.price=16, x=Decision(sell=1, hold=0)\n",
      "coin  0.23710545630961577  curr_bias  Up  new_bias  Up\n",
      "obj=16.0, state.resource=0\n",
      "policy_dict={'sell_low': (2, nan), 'high_low': (array([0.]), array([0.01])), 'track': (0, 4.0, 20.26712226359752)}\n",
      "time=0, obj=0.0, s.resource=1, s.price=16, x=Decision(sell=1, hold=0)\n",
      "coin  0.40336844057193133  curr_bias  Up  new_bias  Up\n",
      "obj=16.0, state.resource=0\n",
      "policy_dict={'sell_low': (2, nan), 'high_low': (array([0.]), array([1.2575])), 'track': (0, 4.0, 20.26712226359752)}\n",
      "time=0, obj=0.0, s.resource=1, s.price=16, x=Decision(sell=1, hold=0)\n",
      "coin  0.1210093797617311  curr_bias  Up  new_bias  Up\n",
      "obj=16.0, state.resource=0\n",
      "policy_dict={'sell_low': (2, nan), 'high_low': (array([0.]), array([2.505])), 'track': (0, 4.0, 20.26712226359752)}\n",
      "time=0, obj=0.0, s.resource=1, s.price=16, x=Decision(sell=1, hold=0)\n",
      "coin  0.0689679819779836  curr_bias  Up  new_bias  Up\n",
      "obj=16.0, state.resource=0\n",
      "policy_dict={'sell_low': (2, nan), 'high_low': (array([0.]), array([3.7525])), 'track': (0, 4.0, 20.26712226359752)}\n",
      "time=0, obj=0.0, s.resource=1, s.price=16, x=Decision(sell=1, hold=0)\n",
      "coin  0.15693822776101352  curr_bias  Up  new_bias  Up\n",
      "obj=16.0, state.resource=0\n",
      "policy_dict={'sell_low': (2, nan), 'high_low': (array([0.]), array([5.])), 'track': (0, 4.0, 20.26712226359752)}\n",
      "time=0, obj=0.0, s.resource=1, s.price=16, x=Decision(sell=1, hold=0)\n",
      "coin  0.1722982803413381  curr_bias  Up  new_bias  Up\n",
      "obj=16.0, state.resource=0\n",
      "policy_dict={'sell_low': (2, nan), 'high_low': (array([0.]), array([0.01])), 'track': (0, 4.0, 20.26712226359752)}\n",
      "time=0, obj=0.0, s.resource=1, s.price=16, x=Decision(sell=1, hold=0)\n",
      "coin  0.19806801498454651  curr_bias  Up  new_bias  Up\n",
      "obj=16.0, state.resource=0\n",
      "policy_dict={'sell_low': (2, nan), 'high_low': (array([0.]), array([1.2575])), 'track': (0, 4.0, 20.26712226359752)}\n",
      "time=0, obj=0.0, s.resource=1, s.price=16, x=Decision(sell=1, hold=0)\n",
      "coin  0.36739724772001714  curr_bias  Up  new_bias  Up\n",
      "obj=16.0, state.resource=0\n",
      "policy_dict={'sell_low': (2, nan), 'high_low': (array([0.]), array([2.505])), 'track': (0, 4.0, 20.26712226359752)}\n",
      "time=0, obj=0.0, s.resource=1, s.price=16, x=Decision(sell=1, hold=0)\n",
      "coin  0.186963738020115  curr_bias  Up  new_bias  Up\n",
      "obj=16.0, state.resource=0\n",
      "policy_dict={'sell_low': (2, nan), 'high_low': (array([0.]), array([3.7525])), 'track': (0, 4.0, 20.26712226359752)}\n",
      "time=0, obj=0.0, s.resource=1, s.price=16, x=Decision(sell=1, hold=0)\n",
      "coin  0.8413187128250093  curr_bias  Up  new_bias  Up\n",
      "obj=16.0, state.resource=0\n",
      "policy_dict={'sell_low': (2, nan), 'high_low': (array([0.]), array([5.])), 'track': (0, 4.0, 20.26712226359752)}\n",
      "time=0, obj=0.0, s.resource=1, s.price=16, x=Decision(sell=1, hold=0)\n",
      "coin  0.4931112813996169  curr_bias  Up  new_bias  Up\n",
      "obj=16.0, state.resource=0\n",
      "policy_dict={'sell_low': (2, nan), 'high_low': (array([0.]), array([0.01])), 'track': (0, 4.0, 20.26712226359752)}\n",
      "time=0, obj=0.0, s.resource=1, s.price=16, x=Decision(sell=1, hold=0)\n",
      "coin  0.31998384746605457  curr_bias  Up  new_bias  Up\n",
      "obj=16.0, state.resource=0\n",
      "policy_dict={'sell_low': (2, nan), 'high_low': (array([0.]), array([1.2575])), 'track': (0, 4.0, 20.26712226359752)}\n",
      "time=0, obj=0.0, s.resource=1, s.price=16, x=Decision(sell=1, hold=0)\n",
      "coin  0.18853468436664356  curr_bias  Up  new_bias  Up\n",
      "obj=16.0, state.resource=0\n",
      "policy_dict={'sell_low': (2, nan), 'high_low': (array([0.]), array([2.505])), 'track': (0, 4.0, 20.26712226359752)}\n",
      "time=0, obj=0.0, s.resource=1, s.price=16, x=Decision(sell=1, hold=0)\n",
      "coin  0.8139437275757037  curr_bias  Up  new_bias  Up\n",
      "obj=16.0, state.resource=0\n",
      "policy_dict={'sell_low': (2, nan), 'high_low': (array([0.]), array([3.7525])), 'track': (0, 4.0, 20.26712226359752)}\n",
      "time=0, obj=0.0, s.resource=1, s.price=16, x=Decision(sell=1, hold=0)\n",
      "coin  0.3495036616293572  curr_bias  Up  new_bias  Up\n",
      "obj=16.0, state.resource=0\n",
      "policy_dict={'sell_low': (2, nan), 'high_low': (array([0.]), array([5.])), 'track': (0, 4.0, 20.26712226359752)}\n",
      "time=0, obj=0.0, s.resource=1, s.price=16, x=Decision(sell=1, hold=0)\n",
      "coin  0.9993962768076438  curr_bias  Up  new_bias  Neutral\n",
      "obj=16.0, state.resource=0\n",
      "policy_dict={'sell_low': (2, nan), 'high_low': (array([0.]), array([0.01])), 'track': (0, 4.0, 20.26712226359752)}\n",
      "time=0, obj=0.0, s.resource=1, s.price=16, x=Decision(sell=1, hold=0)\n",
      "coin  0.1354733241433962  curr_bias  Up  new_bias  Up\n",
      "obj=16.0, state.resource=0\n",
      "policy_dict={'sell_low': (2, nan), 'high_low': (array([0.]), array([1.2575])), 'track': (0, 4.0, 20.26712226359752)}\n",
      "time=0, obj=0.0, s.resource=1, s.price=16, x=Decision(sell=1, hold=0)\n",
      "coin  0.9213578988384137  curr_bias  Up  new_bias  Neutral\n",
      "obj=16.0, state.resource=0\n",
      "policy_dict={'sell_low': (2, nan), 'high_low': (array([0.]), array([2.505])), 'track': (0, 4.0, 20.26712226359752)}\n",
      "time=0, obj=0.0, s.resource=1, s.price=16, x=Decision(sell=1, hold=0)\n",
      "coin  0.09912658454038403  curr_bias  Up  new_bias  Up\n",
      "obj=16.0, state.resource=0\n",
      "policy_dict={'sell_low': (2, nan), 'high_low': (array([0.]), array([3.7525])), 'track': (0, 4.0, 20.26712226359752)}\n",
      "time=0, obj=0.0, s.resource=1, s.price=16, x=Decision(sell=1, hold=0)\n",
      "coin  0.2365136439079537  curr_bias  Up  new_bias  Up\n",
      "obj=16.0, state.resource=0\n",
      "policy_dict={'sell_low': (2, nan), 'high_low': (array([0.]), array([5.])), 'track': (0, 4.0, 20.26712226359752)}\n",
      "time=0, obj=0.0, s.resource=1, s.price=16, x=Decision(sell=1, hold=0)\n",
      "coin  0.2877969530013714  curr_bias  Up  new_bias  Up\n",
      "obj=16.0, state.resource=0\n",
      "policy_dict={'sell_low': (2, nan), 'high_low': (array([0.]), array([0.01])), 'track': (0, 4.0, 20.26712226359752)}\n",
      "time=0, obj=0.0, s.resource=1, s.price=16, x=Decision(sell=1, hold=0)\n",
      "coin  0.6273410471314673  curr_bias  Up  new_bias  Up\n",
      "obj=16.0, state.resource=0\n",
      "policy_dict={'sell_low': (2, nan), 'high_low': (array([0.]), array([1.2575])), 'track': (0, 4.0, 20.26712226359752)}\n",
      "time=0, obj=0.0, s.resource=1, s.price=16, x=Decision(sell=1, hold=0)\n",
      "coin  0.5908814703138637  curr_bias  Up  new_bias  Up\n",
      "obj=16.0, state.resource=0\n",
      "policy_dict={'sell_low': (2, nan), 'high_low': (array([0.]), array([2.505])), 'track': (0, 4.0, 20.26712226359752)}\n",
      "time=0, obj=0.0, s.resource=1, s.price=16, x=Decision(sell=1, hold=0)\n",
      "coin  0.4061302380279619  curr_bias  Up  new_bias  Up\n",
      "obj=16.0, state.resource=0\n",
      "policy_dict={'sell_low': (2, nan), 'high_low': (array([0.]), array([3.7525])), 'track': (0, 4.0, 20.26712226359752)}\n",
      "time=0, obj=0.0, s.resource=1, s.price=16, x=Decision(sell=1, hold=0)\n",
      "coin  0.9102280509487  curr_bias  Up  new_bias  Neutral\n",
      "obj=16.0, state.resource=0\n",
      "policy_dict={'sell_low': (2, nan), 'high_low': (array([0.]), array([5.])), 'track': (0, 4.0, 20.26712226359752)}\n",
      "time=0, obj=0.0, s.resource=1, s.price=16, x=Decision(sell=1, hold=0)\n",
      "coin  0.6275392425921726  curr_bias  Up  new_bias  Up\n",
      "obj=16.0, state.resource=0\n",
      "policy_dict={'sell_low': (2, nan), 'high_low': (array([0.]), array([0.01])), 'track': (0, 4.0, 20.26712226359752)}\n",
      "time=0, obj=0.0, s.resource=1, s.price=16, x=Decision(sell=1, hold=0)\n",
      "coin  0.4981583070625498  curr_bias  Up  new_bias  Up\n",
      "obj=16.0, state.resource=0\n",
      "policy_dict={'sell_low': (2, nan), 'high_low': (array([0.]), array([1.2575])), 'track': (0, 4.0, 20.26712226359752)}\n",
      "time=0, obj=0.0, s.resource=1, s.price=16, x=Decision(sell=1, hold=0)\n",
      "coin  0.7921475423156947  curr_bias  Up  new_bias  Up\n",
      "obj=16.0, state.resource=0\n",
      "policy_dict={'sell_low': (2, nan), 'high_low': (array([0.]), array([2.505])), 'track': (0, 4.0, 20.26712226359752)}\n",
      "time=0, obj=0.0, s.resource=1, s.price=16, x=Decision(sell=1, hold=0)\n",
      "coin  0.17098812275393904  curr_bias  Up  new_bias  Up\n",
      "obj=16.0, state.resource=0\n",
      "policy_dict={'sell_low': (2, nan), 'high_low': (array([0.]), array([3.7525])), 'track': (0, 4.0, 20.26712226359752)}\n",
      "time=0, obj=0.0, s.resource=1, s.price=16, x=Decision(sell=1, hold=0)\n",
      "coin  0.44899374490217947  curr_bias  Up  new_bias  Up\n",
      "obj=16.0, state.resource=0\n",
      "policy_dict={'sell_low': (2, nan), 'high_low': (array([0.]), array([5.])), 'track': (0, 4.0, 20.26712226359752)}\n",
      "time=0, obj=0.0, s.resource=1, s.price=16, x=Decision(sell=1, hold=0)\n",
      "coin  0.7262075083318685  curr_bias  Up  new_bias  Up\n",
      "obj=16.0, state.resource=0\n",
      "policy_dict={'sell_low': (2, nan), 'high_low': (array([0.]), array([0.01])), 'track': (0, 4.0, 20.26712226359752)}\n",
      "time=0, obj=0.0, s.resource=1, s.price=16, x=Decision(sell=1, hold=0)\n",
      "coin  0.8350865251575104  curr_bias  Up  new_bias  Up\n",
      "obj=16.0, state.resource=0\n",
      "policy_dict={'sell_low': (2, nan), 'high_low': (array([0.]), array([1.2575])), 'track': (0, 4.0, 20.26712226359752)}\n",
      "time=0, obj=0.0, s.resource=1, s.price=16, x=Decision(sell=1, hold=0)\n",
      "coin  0.36991028910931856  curr_bias  Up  new_bias  Up\n",
      "obj=16.0, state.resource=0\n",
      "policy_dict={'sell_low': (2, nan), 'high_low': (array([0.]), array([2.505])), 'track': (0, 4.0, 20.26712226359752)}\n",
      "time=0, obj=0.0, s.resource=1, s.price=16, x=Decision(sell=1, hold=0)\n",
      "coin  0.49596284861832496  curr_bias  Up  new_bias  Up\n",
      "obj=16.0, state.resource=0\n",
      "policy_dict={'sell_low': (2, nan), 'high_low': (array([0.]), array([3.7525])), 'track': (0, 4.0, 20.26712226359752)}\n",
      "time=0, obj=0.0, s.resource=1, s.price=16, x=Decision(sell=1, hold=0)\n",
      "coin  0.24520149674899827  curr_bias  Up  new_bias  Up\n",
      "obj=16.0, state.resource=0\n",
      "policy_dict={'sell_low': (2, nan), 'high_low': (array([0.]), array([5.])), 'track': (0, 4.0, 20.26712226359752)}\n",
      "time=0, obj=0.0, s.resource=1, s.price=16, x=Decision(sell=1, hold=0)\n",
      "coin  0.3371286195817167  curr_bias  Up  new_bias  Up\n",
      "obj=16.0, state.resource=0\n",
      "policy_dict={'sell_low': (2, nan), 'high_low': (array([0.]), array([0.01])), 'track': (0, 4.0, 20.26712226359752)}\n",
      "time=0, obj=0.0, s.resource=1, s.price=16, x=Decision(sell=1, hold=0)\n",
      "coin  0.21362771108192524  curr_bias  Up  new_bias  Up\n",
      "obj=16.0, state.resource=0\n",
      "policy_dict={'sell_low': (2, nan), 'high_low': (array([0.]), array([1.2575])), 'track': (0, 4.0, 20.26712226359752)}\n",
      "time=0, obj=0.0, s.resource=1, s.price=16, x=Decision(sell=1, hold=0)\n",
      "coin  0.3908065250646414  curr_bias  Up  new_bias  Up\n",
      "obj=16.0, state.resource=0\n",
      "policy_dict={'sell_low': (2, nan), 'high_low': (array([0.]), array([2.505])), 'track': (0, 4.0, 20.26712226359752)}\n",
      "time=0, obj=0.0, s.resource=1, s.price=16, x=Decision(sell=1, hold=0)\n",
      "coin  0.1968112305941645  curr_bias  Up  new_bias  Up\n",
      "obj=16.0, state.resource=0\n",
      "policy_dict={'sell_low': (2, nan), 'high_low': (array([0.]), array([3.7525])), 'track': (0, 4.0, 20.26712226359752)}\n",
      "time=0, obj=0.0, s.resource=1, s.price=16, x=Decision(sell=1, hold=0)\n",
      "coin  0.21448630418613235  curr_bias  Up  new_bias  Up\n",
      "obj=16.0, state.resource=0\n",
      "policy_dict={'sell_low': (2, nan), 'high_low': (array([0.]), array([5.])), 'track': (0, 4.0, 20.26712226359752)}\n",
      "time=0, obj=0.0, s.resource=1, s.price=16, x=Decision(sell=1, hold=0)\n",
      "coin  0.9733588536154112  curr_bias  Up  new_bias  Neutral\n",
      "obj=16.0, state.resource=0\n",
      "policy_dict={'sell_low': (2, nan), 'high_low': (array([0.]), array([0.01])), 'track': (0, 4.0, 20.26712226359752)}\n",
      "time=0, obj=0.0, s.resource=1, s.price=16, x=Decision(sell=1, hold=0)\n",
      "coin  0.44575938107662616  curr_bias  Up  new_bias  Up\n",
      "obj=16.0, state.resource=0\n",
      "policy_dict={'sell_low': (2, nan), 'high_low': (array([0.]), array([1.2575])), 'track': (0, 4.0, 20.26712226359752)}\n",
      "time=0, obj=0.0, s.resource=1, s.price=16, x=Decision(sell=1, hold=0)\n",
      "coin  0.51386141908312  curr_bias  Up  new_bias  Up\n",
      "obj=16.0, state.resource=0\n",
      "policy_dict={'sell_low': (2, nan), 'high_low': (array([0.]), array([2.505])), 'track': (0, 4.0, 20.26712226359752)}\n",
      "time=0, obj=0.0, s.resource=1, s.price=16, x=Decision(sell=1, hold=0)\n",
      "coin  0.062300606258574254  curr_bias  Up  new_bias  Up\n",
      "obj=16.0, state.resource=0\n",
      "policy_dict={'sell_low': (2, nan), 'high_low': (array([0.]), array([3.7525])), 'track': (0, 4.0, 20.26712226359752)}\n",
      "time=0, obj=0.0, s.resource=1, s.price=16, x=Decision(sell=1, hold=0)\n",
      "coin  0.8046052802625742  curr_bias  Up  new_bias  Up\n",
      "obj=16.0, state.resource=0\n",
      "policy_dict={'sell_low': (2, nan), 'high_low': (array([0.]), array([5.])), 'track': (0, 4.0, 20.26712226359752)}\n",
      "time=0, obj=0.0, s.resource=1, s.price=16, x=Decision(sell=1, hold=0)\n",
      "coin  0.936357889420308  curr_bias  Up  new_bias  Neutral\n",
      "obj=16.0, state.resource=0\n",
      "policy_dict={'sell_low': (2, nan), 'high_low': (array([0.]), array([0.01])), 'track': (0, 4.0, 20.26712226359752)}\n",
      "time=0, obj=0.0, s.resource=1, s.price=16, x=Decision(sell=1, hold=0)\n",
      "coin  0.845526445271649  curr_bias  Up  new_bias  Up\n",
      "obj=16.0, state.resource=0\n",
      "policy_dict={'sell_low': (2, nan), 'high_low': (array([0.]), array([1.2575])), 'track': (0, 4.0, 20.26712226359752)}\n",
      "time=0, obj=0.0, s.resource=1, s.price=16, x=Decision(sell=1, hold=0)\n",
      "coin  0.12352783284131541  curr_bias  Up  new_bias  Up\n",
      "obj=16.0, state.resource=0\n",
      "policy_dict={'sell_low': (2, nan), 'high_low': (array([0.]), array([2.505])), 'track': (0, 4.0, 20.26712226359752)}\n",
      "time=0, obj=0.0, s.resource=1, s.price=16, x=Decision(sell=1, hold=0)\n",
      "coin  0.44293637576559763  curr_bias  Up  new_bias  Up\n",
      "obj=16.0, state.resource=0\n",
      "policy_dict={'sell_low': (2, nan), 'high_low': (array([0.]), array([3.7525])), 'track': (0, 4.0, 20.26712226359752)}\n",
      "time=0, obj=0.0, s.resource=1, s.price=16, x=Decision(sell=1, hold=0)\n",
      "coin  0.5094000421763388  curr_bias  Up  new_bias  Up\n",
      "obj=16.0, state.resource=0\n",
      "policy_dict={'sell_low': (2, nan), 'high_low': (array([0.]), array([5.])), 'track': (0, 4.0, 20.26712226359752)}\n",
      "time=0, obj=0.0, s.resource=1, s.price=16, x=Decision(sell=1, hold=0)\n",
      "coin  0.47459288922756404  curr_bias  Up  new_bias  Up\n",
      "obj=16.0, state.resource=0\n",
      "policy_dict={'sell_low': (2, nan), 'high_low': (array([0.]), array([0.01])), 'track': (0, 4.0, 20.26712226359752)}\n",
      "time=0, obj=0.0, s.resource=1, s.price=16, x=Decision(sell=1, hold=0)\n",
      "coin  0.18590725954813914  curr_bias  Up  new_bias  Up\n",
      "obj=16.0, state.resource=0\n",
      "policy_dict={'sell_low': (2, nan), 'high_low': (array([0.]), array([1.2575])), 'track': (0, 4.0, 20.26712226359752)}\n",
      "time=0, obj=0.0, s.resource=1, s.price=16, x=Decision(sell=1, hold=0)\n",
      "coin  0.30392164170043023  curr_bias  Up  new_bias  Up\n",
      "obj=16.0, state.resource=0\n",
      "policy_dict={'sell_low': (2, nan), 'high_low': (array([0.]), array([2.505])), 'track': (0, 4.0, 20.26712226359752)}\n",
      "time=0, obj=0.0, s.resource=1, s.price=16, x=Decision(sell=1, hold=0)\n",
      "coin  0.3480229444897788  curr_bias  Up  new_bias  Up\n",
      "obj=16.0, state.resource=0\n",
      "policy_dict={'sell_low': (2, nan), 'high_low': (array([0.]), array([3.7525])), 'track': (0, 4.0, 20.26712226359752)}\n",
      "time=0, obj=0.0, s.resource=1, s.price=16, x=Decision(sell=1, hold=0)\n",
      "coin  0.8872588578191919  curr_bias  Up  new_bias  Up\n",
      "obj=16.0, state.resource=0\n",
      "policy_dict={'sell_low': (2, nan), 'high_low': (array([0.]), array([5.])), 'track': (0, 4.0, 20.26712226359752)}\n",
      "time=0, obj=0.0, s.resource=1, s.price=16, x=Decision(sell=1, hold=0)\n",
      "coin  0.15417428864275384  curr_bias  Up  new_bias  Up\n",
      "obj=16.0, state.resource=0\n",
      "policy_dict={'sell_low': (2, nan), 'high_low': (array([0.]), array([0.01])), 'track': (0, 4.0, 20.26712226359752)}\n",
      "time=0, obj=0.0, s.resource=1, s.price=16, x=Decision(sell=1, hold=0)\n",
      "coin  0.3320445479229681  curr_bias  Up  new_bias  Up\n",
      "obj=16.0, state.resource=0\n",
      "policy_dict={'sell_low': (2, nan), 'high_low': (array([0.]), array([1.2575])), 'track': (0, 4.0, 20.26712226359752)}\n",
      "time=0, obj=0.0, s.resource=1, s.price=16, x=Decision(sell=1, hold=0)\n",
      "coin  0.3979770633130483  curr_bias  Up  new_bias  Up\n",
      "obj=16.0, state.resource=0\n",
      "policy_dict={'sell_low': (2, nan), 'high_low': (array([0.]), array([2.505])), 'track': (0, 4.0, 20.26712226359752)}\n",
      "time=0, obj=0.0, s.resource=1, s.price=16, x=Decision(sell=1, hold=0)\n",
      "coin  0.621830380874947  curr_bias  Up  new_bias  Up\n",
      "obj=16.0, state.resource=0\n",
      "policy_dict={'sell_low': (2, nan), 'high_low': (array([0.]), array([3.7525])), 'track': (0, 4.0, 20.26712226359752)}\n",
      "time=0, obj=0.0, s.resource=1, s.price=16, x=Decision(sell=1, hold=0)\n",
      "coin  0.2571450992238564  curr_bias  Up  new_bias  Up\n",
      "obj=16.0, state.resource=0\n",
      "policy_dict={'sell_low': (2, nan), 'high_low': (array([0.]), array([5.])), 'track': (0, 4.0, 20.26712226359752)}\n",
      "time=0, obj=0.0, s.resource=1, s.price=16, x=Decision(sell=1, hold=0)\n",
      "coin  0.10765674050307494  curr_bias  Up  new_bias  Up\n",
      "obj=16.0, state.resource=0\n",
      "policy_dict={'sell_low': (2, nan), 'high_low': (array([0.]), array([0.01])), 'track': (0, 4.0, 20.26712226359752)}\n",
      "time=0, obj=0.0, s.resource=1, s.price=16, x=Decision(sell=1, hold=0)\n",
      "coin  0.21159810093802067  curr_bias  Up  new_bias  Up\n",
      "obj=16.0, state.resource=0\n",
      "policy_dict={'sell_low': (2, nan), 'high_low': (array([0.]), array([1.2575])), 'track': (0, 4.0, 20.26712226359752)}\n",
      "time=0, obj=0.0, s.resource=1, s.price=16, x=Decision(sell=1, hold=0)\n",
      "coin  0.1779258961519069  curr_bias  Up  new_bias  Up\n",
      "obj=16.0, state.resource=0\n",
      "policy_dict={'sell_low': (2, nan), 'high_low': (array([0.]), array([2.505])), 'track': (0, 4.0, 20.26712226359752)}\n",
      "time=0, obj=0.0, s.resource=1, s.price=16, x=Decision(sell=1, hold=0)\n",
      "coin  0.322458657612253  curr_bias  Up  new_bias  Up\n",
      "obj=16.0, state.resource=0\n",
      "policy_dict={'sell_low': (2, nan), 'high_low': (array([0.]), array([3.7525])), 'track': (0, 4.0, 20.26712226359752)}\n",
      "time=0, obj=0.0, s.resource=1, s.price=16, x=Decision(sell=1, hold=0)\n",
      "coin  0.09214214105699858  curr_bias  Up  new_bias  Up\n",
      "obj=16.0, state.resource=0\n",
      "policy_dict={'sell_low': (2, nan), 'high_low': (array([0.]), array([5.])), 'track': (0, 4.0, 20.26712226359752)}\n",
      "time=0, obj=0.0, s.resource=1, s.price=16, x=Decision(sell=1, hold=0)\n",
      "coin  0.6618029462943942  curr_bias  Up  new_bias  Up\n",
      "obj=16.0, state.resource=0\n",
      "policy_dict={'sell_low': (2, nan), 'high_low': (array([0.]), array([0.01])), 'track': (0, 4.0, 20.26712226359752)}\n",
      "time=0, obj=0.0, s.resource=1, s.price=16, x=Decision(sell=1, hold=0)\n",
      "coin  0.21694597430140572  curr_bias  Up  new_bias  Up\n",
      "obj=16.0, state.resource=0\n",
      "policy_dict={'sell_low': (2, nan), 'high_low': (array([0.]), array([1.2575])), 'track': (0, 4.0, 20.26712226359752)}\n",
      "time=0, obj=0.0, s.resource=1, s.price=16, x=Decision(sell=1, hold=0)\n",
      "coin  0.30929096405150003  curr_bias  Up  new_bias  Up\n",
      "obj=16.0, state.resource=0\n",
      "policy_dict={'sell_low': (2, nan), 'high_low': (array([0.]), array([2.505])), 'track': (0, 4.0, 20.26712226359752)}\n",
      "time=0, obj=0.0, s.resource=1, s.price=16, x=Decision(sell=1, hold=0)\n",
      "coin  0.7118383107395528  curr_bias  Up  new_bias  Up\n",
      "obj=16.0, state.resource=0\n",
      "policy_dict={'sell_low': (2, nan), 'high_low': (array([0.]), array([3.7525])), 'track': (0, 4.0, 20.26712226359752)}\n",
      "time=0, obj=0.0, s.resource=1, s.price=16, x=Decision(sell=1, hold=0)\n",
      "coin  0.9705949758462649  curr_bias  Up  new_bias  Neutral\n",
      "obj=16.0, state.resource=0\n",
      "policy_dict={'sell_low': (2, nan), 'high_low': (array([0.]), array([5.])), 'track': (0, 4.0, 20.26712226359752)}\n",
      "time=0, obj=0.0, s.resource=1, s.price=16, x=Decision(sell=1, hold=0)\n",
      "coin  0.8954717762105713  curr_bias  Up  new_bias  Up\n",
      "obj=16.0, state.resource=0\n",
      "policy_dict={'sell_low': (2, nan), 'high_low': (array([0.]), array([0.01])), 'track': (0, 4.0, 20.26712226359752)}\n",
      "time=0, obj=0.0, s.resource=1, s.price=16, x=Decision(sell=1, hold=0)\n",
      "coin  0.724180045359918  curr_bias  Up  new_bias  Up\n",
      "obj=16.0, state.resource=0\n",
      "policy_dict={'sell_low': (2, nan), 'high_low': (array([0.]), array([1.2575])), 'track': (0, 4.0, 20.26712226359752)}\n",
      "time=0, obj=0.0, s.resource=1, s.price=16, x=Decision(sell=1, hold=0)\n",
      "coin  0.6405077851241651  curr_bias  Up  new_bias  Up\n",
      "obj=16.0, state.resource=0\n",
      "policy_dict={'sell_low': (2, nan), 'high_low': (array([0.]), array([2.505])), 'track': (0, 4.0, 20.26712226359752)}\n",
      "time=0, obj=0.0, s.resource=1, s.price=16, x=Decision(sell=1, hold=0)\n",
      "coin  0.5381528904269811  curr_bias  Up  new_bias  Up\n",
      "obj=16.0, state.resource=0\n",
      "policy_dict={'sell_low': (2, nan), 'high_low': (array([0.]), array([3.7525])), 'track': (0, 4.0, 20.26712226359752)}\n",
      "time=0, obj=0.0, s.resource=1, s.price=16, x=Decision(sell=1, hold=0)\n",
      "coin  0.3103346820920315  curr_bias  Up  new_bias  Up\n",
      "obj=16.0, state.resource=0\n",
      "policy_dict={'sell_low': (2, nan), 'high_low': (array([0.]), array([5.])), 'track': (0, 4.0, 20.26712226359752)}\n",
      "time=0, obj=0.0, s.resource=1, s.price=16, x=Decision(sell=1, hold=0)\n",
      "coin  0.5117450676415145  curr_bias  Up  new_bias  Up\n",
      "obj=16.0, state.resource=0\n",
      "policy_dict={'sell_low': (2, nan), 'high_low': (array([0.]), array([0.01])), 'track': (0, 4.0, 20.26712226359752)}\n",
      "time=0, obj=0.0, s.resource=1, s.price=16, x=Decision(sell=1, hold=0)\n",
      "coin  0.3064108209707258  curr_bias  Up  new_bias  Up\n",
      "obj=16.0, state.resource=0\n",
      "policy_dict={'sell_low': (2, nan), 'high_low': (array([0.]), array([1.2575])), 'track': (0, 4.0, 20.26712226359752)}\n",
      "time=0, obj=0.0, s.resource=1, s.price=16, x=Decision(sell=1, hold=0)\n",
      "coin  0.6694145424676555  curr_bias  Up  new_bias  Up\n",
      "obj=16.0, state.resource=0\n",
      "policy_dict={'sell_low': (2, nan), 'high_low': (array([0.]), array([2.505])), 'track': (0, 4.0, 20.26712226359752)}\n",
      "time=0, obj=0.0, s.resource=1, s.price=16, x=Decision(sell=1, hold=0)\n",
      "coin  0.35517977103926734  curr_bias  Up  new_bias  Up\n",
      "obj=16.0, state.resource=0\n",
      "policy_dict={'sell_low': (2, nan), 'high_low': (array([0.]), array([3.7525])), 'track': (0, 4.0, 20.26712226359752)}\n",
      "time=0, obj=0.0, s.resource=1, s.price=16, x=Decision(sell=1, hold=0)\n",
      "coin  0.9391590590558626  curr_bias  Up  new_bias  Neutral\n",
      "obj=16.0, state.resource=0\n",
      "policy_dict={'sell_low': (2, nan), 'high_low': (array([0.]), array([5.])), 'track': (0, 4.0, 20.26712226359752)}\n",
      "time=0, obj=0.0, s.resource=1, s.price=16, x=Decision(sell=1, hold=0)\n",
      "coin  0.538406884730934  curr_bias  Up  new_bias  Up\n",
      "obj=16.0, state.resource=0\n",
      "policy_dict={'sell_low': (2, nan), 'high_low': (array([0.]), array([0.01])), 'track': (0, 4.0, 20.26712226359752)}\n",
      "time=0, obj=0.0, s.resource=1, s.price=16, x=Decision(sell=1, hold=0)\n",
      "coin  0.5713360605171846  curr_bias  Up  new_bias  Up\n",
      "obj=16.0, state.resource=0\n",
      "policy_dict={'sell_low': (2, nan), 'high_low': (array([0.]), array([1.2575])), 'track': (0, 4.0, 20.26712226359752)}\n",
      "time=0, obj=0.0, s.resource=1, s.price=16, x=Decision(sell=1, hold=0)\n",
      "coin  0.6046123203925141  curr_bias  Up  new_bias  Up\n",
      "obj=16.0, state.resource=0\n",
      "policy_dict={'sell_low': (2, nan), 'high_low': (array([0.]), array([2.505])), 'track': (0, 4.0, 20.26712226359752)}\n",
      "time=0, obj=0.0, s.resource=1, s.price=16, x=Decision(sell=1, hold=0)\n",
      "coin  0.18547411275469827  curr_bias  Up  new_bias  Up\n",
      "obj=16.0, state.resource=0\n",
      "policy_dict={'sell_low': (2, nan), 'high_low': (array([0.]), array([3.7525])), 'track': (0, 4.0, 20.26712226359752)}\n",
      "time=0, obj=0.0, s.resource=1, s.price=16, x=Decision(sell=1, hold=0)\n",
      "coin  0.8791305791967198  curr_bias  Up  new_bias  Up\n",
      "obj=16.0, state.resource=0\n",
      "policy_dict={'sell_low': (2, nan), 'high_low': (array([0.]), array([5.])), 'track': (0, 4.0, 20.26712226359752)}\n",
      "time=0, obj=0.0, s.resource=1, s.price=16, x=Decision(sell=1, hold=0)\n",
      "coin  0.7535924882911905  curr_bias  Up  new_bias  Up\n",
      "obj=16.0, state.resource=0\n",
      "policy_dict={'sell_low': (2, nan), 'high_low': (array([0.]), array([0.01])), 'track': (0, 4.0, 20.26712226359752)}\n",
      "time=0, obj=0.0, s.resource=1, s.price=16, x=Decision(sell=1, hold=0)\n",
      "coin  0.17246521697407635  curr_bias  Up  new_bias  Up\n",
      "obj=16.0, state.resource=0\n",
      "policy_dict={'sell_low': (2, nan), 'high_low': (array([0.]), array([1.2575])), 'track': (0, 4.0, 20.26712226359752)}\n",
      "time=0, obj=0.0, s.resource=1, s.price=16, x=Decision(sell=1, hold=0)\n",
      "coin  0.9271839972039936  curr_bias  Up  new_bias  Neutral\n",
      "obj=16.0, state.resource=0\n",
      "policy_dict={'sell_low': (2, nan), 'high_low': (array([0.]), array([2.505])), 'track': (0, 4.0, 20.26712226359752)}\n",
      "time=0, obj=0.0, s.resource=1, s.price=16, x=Decision(sell=1, hold=0)\n",
      "coin  0.15478123011988687  curr_bias  Up  new_bias  Up\n",
      "obj=16.0, state.resource=0\n",
      "policy_dict={'sell_low': (2, nan), 'high_low': (array([0.]), array([3.7525])), 'track': (0, 4.0, 20.26712226359752)}\n",
      "time=0, obj=0.0, s.resource=1, s.price=16, x=Decision(sell=1, hold=0)\n",
      "coin  0.974945570660559  curr_bias  Up  new_bias  Neutral\n",
      "obj=16.0, state.resource=0\n",
      "policy_dict={'sell_low': (2, nan), 'high_low': (array([0.]), array([5.])), 'track': (0, 4.0, 20.26712226359752)}\n",
      "time=0, obj=0.0, s.resource=1, s.price=16, x=Decision(sell=1, hold=0)\n",
      "coin  0.5698984593718842  curr_bias  Up  new_bias  Up\n",
      "obj=16.0, state.resource=0\n",
      "policy_dict={'sell_low': (2, nan), 'high_low': (array([0.]), array([0.01])), 'track': (0, 4.0, 20.26712226359752)}\n",
      "time=0, obj=0.0, s.resource=1, s.price=16, x=Decision(sell=1, hold=0)\n",
      "coin  0.07527831520902994  curr_bias  Up  new_bias  Up\n",
      "obj=16.0, state.resource=0\n",
      "policy_dict={'sell_low': (2, nan), 'high_low': (array([0.]), array([1.2575])), 'track': (0, 4.0, 20.26712226359752)}\n",
      "time=0, obj=0.0, s.resource=1, s.price=16, x=Decision(sell=1, hold=0)\n",
      "coin  0.8145363043106949  curr_bias  Up  new_bias  Up\n",
      "obj=16.0, state.resource=0\n",
      "policy_dict={'sell_low': (2, nan), 'high_low': (array([0.]), array([2.505])), 'track': (0, 4.0, 20.26712226359752)}\n",
      "time=0, obj=0.0, s.resource=1, s.price=16, x=Decision(sell=1, hold=0)\n",
      "coin  0.5207088734398683  curr_bias  Up  new_bias  Up\n",
      "obj=16.0, state.resource=0\n",
      "policy_dict={'sell_low': (2, nan), 'high_low': (array([0.]), array([3.7525])), 'track': (0, 4.0, 20.26712226359752)}\n",
      "time=0, obj=0.0, s.resource=1, s.price=16, x=Decision(sell=1, hold=0)\n",
      "coin  0.5974001871711134  curr_bias  Up  new_bias  Up\n",
      "obj=16.0, state.resource=0\n",
      "policy_dict={'sell_low': (2, nan), 'high_low': (array([0.]), array([5.])), 'track': (0, 4.0, 20.26712226359752)}\n",
      "time=0, obj=0.0, s.resource=1, s.price=16, x=Decision(sell=1, hold=0)\n",
      "coin  0.550856996611958  curr_bias  Up  new_bias  Up\n",
      "obj=16.0, state.resource=0\n",
      "policy_dict={'sell_low': (2, nan), 'high_low': (array([0.]), array([0.01])), 'track': (0, 4.0, 20.26712226359752)}\n",
      "time=0, obj=0.0, s.resource=1, s.price=16, x=Decision(sell=1, hold=0)\n",
      "coin  0.35210228055326387  curr_bias  Up  new_bias  Up\n",
      "obj=16.0, state.resource=0\n",
      "policy_dict={'sell_low': (2, nan), 'high_low': (array([0.]), array([1.2575])), 'track': (0, 4.0, 20.26712226359752)}\n",
      "time=0, obj=0.0, s.resource=1, s.price=16, x=Decision(sell=1, hold=0)\n",
      "coin  0.5844314606507931  curr_bias  Up  new_bias  Up\n",
      "obj=16.0, state.resource=0\n",
      "policy_dict={'sell_low': (2, nan), 'high_low': (array([0.]), array([2.505])), 'track': (0, 4.0, 20.26712226359752)}\n",
      "time=0, obj=0.0, s.resource=1, s.price=16, x=Decision(sell=1, hold=0)\n",
      "coin  0.9067331874003017  curr_bias  Up  new_bias  Neutral\n",
      "obj=16.0, state.resource=0\n",
      "policy_dict={'sell_low': (2, nan), 'high_low': (array([0.]), array([3.7525])), 'track': (0, 4.0, 20.26712226359752)}\n",
      "time=0, obj=0.0, s.resource=1, s.price=16, x=Decision(sell=1, hold=0)\n",
      "coin  0.32976699057363623  curr_bias  Up  new_bias  Up\n",
      "obj=16.0, state.resource=0\n",
      "policy_dict={'sell_low': (2, nan), 'high_low': (array([0.]), array([5.])), 'track': (0, 4.0, 20.26712226359752)}\n",
      "time=0, obj=0.0, s.resource=1, s.price=16, x=Decision(sell=1, hold=0)\n",
      "coin  0.775478950461835  curr_bias  Up  new_bias  Up\n",
      "obj=16.0, state.resource=0\n",
      "cum_avg_contrib\n",
      "[[16. 16. 16. 16. 16. 16. 16. 16. 16. 16. 16. 16. 16. 16. 16. 16. 16. 16.\n",
      "  16. 16. 16. 16. 16. 16. 16.]\n",
      " [16. 16. 16. 16. 16. 16. 16. 16. 16. 16. 16. 16. 16. 16. 16. 16. 16. 16.\n",
      "  16. 16. 16. 16. 16. 16. 16.]\n",
      " [16. 16. 16. 16. 16. 16. 16. 16. 16. 16. 16. 16. 16. 16. 16. 16. 16. 16.\n",
      "  16. 16. 16. 16. 16. 16. 16.]\n",
      " [16. 16. 16. 16. 16. 16. 16. 16. 16. 16. 16. 16. 16. 16. 16. 16. 16. 16.\n",
      "  16. 16. 16. 16. 16. 16. 16.]\n",
      " [16. 16. 16. 16. 16. 16. 16. 16. 16. 16. 16. 16. 16. 16. 16. 16. 16. 16.\n",
      "  16. 16. 16. 16. 16. 16. 16.]\n",
      " [16. 16. 16. 16. 16. 16. 16. 16. 16. 16. 16. 16. 16. 16. 16. 16. 16. 16.\n",
      "  16. 16. 16. 16. 16. 16. 16.]\n",
      " [16. 16. 16. 16. 16. 16. 16. 16. 16. 16. 16. 16. 16. 16. 16. 16. 16. 16.\n",
      "  16. 16. 16. 16. 16. 16. 16.]\n",
      " [16. 16. 16. 16. 16. 16. 16. 16. 16. 16. 16. 16. 16. 16. 16. 16. 16. 16.\n",
      "  16. 16. 16. 16. 16. 16. 16.]\n",
      " [16. 16. 16. 16. 16. 16. 16. 16. 16. 16. 16. 16. 16. 16. 16. 16. 16. 16.\n",
      "  16. 16. 16. 16. 16. 16. 16.]\n",
      " [16. 16. 16. 16. 16. 16. 16. 16. 16. 16. 16. 16. 16. 16. 16. 16. 16. 16.\n",
      "  16. 16. 16. 16. 16. 16. 16.]]\n",
      "Ite 0, n 0 and plot (0,0)\n"
     ]
    },
    {
     "name": "stderr",
     "output_type": "stream",
     "text": [
      "/home/peyman/miniconda3/envs/jupyterlab-debugger/lib/python3.9/site-packages/matplotlib/text.py:1165: FutureWarning: elementwise comparison failed; returning scalar instead, but in the future will perform elementwise comparison\n",
      "  if s != self._text:\n"
     ]
    },
    {
     "ename": "ValueError",
     "evalue": "could not convert string to float: '[0.01]'",
     "output_type": "error",
     "traceback": [
      "\u001b[0;31m---------------------------------------------------------------------------\u001b[0m",
      "\u001b[0;31mValueError\u001b[0m                                Traceback (most recent call last)",
      "\u001b[0;32m<ipython-input-24-97d223637b78>\u001b[0m in \u001b[0;36m<module>\u001b[0;34m\u001b[0m\n\u001b[1;32m     14\u001b[0m \u001b[0;34m\u001b[0m\u001b[0m\n\u001b[1;32m     15\u001b[0m         \u001b[0;31m# plot those contribution values on a heat map\u001b[0m\u001b[0;34m\u001b[0m\u001b[0;34m\u001b[0m\u001b[0;34m\u001b[0m\u001b[0m\n\u001b[0;32m---> 16\u001b[0;31m \u001b[0mP\u001b[0m\u001b[0;34m.\u001b[0m\u001b[0mplot_heat_map_many\u001b[0m\u001b[0;34m(\u001b[0m\u001b[0mcum_avg_contrib\u001b[0m\u001b[0;34m,\u001b[0m \u001b[0mgrid_search_theta_values\u001b[0m\u001b[0;34m[\u001b[0m\u001b[0;36m1\u001b[0m\u001b[0;34m]\u001b[0m\u001b[0;34m,\u001b[0m \u001b[0mgrid_search_theta_values\u001b[0m\u001b[0;34m[\u001b[0m\u001b[0;36m2\u001b[0m\u001b[0;34m]\u001b[0m\u001b[0;34m,\u001b[0m \u001b[0mprintIterations\u001b[0m\u001b[0;34m)\u001b[0m\u001b[0;34m\u001b[0m\u001b[0;34m\u001b[0m\u001b[0m\n\u001b[0m",
      "\u001b[0;32m~/Documents/PhD_UiS/seqdec_powell_repo/Chap2_Assett_Selling/function/AssetSellingPolicy.py\u001b[0m in \u001b[0;36mplot_heat_map_many\u001b[0;34m(self, contribution_values, theta_low_values, theta_high_values, iterations)\u001b[0m\n\u001b[1;32m    244\u001b[0m             \u001b[0;31m# get the current labels\u001b[0m\u001b[0;34m\u001b[0m\u001b[0;34m\u001b[0m\u001b[0;34m\u001b[0m\u001b[0m\n\u001b[1;32m    245\u001b[0m             \u001b[0mlabelsx\u001b[0m \u001b[0;34m=\u001b[0m \u001b[0;34m[\u001b[0m\u001b[0mitem\u001b[0m\u001b[0;34m.\u001b[0m\u001b[0mget_text\u001b[0m\u001b[0;34m(\u001b[0m\u001b[0;34m)\u001b[0m \u001b[0;32mfor\u001b[0m \u001b[0mitem\u001b[0m \u001b[0;32min\u001b[0m \u001b[0max\u001b[0m\u001b[0;34m.\u001b[0m\u001b[0mget_xticklabels\u001b[0m\u001b[0;34m(\u001b[0m\u001b[0;34m)\u001b[0m\u001b[0;34m]\u001b[0m\u001b[0;34m\u001b[0m\u001b[0;34m\u001b[0m\u001b[0m\n\u001b[0;32m--> 246\u001b[0;31m             \u001b[0max\u001b[0m\u001b[0;34m.\u001b[0m\u001b[0mset_xticklabels\u001b[0m\u001b[0;34m(\u001b[0m\u001b[0;34m[\u001b[0m\u001b[0mstr\u001b[0m\u001b[0;34m(\u001b[0m\u001b[0mround\u001b[0m\u001b[0;34m(\u001b[0m\u001b[0mfloat\u001b[0m\u001b[0;34m(\u001b[0m\u001b[0mlabel\u001b[0m\u001b[0;34m)\u001b[0m\u001b[0;34m,\u001b[0m \u001b[0;36m2\u001b[0m\u001b[0;34m)\u001b[0m\u001b[0;34m)\u001b[0m \u001b[0;32mfor\u001b[0m \u001b[0mlabel\u001b[0m \u001b[0;32min\u001b[0m \u001b[0mlabelsx\u001b[0m\u001b[0;34m]\u001b[0m\u001b[0;34m)\u001b[0m\u001b[0;34m\u001b[0m\u001b[0;34m\u001b[0m\u001b[0m\n\u001b[0m\u001b[1;32m    247\u001b[0m \u001b[0;34m\u001b[0m\u001b[0m\n\u001b[1;32m    248\u001b[0m             \u001b[0;31m# get the current labels\u001b[0m\u001b[0;34m\u001b[0m\u001b[0;34m\u001b[0m\u001b[0;34m\u001b[0m\u001b[0m\n",
      "\u001b[0;32m~/Documents/PhD_UiS/seqdec_powell_repo/Chap2_Assett_Selling/function/AssetSellingPolicy.py\u001b[0m in \u001b[0;36m<listcomp>\u001b[0;34m(.0)\u001b[0m\n\u001b[1;32m    244\u001b[0m             \u001b[0;31m# get the current labels\u001b[0m\u001b[0;34m\u001b[0m\u001b[0;34m\u001b[0m\u001b[0;34m\u001b[0m\u001b[0m\n\u001b[1;32m    245\u001b[0m             \u001b[0mlabelsx\u001b[0m \u001b[0;34m=\u001b[0m \u001b[0;34m[\u001b[0m\u001b[0mitem\u001b[0m\u001b[0;34m.\u001b[0m\u001b[0mget_text\u001b[0m\u001b[0;34m(\u001b[0m\u001b[0;34m)\u001b[0m \u001b[0;32mfor\u001b[0m \u001b[0mitem\u001b[0m \u001b[0;32min\u001b[0m \u001b[0max\u001b[0m\u001b[0;34m.\u001b[0m\u001b[0mget_xticklabels\u001b[0m\u001b[0;34m(\u001b[0m\u001b[0;34m)\u001b[0m\u001b[0;34m]\u001b[0m\u001b[0;34m\u001b[0m\u001b[0;34m\u001b[0m\u001b[0m\n\u001b[0;32m--> 246\u001b[0;31m             \u001b[0max\u001b[0m\u001b[0;34m.\u001b[0m\u001b[0mset_xticklabels\u001b[0m\u001b[0;34m(\u001b[0m\u001b[0;34m[\u001b[0m\u001b[0mstr\u001b[0m\u001b[0;34m(\u001b[0m\u001b[0mround\u001b[0m\u001b[0;34m(\u001b[0m\u001b[0mfloat\u001b[0m\u001b[0;34m(\u001b[0m\u001b[0mlabel\u001b[0m\u001b[0;34m)\u001b[0m\u001b[0;34m,\u001b[0m \u001b[0;36m2\u001b[0m\u001b[0;34m)\u001b[0m\u001b[0;34m)\u001b[0m \u001b[0;32mfor\u001b[0m \u001b[0mlabel\u001b[0m \u001b[0;32min\u001b[0m \u001b[0mlabelsx\u001b[0m\u001b[0;34m]\u001b[0m\u001b[0;34m)\u001b[0m\u001b[0;34m\u001b[0m\u001b[0;34m\u001b[0m\u001b[0m\n\u001b[0m\u001b[1;32m    247\u001b[0m \u001b[0;34m\u001b[0m\u001b[0m\n\u001b[1;32m    248\u001b[0m             \u001b[0;31m# get the current labels\u001b[0m\u001b[0;34m\u001b[0m\u001b[0;34m\u001b[0m\u001b[0;34m\u001b[0m\u001b[0m\n",
      "\u001b[0;31mValueError\u001b[0m: could not convert string to float: '[0.01]'"
     ]
    },
    {
     "data": {
      "image/png": "[encoded data removed]",
      "text/plain": [
       "<Figure size 432x288 with 3 Axes>"
      ]
     },
     "metadata": {
      "needs_background": "light"
     },
     "output_type": "display_data"
    }
   ],
   "source": [
    "policy_selected =='full_grid'\n",
    "# obtain the theta values to carry out a full grid search\n",
    "grid_search_theta_values = P.grid_search_theta_values(sheet2['low_min'], sheet2['low_max'], sheet2['high_min'], sheet2['high_max'], sheet2['increment_size'])\n",
    "# use those theta values to calculate corresponding contribution values\n",
    "        \n",
    "contribution_iterations = [P.vary_theta(param_list, policy_info, \"high_low\", t, grid_search_theta_values[0]) for ite in list(range(nIterations))]\n",
    "\n",
    "contribution_iterations_arr = np.array(contribution_iterations)\n",
    "cum_sum_contrib = contribution_iterations_arr.cumsum(axis=0)\n",
    "nElem = np.arange(1,cum_sum_contrib.shape[0]+1).reshape((cum_sum_contrib.shape[0],1))\n",
    "cum_avg_contrib=cum_sum_contrib/nElem\n",
    "print(\"cum_avg_contrib\")\n",
    "print(cum_avg_contrib)\n",
    "    \n",
    "        # plot those contribution values on a heat map\n",
    "P.plot_heat_map_many(cum_avg_contrib, grid_search_theta_values[1], grid_search_theta_values[2], printIterations)"
   ]
  },
  {
   "cell_type": "code",
   "execution_count": null,
   "metadata": {},
   "outputs": [],
   "source": [
    "help(np.linspace)"
   ]
  }
 ],
 "metadata": {
  "kernelspec": {
   "display_name": "Python 3.9.1 64-bit ('jupyterlab-debugger': conda)",
   "language": "python",
   "name": "python39164bitjupyterlabdebuggerconda9f0223ea840b42a4bb0b5831fc210e72"
  },
  "language_info": {
   "codemirror_mode": {
    "name": "ipython",
    "version": 3
   },
   "file_extension": ".py",
   "mimetype": "text/x-python",
   "name": "python",
   "nbconvert_exporter": "python",
   "pygments_lexer": "ipython3",
   "version": "3.9.1"
  },
  "toc": {
   "base_numbering": 1,
   "nav_menu": {},
   "number_sections": true,
   "sideBar": true,
   "skip_h1_title": false,
   "title_cell": "Table of Contents",
   "title_sidebar": "Contents",
   "toc_cell": false,
   "toc_position": {
    "height": "calc(100% - 180px)",
    "left": "10px",
    "top": "150px",
    "width": "165px"
   },
   "toc_section_display": true,
   "toc_window_display": false
  },
  "varInspector": {
   "cols": {
    "lenName": 16,
    "lenType": 16,
    "lenVar": 40
   },
   "kernels_config": {
    "python": {
     "delete_cmd_postfix": "",
     "delete_cmd_prefix": "del ",
     "library": "var_list.py",
     "varRefreshCmd": "print(var_dic_list())"
    },
    "r": {
     "delete_cmd_postfix": ") ",
     "delete_cmd_prefix": "rm(",
     "library": "var_list.r",
     "varRefreshCmd": "cat(var_dic_list()) "
    }
   },
   "types_to_exclude": [
    "module",
    "function",
    "builtin_function_or_method",
    "instance",
    "_Feature"
   ],
   "window_display": false
  }
 },
 "nbformat": 4,
 "nbformat_minor": 4
}
