{
 "cells": [
  {
   "cell_type": "markdown",
   "metadata": {},
   "source": [
    "# Chap2: An Asset Selling Problem"
   ]
  },
  {
   "cell_type": "markdown",
   "metadata": {},
   "source": [
    "The chapter to answer basic question: **When to sell an asset** "
   ]
  },
  {
   "cell_type": "markdown",
   "metadata": {},
   "source": [
    "In this case, we use a simple class of policies known as:  *policy function approximations*."
   ]
  },
  {
   "cell_type": "markdown",
   "metadata": {},
   "source": [
    "**Mathematical Model**"
   ]
  },
  {
   "cell_type": "markdown",
   "metadata": {
    "ExecuteTime": {
     "end_time": "2020-12-21T12:33:31.902426Z",
     "start_time": "2020-12-21T12:33:31.899054Z"
    }
   },
   "source": [
    "* **State Variable**: $S_t$ that captures all the information we need ...($R_t$, $I_t$, $B_t$)\n",
    "* **Decsion Variable** : $x_t$ where $x_0$ is the design decision, while $x_t$ for t>0 represents control varilables.\n",
    "* **Exogenous Information**: The variable $W_t$ captures information that first becomes available between $t-1$ and $t$ from outside of our system.\n",
    "* **Transition Fucntion**:\n",
    "$$\n",
    "S_{t+1} = S^M(S_t, x_t,W_{t+1})\n",
    "$$\n",
    "* **Objective Function**: When there are elements of the *problem* that depend on the state variables, we represent costs/contribution as:\n",
    "\n",
    "$$\n",
    "C(S_{t},x_{t}) \\ or \\ C(S_t,x_t, W_{t+1})\n",
    "$$\n",
    "\n",
    "**Set of learning problems** : where we are trying to learn about a function which is not itself a function of state variable, it means:"
   ]
  },
  {
   "cell_type": "markdown",
   "metadata": {},
   "source": [
    "This means the state variable consists purely of belief state $B_t$."
   ]
  },
  {
   "cell_type": "markdown",
   "metadata": {},
   "source": [
    "## Narrative"
   ]
  },
  {
   "cell_type": "markdown",
   "metadata": {},
   "source": [
    "We are holding a block of shares of stock, looking for oppurtunity to sell.If we sell at time t, we receive a price that varies according to some random process over time. Once we sell the stock, the process stops."
   ]
  },
  {
   "cell_type": "markdown",
   "metadata": {},
   "source": [
    "## Basic Model"
   ]
  },
  {
   "cell_type": "markdown",
   "metadata": {},
   "source": [
    "### State Variable:"
   ]
  },
  {
   "cell_type": "markdown",
   "metadata": {},
   "source": [
    "Two state variables:\n",
    "* The **Physical State** which says whether or not we are still holding the assest\n",
    "* The **Information State** the price of stock "
   ]
  },
  {
   "cell_type": "markdown",
   "metadata": {},
   "source": [
    "* The physical State:"
   ]
  },
  {
   "cell_type": "markdown",
   "metadata": {},
   "source": [
    "$$\n",
    "  R_t=\\left\\{\n",
    "  \\begin{array}{@{}ll@{}}\n",
    "    1, & \\text{if we are holding the stock at time t}\\  \\\\\n",
    "    0, & \\text{if we are not longer holding the stock at time t}\n",
    "  \\end{array}\\right. \n",
    "$$\n",
    "\n",
    "If we sell the stock, we receive the price per share $p_t$. This means our state variable is:\n",
    "$$\n",
    "S_t=(R_t, p_t)\n",
    "$$"
   ]
  },
  {
   "cell_type": "markdown",
   "metadata": {},
   "source": [
    "### Decision Variable:"
   ]
  },
  {
   "cell_type": "markdown",
   "metadata": {
    "ExecuteTime": {
     "end_time": "2020-12-21T13:41:09.474173Z",
     "start_time": "2020-12-21T13:41:09.467788Z"
    }
   },
   "source": [
    "$$\n",
    "\\begin{equation}\n",
    "  x_t=\\left\\{\n",
    "  \\begin{array}{@{}ll@{}}\n",
    "    1, & \\text{if we sell the stock at time t}\\  \\\\\n",
    "    0, & \\text{if we do not sell the stock at time t}\n",
    "  \\end{array}\\right.\n",
    "\\end{equation} \n",
    "$$\n",
    "we only can sell stock if we hold it,\n",
    "$$\n",
    "x_t < R_t\n",
    "$$"
   ]
  },
  {
   "cell_type": "markdown",
   "metadata": {},
   "source": [
    "#### Policy:\n",
    "\n",
    "What is the policy: <br> **which is going to define how we make decision**\n",
    "\n",
    "$$\n",
    "X^{\\pi}(S_t)\n",
    "$$\n",
    "\n",
    "Example policy is we might be to sell if the price drops the below some limit point, thus we could write:\n",
    "\n",
    "$$\n",
    "\\begin{equation}\n",
    "  X^{sell-low}(S_t|\\theta^{low})=\\left\\{\n",
    "  \\begin{array}{@{}ll@{}}\n",
    "    1, & \\text{if}\\ p_t<\\theta^{low}  \\ \\text{and}\\ R_t=1  \\\\\n",
    "    1, & \\text{if}\\ t= T\\ \\text{and} \\ R_t = 1 \\\\\n",
    "    0, & \\text{otherwise}\n",
    "  \\end{array}\\right.\n",
    "\\end{equation} \n",
    "$$"
   ]
  },
  {
   "cell_type": "markdown",
   "metadata": {},
   "source": [
    "### Exogenous Function"
   ]
  },
  {
   "cell_type": "markdown",
   "metadata": {},
   "source": [
    "The only random process in our basic model is the change in price. Alternatively, naturally we simply write $W_t$ be the new price, in which we would write:\n",
    "\n",
    "$$\n",
    "W_{t+1} = (p_{t+1})\n",
    "$$"
   ]
  },
  {
   "cell_type": "markdown",
   "metadata": {},
   "source": [
    "### Transition Function"
   ]
  },
  {
   "cell_type": "markdown",
   "metadata": {},
   "source": [
    "Is the equation that describe how the states evolves. The transition equation is:\n",
    "\n",
    "$$\n",
    "R_{t+1} = R_{t} - x_{t}\n",
    "$$\n",
    "\n",
    "How the price evolves over time. \n",
    "\n",
    "$$p_{t+1} = p_t  + \\hat{p}_{t+1}$$"
   ]
  },
  {
   "cell_type": "markdown",
   "metadata": {},
   "source": [
    "**Transition Function**"
   ]
  },
  {
   "cell_type": "markdown",
   "metadata": {},
   "source": [
    "$$\n",
    "S_{t+1} = S^M(S_t, X^{\\pi}(S_t), W_{t+1})\n",
    "$$"
   ]
  },
  {
   "cell_type": "markdown",
   "metadata": {},
   "source": [
    "If we use our policy $X^{\\pi}(S_t)$, and if we choose sample path $\\omega$, that determine the sequence $W_1,W_2,W_3,...,W_T$...than the simulation of process can be written as:"
   ]
  },
  {
   "cell_type": "markdown",
   "metadata": {},
   "source": [
    "$$\n",
    "(S_0,x_0 = X^{\\pi}(S_0)), W_1(\\omega), S_1, x_1 = X^{\\pi}(S_1), W_(\\omega),..., x_{T-1}, W_T(\\omega),S_T)\n",
    "$$"
   ]
  },
  {
   "cell_type": "markdown",
   "metadata": {},
   "source": [
    "### Objective Function\n",
    "The performance metric is how much we earn from selling our stock."
   ]
  },
  {
   "cell_type": "markdown",
   "metadata": {
    "ExecuteTime": {
     "end_time": "2020-12-21T14:16:26.040468Z",
     "start_time": "2020-12-21T14:16:26.037354Z"
    }
   },
   "source": [
    "$$\n",
    "C(S_t,x_t) = p_tx_t\n",
    "$$"
   ]
  },
  {
   "cell_type": "markdown",
   "metadata": {},
   "source": [
    "We now can formulate the optimizatio problem:"
   ]
  },
  {
   "cell_type": "markdown",
   "metadata": {
    "ExecuteTime": {
     "end_time": "2020-12-21T14:19:50.538018Z",
     "start_time": "2020-12-21T14:19:50.528895Z"
    }
   },
   "source": [
    "$$\n",
    "max \\ \\sum_{t=0}^{T-1} p_tx_t \\\\\n",
    "x_0,x_1,...,x_{T-1}\n",
    "$$"
   ]
  },
  {
   "cell_type": "markdown",
   "metadata": {},
   "source": [
    "Constraints of the Optimization:"
   ]
  },
  {
   "cell_type": "markdown",
   "metadata": {},
   "source": [
    "$$\n",
    "\\sum_{t=0}^{T-1} x_t = 1, \\\\\n",
    "x_t \\leq 1, \\\\\n",
    "x_t \\geq 0,\n",
    "$$"
   ]
  },
  {
   "cell_type": "markdown",
   "metadata": {},
   "source": [
    "**Including Uncertainty**:"
   ]
  },
  {
   "cell_type": "markdown",
   "metadata": {},
   "source": [
    "We are simulating a policy following a sample path $\\omega$ of price $p_1(\\omega), p_2(\\omega),...$"
   ]
  },
  {
   "cell_type": "markdown",
   "metadata": {},
   "source": [
    "$$\n",
    "S_{t+1}(\\omega) = S^{M}(S_t(\\omega), X^{\\pi}(S_t(\\omega)), W_{t+1}(\\omega))\n",
    "$$"
   ]
  },
  {
   "cell_type": "markdown",
   "metadata": {},
   "source": [
    "If we follow policy $\\pi$ along this sample path, we can compute the performance:"
   ]
  },
  {
   "cell_type": "markdown",
   "metadata": {},
   "source": [
    "$$\n",
    "\\hat{F}^{\\pi}(\\omega) = \\sum_{t=0}^{T-1} p_t(\\omega)X^{\\pi}(S_t(\\omega))\n",
    "$$"
   ]
  },
  {
   "cell_type": "markdown",
   "metadata": {},
   "source": [
    "This is for one sample path . We can simulate over sample of $N$ sampels ($\\omega^{1},...,\\omega^n,...\\omega^N$), and take average:"
   ]
  },
  {
   "cell_type": "markdown",
   "metadata": {},
   "source": [
    "$$\n",
    "\\overline{F}^{\\pi} = \\frac{1}{N} \\sum_{n=1}^{N}\\hat{F}^{\\pi}(\\omega^n)\n",
    "$$"
   ]
  },
  {
   "cell_type": "markdown",
   "metadata": {},
   "source": [
    "Finally, we write out optimization problem in terms of finding the best policy, which we can write:"
   ]
  },
  {
   "cell_type": "markdown",
   "metadata": {},
   "source": [
    "$$\n",
    "max \\ \\ \\overline{F}^{\\pi} \\\\\n",
    "x \\in \\Pi\n",
    "$$"
   ]
  },
  {
   "cell_type": "markdown",
   "metadata": {},
   "source": [
    "## Designing Policy"
   ]
  },
  {
   "cell_type": "markdown",
   "metadata": {},
   "source": [
    "### Sell_low Policy:\n",
    "In this policy we *sell* at that the price lower than, $\\theta^{sell-low}$."
   ]
  },
  {
   "cell_type": "markdown",
   "metadata": {},
   "source": [
    "$$\n",
    "  X^{sell-low}(S_t|\\theta^{low}) =\\left\\{\n",
    "  \\begin{array}{@{}ll@{}}\n",
    "    1  & if \\ p_t < \\theta^{low} \\ and \\ R_t=1  \\\\\n",
    "    1, & t=T \\ R_t=1 \\\\\n",
    "    0, & otherwise\n",
    "  \\end{array}\\right.\n",
    "$$"
   ]
  },
  {
   "cell_type": "markdown",
   "metadata": {},
   "source": [
    "### High_Low policy:"
   ]
  },
  {
   "cell_type": "markdown",
   "metadata": {},
   "source": [
    "In this policy , we will sell the asset if the price jumps *too high** or ** too low**:"
   ]
  },
  {
   "cell_type": "markdown",
   "metadata": {},
   "source": [
    "$$\n",
    "  X^{high-low}(S_t|\\theta^{high-low}) =\\left\\{\n",
    "  \\begin{array}{@{}ll@{}}\n",
    "    1  & if \\ p_t < \\theta^{low} \\ or \\ p_t > \\theta^{high}   \\\\\n",
    "    1, & t=T \\ and \\ R_t=1 \\\\\n",
    "    0, & otherwise\n",
    "  \\end{array}\\right.\n",
    "$$"
   ]
  },
  {
   "cell_type": "markdown",
   "metadata": {},
   "source": [
    "### Track Policy:"
   ]
  },
  {
   "cell_type": "markdown",
   "metadata": {},
   "source": [
    "Perhaps we just want to sell when the stock rises above a tracking signal. Tod this, first create a smoothed estimate of price:"
   ]
  },
  {
   "cell_type": "markdown",
   "metadata": {},
   "source": [
    "$$\\overline{p}_t = (1- \\alpha)\\overline{p}_{t-1} + \\alpha \\hat{p}_t$$"
   ]
  },
  {
   "cell_type": "markdown",
   "metadata": {},
   "source": [
    "Now consider a tracking policy that we might write:"
   ]
  },
  {
   "cell_type": "markdown",
   "metadata": {},
   "source": [
    "$$\n",
    "  X^{track}(S_t | \\theta^{track}) =\\left\\{\n",
    "  \\begin{array}{@{}ll@{}}\n",
    "    1  & if \\ p_t > \\overline{p}_t + \\theta^{track} \\    \\\\\n",
    "    1, & t=T \\ and \\ R_t=1 \\\\\n",
    "    0, & otherwise\n",
    "  \\end{array}\\right.\n",
    "$$"
   ]
  },
  {
   "cell_type": "markdown",
   "metadata": {},
   "source": [
    "For this policy, we are going to need to tweak our model, because we now $\\overline{p}_{t}$ in order to make decision. This means we would now write our state as:"
   ]
  },
  {
   "cell_type": "markdown",
   "metadata": {},
   "source": [
    "$$\n",
    "S_t = (R_t, p_t, \\overline{p}_t)\n",
    "$$"
   ]
  },
  {
   "cell_type": "markdown",
   "metadata": {},
   "source": [
    "**Classes of Policies**:"
   ]
  },
  {
   "cell_type": "markdown",
   "metadata": {},
   "source": [
    "$F = \\{\"sell-low\",\"high-low\",\"track\"\\}$"
   ]
  },
  {
   "cell_type": "markdown",
   "metadata": {},
   "source": [
    "**Parameter for each policy**:"
   ]
  },
  {
   "cell_type": "markdown",
   "metadata": {},
   "source": [
    "$\\theta^f \\in F$"
   ]
  },
  {
   "cell_type": "markdown",
   "metadata": {},
   "source": [
    "**Search over policies**:"
   ]
  },
  {
   "cell_type": "markdown",
   "metadata": {},
   "source": [
    "$\\pi \\in \\Pi$"
   ]
  },
  {
   "cell_type": "markdown",
   "metadata": {},
   "source": [
    "## Coding Part:"
   ]
  },
  {
   "cell_type": "markdown",
   "metadata": {},
   "source": [
    "### Import libraries"
   ]
  },
  {
   "cell_type": "code",
   "execution_count": 55,
   "metadata": {},
   "outputs": [],
   "source": [
    "import pandas as pd\n",
    "import numpy as np\n",
    "from collections import namedtuple\n",
    "import matplotlib.pyplot as plt\n",
    "from copy import copy\n",
    "import math\n",
    "import seaborn as sns\n",
    "sns.set_theme(style=\"darkgrid\")\n",
    "sns.set(rc={'figure.figsize':(12,8)})"
   ]
  },
  {
   "cell_type": "markdown",
   "metadata": {},
   "source": [
    "### Change the directory to to get module"
   ]
  },
  {
   "cell_type": "code",
   "execution_count": 56,
   "metadata": {},
   "outputs": [
    {
     "data": {
      "text/plain": [
       "'/home/peyman/Documents/PhD_UiS/seqdec_powell_repo/Chap2_Assett_Selling/function'"
      ]
     },
     "execution_count": 56,
     "metadata": {},
     "output_type": "execute_result"
    }
   ],
   "source": [
    "import os\n",
    "os.chdir(\"/home/peyman/Documents/PhD_UiS/seqdec_powell_repo/Chap2_Assett_Selling/function\")\n",
    "os.getcwd()"
   ]
  },
  {
   "cell_type": "markdown",
   "metadata": {},
   "source": [
    "### Import modules from function"
   ]
  },
  {
   "cell_type": "code",
   "execution_count": 57,
   "metadata": {},
   "outputs": [],
   "source": [
    "from AssetSellingModel import AssetSellingModel\n",
    "from AssetSellingPolicy import AssetSellingPolicy"
   ]
  },
  {
   "cell_type": "markdown",
   "metadata": {},
   "source": [
    "### Change the directory to to get parameters"
   ]
  },
  {
   "cell_type": "code",
   "execution_count": 58,
   "metadata": {},
   "outputs": [
    {
     "data": {
      "text/plain": [
       "'/home/peyman/Documents/PhD_UiS/seqdec_powell_repo/Chap2_Assett_Selling/data'"
      ]
     },
     "execution_count": 58,
     "metadata": {},
     "output_type": "execute_result"
    }
   ],
   "source": [
    "import os\n",
    "os.chdir(\"/home/peyman/Documents/PhD_UiS/seqdec_powell_repo/Chap2_Assett_Selling/data\")\n",
    "os.getcwd()"
   ]
  },
  {
   "cell_type": "markdown",
   "metadata": {},
   "source": [
    "### Policy Parameters:"
   ]
  },
  {
   "cell_type": "code",
   "execution_count": 59,
   "metadata": {},
   "outputs": [],
   "source": [
    "sheet1= pd.read_excel(\"asset_selling_policy_parameters_edit.xlsx\", sheet_name=\"Sheet1\", usecols=[\"policy\", \"param1\",\"param2\"])"
   ]
  },
  {
   "cell_type": "code",
   "execution_count": 60,
   "metadata": {},
   "outputs": [
    {
     "data": {
      "text/html": [
       "<div>\n",
       "<style scoped>\n",
       "    .dataframe tbody tr th:only-of-type {\n",
       "        vertical-align: middle;\n",
       "    }\n",
       "\n",
       "    .dataframe tbody tr th {\n",
       "        vertical-align: top;\n",
       "    }\n",
       "\n",
       "    .dataframe thead th {\n",
       "        text-align: right;\n",
       "    }\n",
       "</style>\n",
       "<table border=\"1\" class=\"dataframe\">\n",
       "  <thead>\n",
       "    <tr style=\"text-align: right;\">\n",
       "      <th></th>\n",
       "      <th>policy</th>\n",
       "      <th>param1</th>\n",
       "      <th>param2</th>\n",
       "    </tr>\n",
       "  </thead>\n",
       "  <tbody>\n",
       "    <tr>\n",
       "      <th>0</th>\n",
       "      <td>sell_low</td>\n",
       "      <td>2</td>\n",
       "      <td>NaN</td>\n",
       "    </tr>\n",
       "    <tr>\n",
       "      <th>1</th>\n",
       "      <td>high_low</td>\n",
       "      <td>4</td>\n",
       "      <td>10.0</td>\n",
       "    </tr>\n",
       "    <tr>\n",
       "      <th>2</th>\n",
       "      <td>track</td>\n",
       "      <td>0</td>\n",
       "      <td>4.0</td>\n",
       "    </tr>\n",
       "  </tbody>\n",
       "</table>\n",
       "</div>"
      ],
      "text/plain": [
       "     policy  param1  param2\n",
       "0  sell_low       2     NaN\n",
       "1  high_low       4    10.0\n",
       "2     track       0     4.0"
      ]
     },
     "execution_count": 60,
     "metadata": {},
     "output_type": "execute_result"
    }
   ],
   "source": [
    "sheet1"
   ]
  },
  {
   "cell_type": "code",
   "execution_count": 61,
   "metadata": {},
   "outputs": [
    {
     "data": {
      "text/plain": [
       "[(2, nan), (4, 10.0), (0, 4.0)]"
      ]
     },
     "execution_count": 61,
     "metadata": {},
     "output_type": "execute_result"
    }
   ],
   "source": [
    "params = zip(sheet1[\"param1\"], sheet1[\"param2\"])\n",
    "param_list = list(params)\n",
    "param_list"
   ]
  },
  {
   "cell_type": "markdown",
   "metadata": {},
   "source": [
    "### Full grid Policy Parameters:"
   ]
  },
  {
   "cell_type": "code",
   "execution_count": 62,
   "metadata": {},
   "outputs": [],
   "source": [
    "sheet2 = pd.read_excel(\"asset_selling_policy_parameters_edit.xlsx\", sheet_name=\"Sheet2\")"
   ]
  },
  {
   "cell_type": "code",
   "execution_count": 86,
   "metadata": {},
   "outputs": [
    {
     "data": {
      "text/plain": [
       "low_min             int64\n",
       "low_max             int64\n",
       "high_min            int64\n",
       "high_max            int64\n",
       "increment_size    float64\n",
       "dtype: object"
      ]
     },
     "execution_count": 86,
     "metadata": {},
     "output_type": "execute_result"
    }
   ],
   "source": [
    "sheet2.dtypes"
   ]
  },
  {
   "cell_type": "code",
   "execution_count": 85,
   "metadata": {},
   "outputs": [
    {
     "ename": "NameError",
     "evalue": "name 'dtype' is not defined",
     "output_type": "error",
     "traceback": [
      "\u001b[0;31m---------------------------------------------------------------------------\u001b[0m",
      "\u001b[0;31mNameError\u001b[0m                                 Traceback (most recent call last)",
      "\u001b[0;32m<ipython-input-85-a5fab970a156>\u001b[0m in \u001b[0;36m<module>\u001b[0;34m\u001b[0m\n\u001b[0;32m----> 1\u001b[0;31m \u001b[0mdtype\u001b[0m\u001b[0;34m(\u001b[0m\u001b[0msheet2\u001b[0m\u001b[0;34m)\u001b[0m\u001b[0;34m\u001b[0m\u001b[0;34m\u001b[0m\u001b[0m\n\u001b[0m",
      "\u001b[0;31mNameError\u001b[0m: name 'dtype' is not defined"
     ]
    }
   ],
   "source": [
    "dtype(sheet2)"
   ]
  },
  {
   "cell_type": "markdown",
   "metadata": {},
   "source": [
    "### Parameters of the Dynamic Model: "
   ]
  },
  {
   "cell_type": "code",
   "execution_count": 64,
   "metadata": {},
   "outputs": [
    {
     "data": {
      "text/html": [
       "<div>\n",
       "<style scoped>\n",
       "    .dataframe tbody tr th:only-of-type {\n",
       "        vertical-align: middle;\n",
       "    }\n",
       "\n",
       "    .dataframe tbody tr th {\n",
       "        vertical-align: top;\n",
       "    }\n",
       "\n",
       "    .dataframe thead th {\n",
       "        text-align: right;\n",
       "    }\n",
       "</style>\n",
       "<table border=\"1\" class=\"dataframe\">\n",
       "  <thead>\n",
       "    <tr style=\"text-align: right;\">\n",
       "      <th></th>\n",
       "      <th>Policy</th>\n",
       "      <th>TimeHorizon</th>\n",
       "      <th>DiscountFactor</th>\n",
       "      <th>InitialPrice</th>\n",
       "      <th>InitialBias</th>\n",
       "      <th>UpStep</th>\n",
       "      <th>DownStep</th>\n",
       "      <th>Variance</th>\n",
       "      <th>Iterations</th>\n",
       "      <th>PrintStep</th>\n",
       "    </tr>\n",
       "  </thead>\n",
       "  <tbody>\n",
       "    <tr>\n",
       "      <th>0</th>\n",
       "      <td>track</td>\n",
       "      <td>40</td>\n",
       "      <td>0.99</td>\n",
       "      <td>16</td>\n",
       "      <td>Up</td>\n",
       "      <td>1</td>\n",
       "      <td>-1</td>\n",
       "      <td>2</td>\n",
       "      <td>10</td>\n",
       "      <td>40</td>\n",
       "    </tr>\n",
       "  </tbody>\n",
       "</table>\n",
       "</div>"
      ],
      "text/plain": [
       "  Policy  TimeHorizon  DiscountFactor  InitialPrice InitialBias  UpStep  \\\n",
       "0  track           40            0.99            16          Up       1   \n",
       "\n",
       "   DownStep  Variance  Iterations  PrintStep  \n",
       "0        -1         2          10         40  "
      ]
     },
     "execution_count": 64,
     "metadata": {},
     "output_type": "execute_result"
    }
   ],
   "source": [
    "sheet3 = pd.read_excel(\"asset_selling_policy_parameters_edit.xlsx\", sheet_name=\"Sheet3\")\n",
    "sheet3"
   ]
  },
  {
   "cell_type": "markdown",
   "metadata": {},
   "source": [
    "### Bias Term:"
   ]
  },
  {
   "cell_type": "code",
   "execution_count": 65,
   "metadata": {},
   "outputs": [
    {
     "data": {
      "text/html": [
       "<div>\n",
       "<style scoped>\n",
       "    .dataframe tbody tr th:only-of-type {\n",
       "        vertical-align: middle;\n",
       "    }\n",
       "\n",
       "    .dataframe tbody tr th {\n",
       "        vertical-align: top;\n",
       "    }\n",
       "\n",
       "    .dataframe thead th {\n",
       "        text-align: right;\n",
       "    }\n",
       "</style>\n",
       "<table border=\"1\" class=\"dataframe\">\n",
       "  <thead>\n",
       "    <tr style=\"text-align: right;\">\n",
       "      <th></th>\n",
       "      <th>Up</th>\n",
       "      <th>Neutral</th>\n",
       "      <th>Down</th>\n",
       "    </tr>\n",
       "    <tr>\n",
       "      <th>additional</th>\n",
       "      <th></th>\n",
       "      <th></th>\n",
       "      <th></th>\n",
       "    </tr>\n",
       "  </thead>\n",
       "  <tbody>\n",
       "    <tr>\n",
       "      <th>Up</th>\n",
       "      <td>0.9</td>\n",
       "      <td>0.1</td>\n",
       "      <td>0.0</td>\n",
       "    </tr>\n",
       "    <tr>\n",
       "      <th>Neutral</th>\n",
       "      <td>0.2</td>\n",
       "      <td>0.6</td>\n",
       "      <td>0.2</td>\n",
       "    </tr>\n",
       "    <tr>\n",
       "      <th>Down</th>\n",
       "      <td>0.0</td>\n",
       "      <td>0.1</td>\n",
       "      <td>0.9</td>\n",
       "    </tr>\n",
       "  </tbody>\n",
       "</table>\n",
       "</div>"
      ],
      "text/plain": [
       "             Up  Neutral  Down\n",
       "additional                    \n",
       "Up          0.9      0.1   0.0\n",
       "Neutral     0.2      0.6   0.2\n",
       "Down        0.0      0.1   0.9"
      ]
     },
     "execution_count": 65,
     "metadata": {},
     "output_type": "execute_result"
    }
   ],
   "source": [
    "biasdf = pd.read_excel(\"asset_selling_policy_parameters_edit.xlsx\", sheet_name=\"Sheet4\")\n",
    "biasdf_edit=biasdf.set_index('additional')\n",
    "biasdf_edit"
   ]
  },
  {
   "cell_type": "markdown",
   "metadata": {},
   "source": [
    "### Track Policy:"
   ]
  },
  {
   "cell_type": "code",
   "execution_count": 66,
   "metadata": {},
   "outputs": [
    {
     "name": "stdout",
     "output_type": "stream",
     "text": [
      "The selected policy is: track\n",
      "The T value is: 40\n",
      "The initial price is: 16\n",
      "The initial Bias is: Up\n",
      "The exog_params is: {'UpStep': 1, 'DownStep': -1, 'Variance': 2, 'biasdf':              Up  Neutral  Down\n",
      "additional                    \n",
      "Up          0.9      0.1   0.0\n",
      "Neutral     0.2      0.6   0.2\n",
      "Down        0.0      0.1   0.9}\n",
      "The nIteration is: 10\n",
      "The printStep is: 40\n",
      "The printIterations is: [0]\n"
     ]
    }
   ],
   "source": [
    "policy_selected = sheet3['Policy'][0]\n",
    "print(\"The selected policy is: {}\".format(policy_selected))\n",
    "\n",
    "T = sheet3['TimeHorizon'][0]\n",
    "print(\"The T value is: {}\".format(T))\n",
    "\n",
    "initPrice = sheet3['InitialPrice'][0]\n",
    "print(\"The initial price is: {}\".format(initPrice))\n",
    "\n",
    "initBias = sheet3['InitialBias'][0]\n",
    "print(\"The initial Bias is: {}\".format(initBias))    \n",
    "\n",
    "exog_params = {'UpStep':sheet3['UpStep'][0],'DownStep':sheet3['DownStep'][0],'Variance':sheet3['Variance'][0],'biasdf'\n",
    "               :biasdf_edit}\n",
    "print(\"The exog_params is: {}\".format(exog_params))    \n",
    "    \n",
    "nIterations = sheet3['Iterations'][0]\n",
    "print(\"The nIteration is: {}\".format(nIterations))    \n",
    "\n",
    "printStep = sheet3['PrintStep'][0]\n",
    "print(\"The printStep is: {}\".format(printStep))    \n",
    "\n",
    "printIterations = [0]\n",
    "print(\"The printIterations is: {}\".format(printIterations))    \n",
    "\n",
    "printIterations.extend(list(reversed(range(nIterations-1,0,-printStep))))"
   ]
  },
  {
   "cell_type": "code",
   "execution_count": 67,
   "metadata": {},
   "outputs": [
    {
     "name": "stdout",
     "output_type": "stream",
     "text": [
      "policy_names are: ['sell_low', 'high_low', 'track']\n",
      "state_names are: ['price', 'resource', 'bias']\n",
      "init_state are: {'price': 16, 'resource': 1, 'bias': 'Up'}\n",
      "decision_names are: ['sell', 'hold']\n"
     ]
    }
   ],
   "source": [
    "policy_names = ['sell_low', 'high_low', 'track']\n",
    "print(\"policy_names are: {}\".format(policy_names))    \n",
    "\n",
    "state_names = ['price', 'resource','bias']\n",
    "print(\"state_names are: {}\".format(state_names))    \n",
    "\n",
    "init_state = {'price': initPrice, 'resource': 1,'bias':initBias}\n",
    "print(\"init_state are: {}\".format(init_state))    \n",
    "\n",
    "decision_names = ['sell', 'hold']\n",
    "print(\"decision_names are: {}\".format(decision_names))    \n"
   ]
  },
  {
   "cell_type": "code",
   "execution_count": 68,
   "metadata": {},
   "outputs": [
    {
     "name": "stdout",
     "output_type": "stream",
     "text": [
      "the biasdf_edit is \n",
      " .             Up  Neutral  Down\n",
      "additional                    \n",
      "Up          0.9      0.1   0.0\n",
      "Neutral     0.2      0.6   0.2\n",
      "Down        0.0      0.1   0.9\n",
      "<class 'pandas.core.frame.DataFrame'>\n",
      "the biasdf_edit is \n",
      " .             Up  Neutral  Down\n",
      "additional                    \n",
      "Up          0.9      1.0   1.0\n",
      "Neutral     0.2      0.8   1.0\n",
      "Down        0.0      0.1   1.0\n"
     ]
    }
   ],
   "source": [
    "biasdf = exog_params[\"biasdf\"]\n",
    "print(\"the biasdf_edit is \\n .{}\".format(biasdf))\n",
    "print(type(biasdf))\n",
    "biasdf= biasdf.cumsum(axis =1)\n",
    "print(\"the biasdf_edit is \\n .{}\".format(biasdf))\n"
   ]
  },
  {
   "cell_type": "code",
   "execution_count": 69,
   "metadata": {},
   "outputs": [],
   "source": [
    "M = AssetSellingModel(state_names, decision_names, init_state,exog_params,T)"
   ]
  },
  {
   "cell_type": "code",
   "execution_count": 70,
   "metadata": {},
   "outputs": [],
   "source": [
    "P = AssetSellingPolicy(M, policy_names)"
   ]
  },
  {
   "cell_type": "markdown",
   "metadata": {},
   "source": [
    "### Policy Evaluation"
   ]
  },
  {
   "cell_type": "code",
   "execution_count": 71,
   "metadata": {},
   "outputs": [],
   "source": [
    "t = 0\n",
    "prev_price = init_state['price']"
   ]
  },
  {
   "cell_type": "code",
   "execution_count": 72,
   "metadata": {},
   "outputs": [],
   "source": [
    "policy_info = {'sell_low': param_list[0],\n",
    "                   'high_low': param_list[1],\n",
    "                   'track': param_list[2] + (prev_price,)}"
   ]
  },
  {
   "cell_type": "code",
   "execution_count": 73,
   "metadata": {},
   "outputs": [
    {
     "data": {
      "text/plain": [
       "{'sell_low': (2, nan), 'high_low': (4, 10.0), 'track': (0, 4.0, 16)}"
      ]
     },
     "execution_count": 73,
     "metadata": {},
     "output_type": "execute_result"
    }
   ],
   "source": [
    "policy_info"
   ]
  },
  {
   "cell_type": "code",
   "execution_count": 74,
   "metadata": {},
   "outputs": [
    {
     "data": {
      "text/plain": [
       "'track'"
      ]
     },
     "execution_count": 74,
     "metadata": {},
     "output_type": "execute_result"
    }
   ],
   "source": [
    "policy_selected"
   ]
  },
  {
   "cell_type": "code",
   "execution_count": 75,
   "metadata": {},
   "outputs": [
    {
     "name": "stdout",
     "output_type": "stream",
     "text": [
      "Selected policy track, time horizon 40, initial price 16 and number of iterations 10\n",
      "time=0, obj=0.0, s.resource=1, s.price=16, x=Decision(sell=0, hold=1)\n",
      "coin  0.4139840589481404  curr_bias  Up  new_bias  Up\n",
      "smoothed_price = 19.275851851363697\n",
      "time=1, obj=0.0, s.resource=1, s.price=16.818962962840924, x=Decision(sell=0, hold=1)\n",
      "coin  0.8487800961190239  curr_bias  Up  new_bias  Up\n",
      "smoothed_price = 12.919965111987779\n",
      "time=2, obj=0.0, s.resource=1, s.price=15.844213500127637, x=Decision(sell=1, hold=0)\n",
      "coin  0.45203620488154816  curr_bias  Up  new_bias  Up\n",
      "obj=15.844213500127637, state.resource=0\n",
      "time=0, obj=0.0, s.resource=1, s.price=16, x=Decision(sell=0, hold=1)\n",
      "coin  0.2720800519673423  curr_bias  Up  new_bias  Up\n",
      "smoothed_price = 29.300677434463253\n",
      "time=1, obj=0.0, s.resource=1, s.price=19.325169358615813, x=Decision(sell=0, hold=1)\n",
      "coin  0.905534061916374  curr_bias  Up  new_bias  Neutral\n",
      "smoothed_price = 11.678950072957633\n",
      "time=2, obj=0.0, s.resource=1, s.price=17.41361453720127, x=Decision(sell=1, hold=0)\n",
      "coin  0.3755268704762992  curr_bias  Neutral  new_bias  Neutral\n",
      "obj=17.41361453720127, state.resource=0\n",
      "time=0, obj=0.0, s.resource=1, s.price=16, x=Decision(sell=0, hold=1)\n",
      "coin  0.09168318648059992  curr_bias  Up  new_bias  Up\n",
      "smoothed_price = 30.17968207409804\n",
      "time=1, obj=0.0, s.resource=1, s.price=19.54492051852451, x=Decision(sell=0, hold=1)\n",
      "coin  0.9746533545172668  curr_bias  Up  new_bias  Neutral\n",
      "smoothed_price = 9.10715798582386\n",
      "time=2, obj=0.0, s.resource=1, s.price=16.93547988534935, x=Decision(sell=1, hold=0)\n",
      "coin  0.845463715621411  curr_bias  Neutral  new_bias  Down\n",
      "obj=16.93547988534935, state.resource=0\n",
      "time=0, obj=0.0, s.resource=1, s.price=16, x=Decision(sell=0, hold=1)\n",
      "coin  0.7718855570743978  curr_bias  Up  new_bias  Up\n",
      "smoothed_price = 13.590645854568095\n",
      "time=1, obj=0.0, s.resource=1, s.price=15.397661463642024, x=Decision(sell=1, hold=0)\n",
      "coin  0.058599417274914245  curr_bias  Up  new_bias  Up\n",
      "obj=15.397661463642024, state.resource=0\n",
      "time=0, obj=0.0, s.resource=1, s.price=16, x=Decision(sell=0, hold=1)\n",
      "coin  0.5630457710972723  curr_bias  Up  new_bias  Up\n",
      "smoothed_price = 14.404641398215574\n",
      "time=1, obj=0.0, s.resource=1, s.price=15.601160349553894, x=Decision(sell=1, hold=0)\n",
      "coin  0.6337684851009756  curr_bias  Up  new_bias  Up\n",
      "obj=15.601160349553894, state.resource=0\n",
      "time=0, obj=0.0, s.resource=1, s.price=16, x=Decision(sell=0, hold=1)\n",
      "coin  0.32637382885748367  curr_bias  Up  new_bias  Up\n",
      "smoothed_price = 29.23727426734112\n",
      "time=1, obj=0.0, s.resource=1, s.price=19.30931856683528, x=Decision(sell=0, hold=1)\n",
      "coin  0.010789716774533442  curr_bias  Up  new_bias  Up\n",
      "smoothed_price = 24.356969142318995\n",
      "time=2, obj=0.0, s.resource=1, s.price=20.57123121070621, x=Decision(sell=0, hold=1)\n",
      "coin  0.10655404328873319  curr_bias  Up  new_bias  Up\n",
      "smoothed_price = 32.917325150498336\n",
      "time=3, obj=0.0, s.resource=1, s.price=23.65775469565424, x=Decision(sell=0, hold=1)\n",
      "coin  0.2744609047476718  curr_bias  Up  new_bias  Up\n",
      "smoothed_price = 20.209678891873452\n",
      "time=4, obj=0.0, s.resource=1, s.price=22.795735744709045, x=Decision(sell=1, hold=0)\n",
      "coin  0.7876352836985036  curr_bias  Up  new_bias  Up\n",
      "obj=22.795735744709045, state.resource=0\n",
      "time=0, obj=0.0, s.resource=1, s.price=16, x=Decision(sell=0, hold=1)\n",
      "coin  0.5732916894272274  curr_bias  Up  new_bias  Up\n",
      "smoothed_price = 27.318028871373315\n",
      "time=1, obj=0.0, s.resource=1, s.price=18.82950721784333, x=Decision(sell=0, hold=1)\n",
      "coin  0.25230738226248894  curr_bias  Up  new_bias  Up\n",
      "smoothed_price = 32.205300235020715\n",
      "time=2, obj=0.0, s.resource=1, s.price=22.173455472137675, x=Decision(sell=0, hold=1)\n",
      "coin  0.34703831077049807  curr_bias  Up  new_bias  Up\n",
      "smoothed_price = 22.184929865392462\n",
      "time=3, obj=0.0, s.resource=1, s.price=22.176324070451372, x=Decision(sell=0, hold=1)\n",
      "coin  0.020311694923608736  curr_bias  Up  new_bias  Up\n",
      "smoothed_price = 36.75498055259952\n",
      "time=4, obj=0.0, s.resource=1, s.price=25.82098819098841, x=Decision(sell=0, hold=1)\n",
      "coin  0.5773741485181105  curr_bias  Up  new_bias  Up\n",
      "smoothed_price = 19.512647218984497\n",
      "time=5, obj=0.0, s.resource=1, s.price=24.243902947987433, x=Decision(sell=1, hold=0)\n",
      "coin  0.9296106478220897  curr_bias  Up  new_bias  Neutral\n",
      "obj=24.243902947987433, state.resource=0\n",
      "time=0, obj=0.0, s.resource=1, s.price=16, x=Decision(sell=0, hold=1)\n",
      "coin  0.4326408307147147  curr_bias  Up  new_bias  Up\n",
      "smoothed_price = 29.78638009471284\n",
      "time=1, obj=0.0, s.resource=1, s.price=19.44659502367821, x=Decision(sell=0, hold=1)\n",
      "coin  0.9844689697230611  curr_bias  Up  new_bias  Neutral\n",
      "smoothed_price = 9.047636235056132\n",
      "time=2, obj=0.0, s.resource=1, s.price=16.84685532652269, x=Decision(sell=1, hold=0)\n",
      "coin  0.8262653217404742  curr_bias  Neutral  new_bias  Down\n",
      "obj=16.84685532652269, state.resource=0\n",
      "time=0, obj=0.0, s.resource=1, s.price=16, x=Decision(sell=0, hold=1)\n",
      "coin  0.4433318705856356  curr_bias  Up  new_bias  Up\n",
      "smoothed_price = 4.415644002958089\n",
      "time=1, obj=0.0, s.resource=1, s.price=13.103911000739522, x=Decision(sell=1, hold=0)\n",
      "coin  0.6753561026946597  curr_bias  Up  new_bias  Up\n",
      "obj=13.103911000739522, state.resource=0\n",
      "time=0, obj=0.0, s.resource=1, s.price=16, x=Decision(sell=0, hold=1)\n",
      "coin  0.8662383958568906  curr_bias  Up  new_bias  Up\n",
      "smoothed_price = 41.35203449737756\n",
      "time=1, obj=0.0, s.resource=1, s.price=22.33800862434439, x=Decision(sell=0, hold=1)\n",
      "coin  0.9282091767826981  curr_bias  Up  new_bias  Neutral\n",
      "smoothed_price = 24.822358317891954\n",
      "time=2, obj=0.0, s.resource=1, s.price=22.959096047731283, x=Decision(sell=0, hold=1)\n",
      "coin  0.3886605993398763  curr_bias  Neutral  new_bias  Neutral\n",
      "smoothed_price = 28.44497845663615\n",
      "time=3, obj=0.0, s.resource=1, s.price=24.3305666499575, x=Decision(sell=0, hold=1)\n",
      "coin  0.7922183625790814  curr_bias  Neutral  new_bias  Neutral\n",
      "smoothed_price = 8.076789104517587\n",
      "time=4, obj=0.0, s.resource=1, s.price=20.26712226359752, x=Decision(sell=1, hold=0)\n",
      "coin  0.7101424377623707  curr_bias  Neutral  new_bias  Neutral\n",
      "obj=20.26712226359752, state.resource=0\n",
      "Contribution per iteration: \n",
      "0    15.844214\n",
      "1    17.413615\n",
      "2    16.935480\n",
      "3    15.397661\n",
      "4    15.601160\n",
      "5    22.795736\n",
      "6    24.243903\n",
      "7    16.846855\n",
      "8    13.103911\n",
      "9    20.267122\n",
      "dtype: float64\n",
      "Cumulative average contribution per iteration: \n",
      "0    15.844214\n",
      "1    16.628914\n",
      "2    16.731103\n",
      "3    16.397742\n",
      "4    16.238426\n",
      "5    17.331311\n",
      "6    18.318824\n",
      "7    18.134828\n",
      "8    17.575837\n",
      "9    17.844966\n",
      "dtype: float64\n"
     ]
    }
   ],
   "source": [
    "#if (not policy_selected =='full_grid'):\n",
    "print(\"Selected policy {}, time horizon {}, initial price {} and number of iterations {}\".format(policy_selected,T,initPrice,nIterations))\n",
    "contribution_iterations=[P.run_policy(param_list, policy_info, policy_selected, t) for ite in list(range(nIterations))]\n",
    "\n",
    "contribution_iterations = pd.Series(contribution_iterations)\n",
    "print(\"Contribution per iteration: \")\n",
    "print(contribution_iterations)\n",
    "cum_avg_contrib = contribution_iterations.expanding().mean()\n",
    "print(\"Cumulative average contribution per iteration: \")\n",
    "print(cum_avg_contrib)\n",
    "        \n",
    "#plotting the results\n",
    "\n",
    "#fig, axsubs = plt.subplots(1,2,sharex=True,sharey=True)\n",
    "#fig.suptitle(\"Asset selling using policy {} with parameters {} and T {}\".format(policy_selected,policy_info[policy_selected],T) )\n",
    "#i = np.arange(0, nIterations, 1)\n",
    "        \n",
    "#axsubs[0].plot(i, cum_avg_contrib, 'g')\n",
    "#axsubs[0].set_title('Cumulative average contribution')\n",
    "          \n",
    "#axsubs[1].plot(i, contribution_iterations, 'g')\n",
    "#axsubs[1].set_title('Contribution per iteration')\n",
    "        \n",
    "    \n",
    "# Create a big subplot\n",
    "#ax = fig.add_subplot(111, frameon=False)\n",
    "# hide tick and tick label of the big axes\n",
    "#plt.tick_params(labelcolor='none', top=False, bottom=False, left=False, right=False)\n",
    "\n",
    "#ax.set_ylabel('USD', labelpad=0) # Use argument `labelpad` to move label downwards.\n",
    "#ax.set_xlabel('Iterations', labelpad=10)\n",
    "        \n",
    "#plt.show()        \n"
   ]
  },
  {
   "cell_type": "markdown",
   "metadata": {},
   "source": [
    "## Plot Results"
   ]
  },
  {
   "cell_type": "code",
   "execution_count": 76,
   "metadata": {},
   "outputs": [
    {
     "data": {
      "text/plain": [
       "<AxesSubplot:xlabel='iteration_number', ylabel='contribution_iterations'>"
      ]
     },
     "execution_count": 76,
     "metadata": {},
     "output_type": "execute_result"
    },
    {
     "data": {
      "image/png": "[encoded data removed]",
      "text/plain": [
       "<Figure size 864x576 with 1 Axes>"
      ]
     },
     "metadata": {},
     "output_type": "display_data"
    }
   ],
   "source": [
    "df_cont_per_ite = pd.DataFrame({\"iteration_number\": list(range(nIterations)), \"contribution_iterations\":contribution_iterations})\n",
    "sns.lineplot(data=df_cont_per_ite, x= \"iteration_number\", y=\"contribution_iterations\")"
   ]
  },
  {
   "cell_type": "markdown",
   "metadata": {},
   "source": [
    "## Full grid Search"
   ]
  },
  {
   "cell_type": "code",
   "execution_count": 77,
   "metadata": {},
   "outputs": [],
   "source": [
    "policy_selected =='full_grid'\n",
    "# obtain the theta values to carry out a full grid search\n",
    "grid_search_theta_values = P.grid_search_theta_values(sheet2['low_min'], sheet2['low_max'], sheet2['high_min'], sheet2['high_max'], sheet2['increment_size'])\n",
    "# use those theta values to calculate corresponding contribution values"
   ]
  },
  {
   "cell_type": "code",
   "execution_count": 78,
   "metadata": {},
   "outputs": [
    {
     "data": {
      "text/plain": [
       "25"
      ]
     },
     "execution_count": 78,
     "metadata": {},
     "output_type": "execute_result"
    }
   ],
   "source": [
    "len(grid_search_theta_values[0])"
   ]
  },
  {
   "cell_type": "code",
   "execution_count": 79,
   "metadata": {},
   "outputs": [],
   "source": [
    "%%capture\n",
    "policy_selected =='full_grid'\n",
    "# obtain the theta values to carry out a full grid search\n",
    "grid_search_theta_values = P.grid_search_theta_values(sheet2['low_min'], sheet2['low_max'], sheet2['high_min'], sheet2['high_max'], sheet2['increment_size'])\n",
    "# use those theta values to calculate corresponding contribution values\n",
    "        \n",
    "contribution_iterations = [P.vary_theta(param_list, policy_info, \"high_low\", t, grid_search_theta_values[0]) for ite in list(range(nIterations))]\n",
    "\n",
    "contribution_iterations_arr = np.array(contribution_iterations)\n",
    "cum_sum_contrib = contribution_iterations_arr.cumsum(axis=0)\n",
    "nElem = np.arange(1,cum_sum_contrib.shape[0]+1).reshape((cum_sum_contrib.shape[0],1))\n",
    "cum_avg_contrib=cum_sum_contrib/nElem\n",
    "#print(\"cum_avg_contrib\")\n",
    "#print(cum_avg_contrib)\n",
    "    \n",
    "        # plot those contribution values on a heat map\n",
    "P.plot_heat_map_many(cum_avg_contrib, grid_search_theta_values[1], grid_search_theta_values[2], printIterations)"
   ]
  },
  {
   "cell_type": "code",
   "execution_count": 80,
   "metadata": {},
   "outputs": [
    {
     "name": "stdout",
     "output_type": "stream",
     "text": [
      "cum_avg_contrib\n",
      "[[18.47367058 20.02044278 23.71558344 24.04911983 25.64664546 18.46354228\n",
      "  19.9971443  23.4944788   8.82900535 27.39145963 18.41058556 20.46051754\n",
      "  21.80163486 25.30872441 24.51162131 18.97575447 13.24130896 13.83837746\n",
      "  14.65914641 24.51858946 22.05931859 19.54746608 23.29884974 13.64768737\n",
      "  26.03581103]\n",
      " [19.69100318 20.37305553 23.23858313 23.76467669 25.84529101 18.23380197\n",
      "  16.47730129 17.92318102 10.78275225 26.04158751 15.6912722  20.2448214\n",
      "  17.87449738 19.47026892 24.74667952 16.78197067 16.76903764 14.10385934\n",
      "  18.63771033 24.42103201 22.06444139 17.12797049 23.73444868 14.77986095\n",
      "  20.09595631]\n",
      " [20.69994569 16.83950464 22.74294447 19.56126436 20.52459656 18.47919587\n",
      "  15.11744387 16.20921065 15.00940661 25.51281981 13.80659895 20.25218014\n",
      "  19.14019475 17.30568466 21.05307615 17.63382212 18.0583466  13.60198246\n",
      "  20.07523909 21.21275022 20.9849638  16.32976729 20.95614325 15.05129774\n",
      "  17.81028782]\n",
      " [20.18013059 17.80921563 22.83681797 20.66946341 21.67762855 18.64562133\n",
      "  16.51153134 15.06668557 13.78071309 25.56287196 13.84389485 20.76422187\n",
      "  19.73595235 18.96932916 21.87421549 18.05258783 18.52434386 15.50891778\n",
      "  18.55859893 22.63139844 19.56249686 16.15022656 19.50527058 15.13432515\n",
      "  17.22395803]\n",
      " [20.20517103 18.45097802 22.52135779 18.84335523 19.48817699 18.84645425\n",
      "  17.12043862 16.58986652 15.60289554 25.29226768 14.71355315 19.09216357\n",
      "  20.18432852 17.72401005 20.26431727 18.53066645 18.82637145 15.34413496\n",
      "  19.59040908 21.06536502 19.48544474 16.04541057 20.42913257 14.70689882\n",
      "  16.94170926]\n",
      " [19.9262659  18.67286269 20.75302403 19.71022848 18.21367716 19.19238006\n",
      "  17.51795722 17.68624384 16.78180395 22.78350727 15.48395009 19.30591146\n",
      "  19.01314863 17.08034736 20.95328276 18.66106818 18.10879285 14.98659596\n",
      "  20.39322653 20.0443103  19.9037171  16.94296788 19.57782471 14.52283041\n",
      "  18.59472501]\n",
      " [19.8137429  18.9086271  20.84268636 18.39076378 17.23701861 19.36730219\n",
      "  18.20099241 18.23276394 17.66079438 21.17920167 16.1442936  18.43430402\n",
      "  19.43508475 17.9552651  21.50933229 18.57660873 18.42222031 16.25785103\n",
      "  21.01294484 19.29514058 19.22370624 16.51033466 18.79126479 14.48088114\n",
      "  17.95088124]\n",
      " [19.62653733 17.82007762 20.94883455 17.34353318 18.63876886 19.81500259\n",
      "  17.46284492 18.58482107 16.70445351 20.04914113 16.41550734 18.8476955\n",
      "  19.63813038 17.28721213 20.53508951 18.99281685 17.86891367 17.53757442\n",
      "  20.159934   20.00713271 18.72468824 16.88411792 18.1474659  14.48123896\n",
      "  18.91527785]\n",
      " [19.63648073 18.1478174  21.24734214 16.45992462 19.69289125 19.82953391\n",
      "  16.79495559 19.30543893 16.28062686 19.00743174 16.61822087 18.12487532\n",
      "  19.85294926 16.80365162 19.69257256 19.14099563 18.57933051 18.03082425\n",
      "  20.63793609 19.24262662 18.34680726 16.33745161 17.85696122 14.5706945\n",
      "  18.48843037]\n",
      " [19.63661504 18.36680492 21.42992756 17.12582509 20.30051109 19.84620636\n",
      "  17.08335876 19.55338491 15.79131993 18.31310674 17.06211989 18.52285707\n",
      "  20.03049054 17.48311031 20.27369434 19.18396337 18.20648271 18.56249637\n",
      "  19.88403096 18.75795701 18.08166846 16.30207016 18.1781855  14.65780872\n",
      "  19.2417764 ]]\n"
     ]
    }
   ],
   "source": [
    "print(\"cum_avg_contrib\")\n",
    "print(cum_avg_contrib)"
   ]
  },
  {
   "cell_type": "code",
   "execution_count": 81,
   "metadata": {},
   "outputs": [
    {
     "name": "stdout",
     "output_type": "stream",
     "text": [
      "Ite 0, n 0 and plot (0,0)\n"
     ]
    },
    {
     "name": "stderr",
     "output_type": "stream",
     "text": [
      "/home/peyman/miniconda3/envs/jupyterlab-debugger/lib/python3.9/site-packages/matplotlib/text.py:1165: FutureWarning: elementwise comparison failed; returning scalar instead, but in the future will perform elementwise comparison\n",
      "  if s != self._text:\n"
     ]
    },
    {
     "ename": "ValueError",
     "evalue": "could not convert string to float: '[18.]'",
     "output_type": "error",
     "traceback": [
      "\u001b[0;31m---------------------------------------------------------------------------\u001b[0m",
      "\u001b[0;31mValueError\u001b[0m                                Traceback (most recent call last)",
      "\u001b[0;32m<ipython-input-81-5cd6e2fc5d3f>\u001b[0m in \u001b[0;36m<module>\u001b[0;34m\u001b[0m\n\u001b[0;32m----> 1\u001b[0;31m \u001b[0mP\u001b[0m\u001b[0;34m.\u001b[0m\u001b[0mplot_heat_map_many\u001b[0m\u001b[0;34m(\u001b[0m\u001b[0mcum_avg_contrib\u001b[0m\u001b[0;34m,\u001b[0m \u001b[0mgrid_search_theta_values\u001b[0m\u001b[0;34m[\u001b[0m\u001b[0;36m1\u001b[0m\u001b[0;34m]\u001b[0m\u001b[0;34m,\u001b[0m \u001b[0mgrid_search_theta_values\u001b[0m\u001b[0;34m[\u001b[0m\u001b[0;36m2\u001b[0m\u001b[0;34m]\u001b[0m\u001b[0;34m,\u001b[0m \u001b[0mprintIterations\u001b[0m\u001b[0;34m)\u001b[0m\u001b[0;34m\u001b[0m\u001b[0;34m\u001b[0m\u001b[0m\n\u001b[0m",
      "\u001b[0;32m~/Documents/PhD_UiS/seqdec_powell_repo/Chap2_Assett_Selling/function/AssetSellingPolicy.py\u001b[0m in \u001b[0;36mplot_heat_map_many\u001b[0;34m(self, contribution_values, theta_low_values, theta_high_values, iterations)\u001b[0m\n\u001b[1;32m    245\u001b[0m             \u001b[0;31m# get the current labels\u001b[0m\u001b[0;34m\u001b[0m\u001b[0;34m\u001b[0m\u001b[0;34m\u001b[0m\u001b[0m\n\u001b[1;32m    246\u001b[0m             \u001b[0mlabelsx\u001b[0m \u001b[0;34m=\u001b[0m \u001b[0;34m[\u001b[0m\u001b[0mitem\u001b[0m\u001b[0;34m.\u001b[0m\u001b[0mget_text\u001b[0m\u001b[0;34m(\u001b[0m\u001b[0;34m)\u001b[0m \u001b[0;32mfor\u001b[0m \u001b[0mitem\u001b[0m \u001b[0;32min\u001b[0m \u001b[0max\u001b[0m\u001b[0;34m.\u001b[0m\u001b[0mget_xticklabels\u001b[0m\u001b[0;34m(\u001b[0m\u001b[0;34m)\u001b[0m\u001b[0;34m]\u001b[0m\u001b[0;34m\u001b[0m\u001b[0;34m\u001b[0m\u001b[0m\n\u001b[0;32m--> 247\u001b[0;31m             \u001b[0max\u001b[0m\u001b[0;34m.\u001b[0m\u001b[0mset_xticklabels\u001b[0m\u001b[0;34m(\u001b[0m\u001b[0;34m[\u001b[0m\u001b[0mstr\u001b[0m\u001b[0;34m(\u001b[0m\u001b[0mround\u001b[0m\u001b[0;34m(\u001b[0m\u001b[0mfloat\u001b[0m\u001b[0;34m(\u001b[0m\u001b[0mlabel\u001b[0m\u001b[0;34m)\u001b[0m\u001b[0;34m,\u001b[0m \u001b[0;36m2\u001b[0m\u001b[0;34m)\u001b[0m\u001b[0;34m)\u001b[0m \u001b[0;32mfor\u001b[0m \u001b[0mlabel\u001b[0m \u001b[0;32min\u001b[0m \u001b[0mlabelsx\u001b[0m\u001b[0;34m]\u001b[0m\u001b[0;34m)\u001b[0m\u001b[0;34m\u001b[0m\u001b[0;34m\u001b[0m\u001b[0m\n\u001b[0m\u001b[1;32m    248\u001b[0m \u001b[0;34m\u001b[0m\u001b[0m\n\u001b[1;32m    249\u001b[0m             \u001b[0;31m# get the current labels\u001b[0m\u001b[0;34m\u001b[0m\u001b[0;34m\u001b[0m\u001b[0;34m\u001b[0m\u001b[0m\n",
      "\u001b[0;32m~/Documents/PhD_UiS/seqdec_powell_repo/Chap2_Assett_Selling/function/AssetSellingPolicy.py\u001b[0m in \u001b[0;36m<listcomp>\u001b[0;34m(.0)\u001b[0m\n\u001b[1;32m    245\u001b[0m             \u001b[0;31m# get the current labels\u001b[0m\u001b[0;34m\u001b[0m\u001b[0;34m\u001b[0m\u001b[0;34m\u001b[0m\u001b[0m\n\u001b[1;32m    246\u001b[0m             \u001b[0mlabelsx\u001b[0m \u001b[0;34m=\u001b[0m \u001b[0;34m[\u001b[0m\u001b[0mitem\u001b[0m\u001b[0;34m.\u001b[0m\u001b[0mget_text\u001b[0m\u001b[0;34m(\u001b[0m\u001b[0;34m)\u001b[0m \u001b[0;32mfor\u001b[0m \u001b[0mitem\u001b[0m \u001b[0;32min\u001b[0m \u001b[0max\u001b[0m\u001b[0;34m.\u001b[0m\u001b[0mget_xticklabels\u001b[0m\u001b[0;34m(\u001b[0m\u001b[0;34m)\u001b[0m\u001b[0;34m]\u001b[0m\u001b[0;34m\u001b[0m\u001b[0;34m\u001b[0m\u001b[0m\n\u001b[0;32m--> 247\u001b[0;31m             \u001b[0max\u001b[0m\u001b[0;34m.\u001b[0m\u001b[0mset_xticklabels\u001b[0m\u001b[0;34m(\u001b[0m\u001b[0;34m[\u001b[0m\u001b[0mstr\u001b[0m\u001b[0;34m(\u001b[0m\u001b[0mround\u001b[0m\u001b[0;34m(\u001b[0m\u001b[0mfloat\u001b[0m\u001b[0;34m(\u001b[0m\u001b[0mlabel\u001b[0m\u001b[0;34m)\u001b[0m\u001b[0;34m,\u001b[0m \u001b[0;36m2\u001b[0m\u001b[0;34m)\u001b[0m\u001b[0;34m)\u001b[0m \u001b[0;32mfor\u001b[0m \u001b[0mlabel\u001b[0m \u001b[0;32min\u001b[0m \u001b[0mlabelsx\u001b[0m\u001b[0;34m]\u001b[0m\u001b[0;34m)\u001b[0m\u001b[0;34m\u001b[0m\u001b[0;34m\u001b[0m\u001b[0m\n\u001b[0m\u001b[1;32m    248\u001b[0m \u001b[0;34m\u001b[0m\u001b[0m\n\u001b[1;32m    249\u001b[0m             \u001b[0;31m# get the current labels\u001b[0m\u001b[0;34m\u001b[0m\u001b[0;34m\u001b[0m\u001b[0;34m\u001b[0m\u001b[0m\n",
      "\u001b[0;31mValueError\u001b[0m: could not convert string to float: '[18.]'"
     ]
    },
    {
     "data": {
      "image/png": "[encoded data removed]",
      "text/plain": [
       "<Figure size 864x576 with 3 Axes>"
      ]
     },
     "metadata": {},
     "output_type": "display_data"
    }
   ],
   "source": [
    "P.plot_heat_map_many(cum_avg_contrib, grid_search_theta_values[1], grid_search_theta_values[2], printIterations)"
   ]
  },
  {
   "cell_type": "code",
   "execution_count": 82,
   "metadata": {},
   "outputs": [
    {
     "data": {
      "text/plain": [
       "numpy.ndarray"
      ]
     },
     "execution_count": 82,
     "metadata": {},
     "output_type": "execute_result"
    }
   ],
   "source": [
    "type(cum_avg_contrib)"
   ]
  },
  {
   "cell_type": "code",
   "execution_count": 83,
   "metadata": {},
   "outputs": [
    {
     "data": {
      "text/plain": [
       "array([[12.],\n",
       "       [13.],\n",
       "       [14.],\n",
       "       [15.],\n",
       "       [16.]])"
      ]
     },
     "execution_count": 83,
     "metadata": {},
     "output_type": "execute_result"
    }
   ],
   "source": [
    "grid_search_theta_values[1]"
   ]
  },
  {
   "cell_type": "code",
   "execution_count": 87,
   "metadata": {},
   "outputs": [
    {
     "data": {
      "image/png": "[encoded data removed]",
      "text/plain": [
       "<Figure size 864x576 with 2 Axes>"
      ]
     },
     "metadata": {},
     "output_type": "display_data"
    }
   ],
   "source": [
    "ax = sns.heatmap(cum_avg_contrib)"
   ]
  },
  {
   "cell_type": "code",
   "execution_count": 88,
   "metadata": {},
   "outputs": [
    {
     "data": {
      "text/plain": [
       "10"
      ]
     },
     "execution_count": 88,
     "metadata": {},
     "output_type": "execute_result"
    }
   ],
   "source": [
    "len(cum_avg_contrib)"
   ]
  }
 ],
 "metadata": {
  "kernelspec": {
   "display_name": "Python 3.9.1 64-bit ('jupyterlab-debugger': conda)",
   "language": "python",
   "name": "python39164bitjupyterlabdebuggerconda9f0223ea840b42a4bb0b5831fc210e72"
  },
  "language_info": {
   "codemirror_mode": {
    "name": "ipython",
    "version": 3
   },
   "file_extension": ".py",
   "mimetype": "text/x-python",
   "name": "python",
   "nbconvert_exporter": "python",
   "pygments_lexer": "ipython3",
   "version": "3.9.1"
  },
  "toc": {
   "base_numbering": 1,
   "nav_menu": {},
   "number_sections": true,
   "sideBar": true,
   "skip_h1_title": false,
   "title_cell": "Table of Contents",
   "title_sidebar": "Contents",
   "toc_cell": false,
   "toc_position": {
    "height": "calc(100% - 180px)",
    "left": "10px",
    "top": "150px",
    "width": "165px"
   },
   "toc_section_display": true,
   "toc_window_display": false
  },
  "varInspector": {
   "cols": {
    "lenName": 16,
    "lenType": 16,
    "lenVar": 40
   },
   "kernels_config": {
    "python": {
     "delete_cmd_postfix": "",
     "delete_cmd_prefix": "del ",
     "library": "var_list.py",
     "varRefreshCmd": "print(var_dic_list())"
    },
    "r": {
     "delete_cmd_postfix": ") ",
     "delete_cmd_prefix": "rm(",
     "library": "var_list.r",
     "varRefreshCmd": "cat(var_dic_list()) "
    }
   },
   "types_to_exclude": [
    "module",
    "function",
    "builtin_function_or_method",
    "instance",
    "_Feature"
   ],
   "window_display": false
  }
 },
 "nbformat": 4,
 "nbformat_minor": 4
}
