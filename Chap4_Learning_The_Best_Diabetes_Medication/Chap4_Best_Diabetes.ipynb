{
 "cells": [
  {
   "cell_type": "markdown",
   "metadata": {
    "slideshow": {
     "slide_type": "slide"
    }
   },
   "source": [
    "# Learning the Best Diabetes Medication"
   ]
  },
  {
   "cell_type": "markdown",
   "metadata": {},
   "source": [
    "## Narrative"
   ]
  },
  {
   "cell_type": "markdown",
   "metadata": {
    "slideshow": {
     "slide_type": "slide"
    }
   },
   "source": [
    "When people find they have high blood sugar, they are evaluated using metric **A1C**."
   ]
  },
  {
   "cell_type": "markdown",
   "metadata": {
    "slideshow": {
     "slide_type": "slide"
    }
   },
   "source": [
    "**Four Major Groups of Drugs**:"
   ]
  },
  {
   "cell_type": "markdown",
   "metadata": {
    "slideshow": {
     "slide_type": "slide"
    }
   },
   "source": [
    "+ Sensitizers : These target liver, muscle and fat cells but may cause fluid retention and therefore should not be used for patients with history of kidney failure.\n",
    "\n",
    "+ Secretagoges: These drugs increase insulin sensitivity , but often cause hypoglycemia and weight gain\n",
    "\n",
    "+ Alpha -glucosidase: These slow the rate of starch metabolism , but can cause digestive problems.\n",
    "\n",
    "+ Peptide analogs : These mimic natural hormones in the body that stimulate insulin production "
   ]
  },
  {
   "cell_type": "markdown",
   "metadata": {
    "slideshow": {
     "slide_type": "slide"
    }
   },
   "source": [
    "<img src=\"photos/potential_each_drug_reduction.png\" width=800 height=600 />"
   ]
  },
  {
   "cell_type": "markdown",
   "metadata": {
    "slideshow": {
     "slide_type": "slide"
    }
   },
   "source": [
    "After testing a drug on a patient for a period of time, we observe the reduction in the A1C level, and then use this observation to update our estimate of how well the drug works on the patient."
   ]
  },
  {
   "cell_type": "markdown",
   "metadata": {
    "slideshow": {
     "slide_type": "slide"
    }
   },
   "source": [
    "From observing the performance of each drug over many (that is, millions) of patients , it is possible to construct probality distribution of the reduction in A1C levels across all patients. The results is shown in table 4.1."
   ]
  },
  {
   "cell_type": "markdown",
   "metadata": {
    "slideshow": {
     "slide_type": "slide"
    }
   },
   "source": [
    "<img src=\"photos/table_sugar_reduction.png\" width=800 height=600 />"
   ]
  },
  {
   "cell_type": "markdown",
   "metadata": {
    "slideshow": {
     "slide_type": "slide"
    }
   },
   "source": [
    "## Basic Model"
   ]
  },
  {
   "cell_type": "markdown",
   "metadata": {
    "slideshow": {
     "slide_type": "slide"
    }
   },
   "source": [
    "For our basic model, we are going to assume that we have five choises of medication:\n",
    "**matformin**, or a drug drawn from one of the **four major drug groups**."
   ]
  },
  {
   "cell_type": "markdown",
   "metadata": {},
   "source": [
    "$$\n",
    "\\chi = \\{ x_1, x_2, x_3, x_4, x_5 \\}\n",
    "$$"
   ]
  },
  {
   "cell_type": "markdown",
   "metadata": {},
   "source": [
    "To create a model, let: "
   ]
  },
  {
   "cell_type": "markdown",
   "metadata": {
    "slideshow": {
     "slide_type": "slide"
    }
   },
   "source": [
    "$\\overline{\\mu}^{0}_{x}$ = The mean reduction in the A1C for drug choice $x$ across the population, <br>\n",
    "$\\overline{\\sigma}^{0}_{x}$ = The standard deviation in the reduction in A1C for drug $x$"
   ]
  },
  {
   "cell_type": "markdown",
   "metadata": {
    "slideshow": {
     "slide_type": "slide"
    }
   },
   "source": [
    "We do not know the reduction we can expect from each drug, so we represent it as a random variable $\\mu_x$ where we assume $\\mu_x$ isnormally distributed, which we write as:"
   ]
  },
  {
   "cell_type": "markdown",
   "metadata": {},
   "source": [
    "$$\n",
    "\\mu_x \\sim N(\\overline{\\mu}_x^0, \\overline{\\sigma}_x^0)\n",
    "$$"
   ]
  },
  {
   "cell_type": "markdown",
   "metadata": {
    "slideshow": {
     "slide_type": "slide"
    }
   },
   "source": [
    "We refer to the normal distribution $ N(\\overline{\\mu}_x^0, \\overline{\\sigma}_x^0)$ as the *prior distribution of belief* about $\\mu_x$ . If we try a drug $x$ on a patinet, we make a noisy observation of truth value $\\mu_x$. Assume we make a choice of drug $x^n$ using what we know after $n$ trials, after which we observe the outcome of the $n+1$st trial, which we denote $W^n+1$ (this is the reduction in the A1C level). This can be written: "
   ]
  },
  {
   "cell_type": "markdown",
   "metadata": {},
   "source": [
    "$$\n",
    "W^{n+1} = \\mu_x + \\epsilon^{n+1}\n",
    "$$"
   ]
  },
  {
   "cell_type": "markdown",
   "metadata": {},
   "source": [
    "Remember that we do not know $\\mu_x$ ; this is a random variable, where $\\overline{\\mu}_x^n$ is our current estimate of the mean $\\mu_x$   "
   ]
  },
  {
   "cell_type": "markdown",
   "metadata": {},
   "source": [
    "### State variable:"
   ]
  },
  {
   "cell_type": "markdown",
   "metadata": {},
   "source": [
    "Our state variable is our belief about the random variable $\\mu_x$ which is the true effect of each drug on a particular patient after $n$ trials . $S^0$ is the initial state, which we write as: "
   ]
  },
  {
   "cell_type": "markdown",
   "metadata": {},
   "source": [
    "$$\n",
    "S^0 = (\\overline{\\mu}_x^0, \\overline{\\sigma}_x^0) \\\\\n",
    "x \\in \\chi\n",
    "$$"
   ]
  },
  {
   "cell_type": "markdown",
   "metadata": {},
   "source": [
    "After $n$ experiments, the state is: "
   ]
  },
  {
   "cell_type": "markdown",
   "metadata": {},
   "source": [
    "$$\n",
    "S^n = (\\overline{\\mu}_x^n, \\overline{\\sigma}_x^n) \\\\\n",
    "x \\in \\chi\n",
    "$$"
   ]
  },
  {
   "cell_type": "markdown",
   "metadata": {},
   "source": [
    "Later, we are going to find it useful to work with the *precision* of our belief, which is given by: "
   ]
  },
  {
   "cell_type": "markdown",
   "metadata": {},
   "source": [
    "$$\n",
    "\\beta^n_x = \\frac{1}{(\\overline{\\sigma}_x^n)^2} \n",
    "$$"
   ]
  },
  {
   "cell_type": "markdown",
   "metadata": {},
   "source": [
    "We can then write our state variable as:"
   ]
  },
  {
   "cell_type": "markdown",
   "metadata": {},
   "source": [
    "$$\n",
    "S^n = (\\overline{\\mu}_x^n, \\beta_x^n) \\\\\n",
    "x \\in \\chi \n",
    "$$"
   ]
  },
  {
   "cell_type": "markdown",
   "metadata": {},
   "source": [
    "### Decision Variable"
   ]
  },
  {
   "cell_type": "markdown",
   "metadata": {},
   "source": [
    "The decision is the choice of medication to try for a month, which we write as:"
   ]
  },
  {
   "cell_type": "markdown",
   "metadata": {},
   "source": [
    "$$\n",
    "x^n = \\text{The choice of medication}, \\\\\n",
    "\\in \\chi = \\{x_1,..., x_M\\}\n",
    "$$"
   ]
  },
  {
   "cell_type": "markdown",
   "metadata": {},
   "source": [
    "We are going to determine $x^n$ using a policy $X^{\\pi}(S^n)$ that depends only on the state variable $S^n$ . Along with the assumption of the normal distribution in $S^0$."
   ]
  },
  {
   "cell_type": "markdown",
   "metadata": {},
   "source": [
    "### Exogenous information"
   ]
  },
  {
   "cell_type": "markdown",
   "metadata": {},
   "source": [
    "After making the decision $x^n$, we observe: "
   ]
  },
  {
   "cell_type": "markdown",
   "metadata": {},
   "source": [
    "$$\n",
    "W^{n+1}_x = \\text{The reduction in the A1C level resulting from the drug $x=x^n$ }\\\\\n",
    "\\text{we prescribed for the $n+1$st trial}\n",
    "$$"
   ]
  },
  {
   "cell_type": "markdown",
   "metadata": {},
   "source": [
    "### Transition Function"
   ]
  },
  {
   "cell_type": "markdown",
   "metadata": {},
   "source": [
    "The transition function captures how the observed reduction in A1C, $W_x^{n+1}$, affects our belief state $S^n$. If we try drug $x=x^n$ and observe $W_x^{n+1}$, we can update our estimate of the mean and precision using:"
   ]
  },
  {
   "cell_type": "markdown",
   "metadata": {},
   "source": [
    "$$\n",
    "\\overline{\\mu}_x^{n+1} = \\frac{\\beta^n_x\\overline{\\mu}_x^n + \\beta^W_x W_x^{n+1}}{\\beta_x^n + \\beta_x^W} \\\\\n",
    "\\beta_x^{n+1} = \\beta_x^n + \\beta^W\n",
    "$$"
   ]
  },
  {
   "cell_type": "markdown",
   "metadata": {},
   "source": [
    "The transition function which we earlier wrote as a generic function:"
   ]
  },
  {
   "cell_type": "markdown",
   "metadata": {},
   "source": [
    "$$\n",
    "S^{n+1} = S^M(S^n, x^n, W^{n+1})\n",
    "$$"
   ]
  },
  {
   "cell_type": "markdown",
   "metadata": {},
   "source": [
    "### Objective Function"
   ]
  },
  {
   "cell_type": "markdown",
   "metadata": {},
   "source": [
    "Each time we prescribe a drug $x=x^n$, we observe the reduction in the A1C represented by $W_{x^n}^{n+1}$. We want to find a policy that chooses a drug $x^n = X^{\\pi}(S^n)$ that maximizes the expected total reduction in A1C."
   ]
  },
  {
   "cell_type": "markdown",
   "metadata": {},
   "source": [
    "**Perfromance Metric**:"
   ]
  },
  {
   "cell_type": "markdown",
   "metadata": {},
   "source": [
    "$$\n",
    "C(S^n, x^n, W^{n+1}) = W^{n+1}_{x^n}\n",
    "$$"
   ]
  },
  {
   "cell_type": "markdown",
   "metadata": {},
   "source": [
    "**Finding the Best Policy**"
   ]
  },
  {
   "cell_type": "markdown",
   "metadata": {},
   "source": [
    "$$\n",
    "max \\ \\ E \\{\\sum_{n=0}^{N-1}W_{x^n}^{n+1} | S_0 \\}\n",
    "$$"
   ]
  }
 ],
 "metadata": {
  "kernelspec": {
   "display_name": "Python 3.9.1 64-bit ('jupyterlab-debugger': conda)",
   "language": "python",
   "name": "python39164bitjupyterlabdebuggerconda9f0223ea840b42a4bb0b5831fc210e72"
  },
  "language_info": {
   "codemirror_mode": {
    "name": "ipython",
    "version": 3
   },
   "file_extension": ".py",
   "mimetype": "text/x-python",
   "name": "python",
   "nbconvert_exporter": "python",
   "pygments_lexer": "ipython3",
   "version": "3.9.1"
  }
 },
 "nbformat": 4,
 "nbformat_minor": 4
}
