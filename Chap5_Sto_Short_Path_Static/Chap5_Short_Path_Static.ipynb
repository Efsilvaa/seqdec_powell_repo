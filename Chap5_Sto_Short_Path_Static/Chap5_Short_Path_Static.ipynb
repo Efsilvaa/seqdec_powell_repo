{
 "cells": [
  {
   "cell_type": "markdown",
   "metadata": {},
   "source": [
    "# Stochastic Shortest Path Problems - Static"
   ]
  },
  {
   "cell_type": "markdown",
   "metadata": {},
   "source": [
    "The most classical deterministic problem illustrated in graph, wehere we have to find the best path from node $1$ to node $11$, where cost of travesring each arc is known in advance."
   ]
  },
  {
   "cell_type": "markdown",
   "metadata": {},
   "source": [
    "+ $N$ = The set of all nodes in the network (here, this is the nodes 1,2..,11)\n",
    "+ $N^{+}_i$ = The set of all nodes that can be reached directly from node $i$.\n",
    "+ $N_j^{-}$ = The set of all nodes that are connected to node $J$\n",
    "+ $\\zeta$ = Set of all links $(i,j)$ in thr network,\n",
    "+ $c_{ij}$ = The cost of traversing link $(i,j)$ , where $j$ is assumed to be in the set $N_i^{+}$"
   ]
  },
  {
   "cell_type": "markdown",
   "metadata": {},
   "source": [
    "Now let $v_i$ be the minimum cost to get from node $i$ to the destination node 11 . The values $v_i$ fo all nodes $i \\in N$ should satisfy:"
   ]
  },
  {
   "cell_type": "markdown",
   "metadata": {},
   "source": [
    "$$\n",
    "v_i = min \\ (c_{ij} + v_j) \\\\\n",
    "j \\in N_i^{+}\n",
    "$$"
   ]
  },
  {
   "cell_type": "markdown",
   "metadata": {},
   "source": [
    "<img src=\"pics/network_determ_path.png\" width=800 height=600 />"
   ]
  },
  {
   "cell_type": "markdown",
   "metadata": {},
   "source": [
    "**Another way to view our network**"
   ]
  },
  {
   "cell_type": "markdown",
   "metadata": {},
   "source": [
    "$$\n",
    "V_t(s) = min \\ (C(s,x) + V_{t+1}(S_{t+1})) \\\\\n",
    "x \\in \\chi_s\n",
    "$$"
   ]
  },
  {
   "cell_type": "markdown",
   "metadata": {},
   "source": [
    "Where $S_{t+1} = S^M(s,x)$."
   ]
  },
  {
   "cell_type": "markdown",
   "metadata": {},
   "source": [
    "The equation above is deterministic version of what is known as Bellman's equation."
   ]
  },
  {
   "cell_type": "markdown",
   "metadata": {},
   "source": [
    "## Narrative:"
   ]
  },
  {
   "cell_type": "markdown",
   "metadata": {},
   "source": [
    "We assume that our system has access to both historical and real-time link costs, from which we can create estimates of the mean and variance of the cost traversing a link. We can think of this as a shortest path problem where we see distributions rather than actual costs, as depicted in below figure. After we traverse a link from $i$ to $j$, we then experience sample realization from the distribution. We want to choose a path that minimizes the expected cost."
   ]
  },
  {
   "cell_type": "markdown",
   "metadata": {},
   "source": [
    "## Basic Model"
   ]
  },
  {
   "cell_type": "code",
   "execution_count": null,
   "metadata": {},
   "outputs": [],
   "source": []
  },
  {
   "cell_type": "markdown",
   "metadata": {},
   "source": [
    "## Stochastic Shortest Path- Adaptive"
   ]
  },
  {
   "cell_type": "markdown",
   "metadata": {},
   "source": [
    "In this type of problem, we will lose our ability to find optimal policies using Bellman's equation.  "
   ]
  },
  {
   "cell_type": "markdown",
   "metadata": {},
   "source": [
    "+ In our first stochastic shortest path, we assumed that we had to choose the next link to traverse **before** we see the actual travel cost over link\n",
    "+ Now assume that we get to see the travel cost **before** we make decsion."
   ]
  },
  {
   "cell_type": "markdown",
   "metadata": {},
   "source": [
    "If we pretend for the moment that someone can give us the values $v_j$ which is the minimum travel cost from node $j$ to our destination node, $r$ an optimal policy for choosing the next downstream node would be written:"
   ]
  },
  {
   "cell_type": "markdown",
   "metadata": {},
   "source": [
    "$$\n",
    "X^{\\pi}(i) = arg \\ min(\\hat{c}_{ij} + v_j) \\\\\n",
    "j \\in N_i^{+}\n",
    "$$"
   ]
  },
  {
   "cell_type": "markdown",
   "metadata": {},
   "source": [
    "The problem here is that we can not compute $v_j$ as we did before using Bellman's equation."
   ]
  },
  {
   "cell_type": "markdown",
   "metadata": {},
   "source": [
    "In our network problem, our physical state would be the node where we are located, while the \"other information\" variable $I_t$ would capture the costs on links our of the node we are located. "
   ]
  },
  {
   "cell_type": "markdown",
   "metadata": {},
   "source": [
    "$$\n",
    "S_t = (R_t, I_t) \\\\\n",
    "\\ \\  = (i, (\\hat{c}_{tij})) \\\\ j \\in N_i^{+} \n",
    "$$"
   ]
  },
  {
   "cell_type": "markdown",
   "metadata": {},
   "source": [
    "To see what this does to our previous way of solving our shortest path problem, take a fresh look at Bellman's equation as we first introduced : "
   ]
  },
  {
   "cell_type": "markdown",
   "metadata": {},
   "source": [
    "$$\n",
    "V_t(S_t) = min \\ (C(S_t,x) + V_{t+1}(S_{t+1})) \\\\\n",
    "x \\in \\chi_s\n",
    "$$"
   ]
  },
  {
   "cell_type": "markdown",
   "metadata": {},
   "source": [
    "Where $S_{t+1}$ would be given by:"
   ]
  },
  {
   "cell_type": "markdown",
   "metadata": {},
   "source": [
    "+ $S_{t+1} = (R_{t+1}, I_{t+1})$ , where\n",
    "+ $R_{t+1}$ = The node produced by our decision $x$. So if $x_{ij}=1$, then $R_{t+1} =j$\n",
    "+ $I_{t+1}$ = The costs that are observed our of node $R_{t+1}$, which depends on the decision $x$. If $x$ sends us to node $j$ so that $R_{t+1} = j$, then $I_{t+1} = (\\hat{c}_{t+1,jk_1},\\hat{c}_{t+1,jk_2}, \\hat{c}_{t+1,jk_3})$"
   ]
  },
  {
   "cell_type": "markdown",
   "metadata": {},
   "source": [
    "As we can see, even if we assume that the costs $\\hat{c}_{t+1,j}$ are discrete, the state space just grew exponentially. Imagine that we have discretized costs into buckets 20 values. If tehre are three links our of every node, our state spaces has grown fromthe number of nodes, to $20\\times20\\times20 = 8,000$ times larger."
   ]
  },
  {
   "cell_type": "markdown",
   "metadata": {},
   "source": [
    "At time $t$ (which is when we are computing $V_t(S_t)$ in above equation, the link costs $I_{t+1}$ out of downstream $R_{t+1}$ (which is detremined by the decsion $x$) are not known.We fix this by taking the expectation, which we write as:"
   ]
  },
  {
   "cell_type": "markdown",
   "metadata": {},
   "source": [
    "$$\n",
    "V_t(S_t) = min \\ \\ (C(S_t,x)) + \\mathbb{E}\\{V_{t+1}(S_{t+1}) | S_t, x\\}) \\\\\n",
    "x \\in \\chi_s\n",
    "$$"
   ]
  },
  {
   "cell_type": "markdown",
   "metadata": {},
   "source": [
    "The expectation operator $E$ should be viewed as taking an average over the possible path costs that a traveler might encounter once they arrive at node $R_{t+1}$ when making decision $x$ (which determines $R_{t+1}$) "
   ]
  },
  {
   "cell_type": "markdown",
   "metadata": {},
   "source": [
    "This is our first peak at what happens when a state varibale becomes a vector. The number of possible values of the the state variable grows exponetially, a process known widely as the *curse of dimentionality*."
   ]
  },
  {
   "cell_type": "markdown",
   "metadata": {},
   "source": [
    "The main challenge with the equation below is:"
   ]
  },
  {
   "cell_type": "markdown",
   "metadata": {},
   "source": [
    "$$\n",
    "V_t(S_t) = min \\ \\ (C(S_t,x)) + \\mathbb{E}\\{V_{t+1}(S_{t+1}) | S_t, x\\}) \\\\\n",
    "x \\in \\chi_s\n",
    "$$"
   ]
  },
  {
   "cell_type": "markdown",
   "metadata": {},
   "source": [
    "is the *expectation operator*, which is easily the most dangerous piece of notation solving sequential decision problem "
   ]
  },
  {
   "cell_type": "markdown",
   "metadata": {},
   "source": [
    "**First Strategies**"
   ]
  },
  {
   "cell_type": "markdown",
   "metadata": {},
   "source": [
    "First, we introduce the idea of the *post decision*state which we designate $S_t^x$. The post-decision state is the state of the system after we make a decision."
   ]
  },
  {
   "cell_type": "markdown",
   "metadata": {},
   "source": [
    "<img src=\"pics/the_state.png\" width=800 height=600 />"
   ]
  },
  {
   "cell_type": "markdown",
   "metadata": {},
   "source": [
    "**State**:"
   ]
  },
  {
   "cell_type": "markdown",
   "metadata": {},
   "source": [
    "$$\n",
    "S_t = (6, (12.7, 8.9, 13.5))\n",
    "$$"
   ]
  },
  {
   "cell_type": "markdown",
   "metadata": {},
   "source": [
    "**Post-decision, after decsion \"going to node 9\"**  "
   ]
  },
  {
   "cell_type": "markdown",
   "metadata": {},
   "source": [
    "$$\n",
    "S_t^x = (9)\n",
    "$$ "
   ]
  },
  {
   "cell_type": "markdown",
   "metadata": {},
   "source": [
    "First going to first step from the pre-decsion satte $S_t$ to post-decsion state $S_t^x$ which we do by rewriting equation 13:"
   ]
  },
  {
   "cell_type": "markdown",
   "metadata": {},
   "source": [
    "$$\n",
    "V_t(S_t) = min \\ (C(S_t, x) + V_t^x(S_t^x)) \\\\\n",
    "x \\in \\chi_s\n",
    "$$"
   ]
  },
  {
   "cell_type": "markdown",
   "metadata": {},
   "source": [
    "We still have to compute $V_t^x(S_t^x)$ which is done using,"
   ]
  },
  {
   "cell_type": "markdown",
   "metadata": {},
   "source": [
    "$$\n",
    "V_t^x(S_t^x) = \\mathbb{E}\\{V_{t+1}(S_{t+1})| S_t,x)\n",
    "$$"
   ]
  },
  {
   "cell_type": "markdown",
   "metadata": {},
   "source": [
    "We are going to construct approximation $\\overline{V}_t^{x}(j)$ of the value of being at node $j$, where:"
   ]
  },
  {
   "cell_type": "markdown",
   "metadata": {},
   "source": [
    "$$\n",
    "\\overline{V}_t^{x,n}(j) \\sim \\mathbb{E}\\{V_{t+1}(S_{t+1})| S_t\\}\n",
    "$$"
   ]
  },
  {
   "cell_type": "markdown",
   "metadata": {},
   "source": [
    "We are then going to update our estimate of the value of being at node $i$ using:"
   ]
  },
  {
   "cell_type": "markdown",
   "metadata": {},
   "source": [
    "$$\n",
    "\\overline{V}_{t}^{x,n}(i) = (1- \\alpha_n)\\overline{V}_t^{x, n-1}(i) + \\alpha_n v_t^{n}(i)\n",
    "$$"
   ]
  },
  {
   "cell_type": "markdown",
   "metadata": {},
   "source": [
    "## Coding Part"
   ]
  },
  {
   "cell_type": "code",
   "execution_count": 19,
   "metadata": {},
   "outputs": [],
   "source": [
    "import numpy as np\n",
    "import pandas as pd\n",
    "from copy import copy\n",
    "from collections import (namedtuple, defaultdict)\n",
    "import matplotlib.pyplot as plt\n",
    "import os as os"
   ]
  },
  {
   "cell_type": "code",
   "execution_count": 20,
   "metadata": {},
   "outputs": [],
   "source": [
    "os.chdir(\"/home/peyman/Documents/PhD_UiS/seqdec_powell_repo/Chap5_Sto_Short_Path_Static/function\")"
   ]
  },
  {
   "cell_type": "code",
   "execution_count": 21,
   "metadata": {},
   "outputs": [],
   "source": [
    "from StaticModelAdaptive import StaticModel\n",
    "from PolicyAdaptive import Policy"
   ]
  },
  {
   "cell_type": "code",
   "execution_count": 22,
   "metadata": {},
   "outputs": [
    {
     "name": "stdout",
     "output_type": "stream",
     "text": [
      "Starting adaptive stochastic shortest path with parameters\n"
     ]
    },
    {
     "data": {
      "text/plain": [
       "{'nNodes': 150,\n",
       " 'probEdge': 2,\n",
       " 'LO_UPPER_BOUND': 10,\n",
       " 'HI_UPPER_BOUND': 20,\n",
       " 'nIterations': 5,\n",
       " 'stepsize_rule': 'Constant',\n",
       " 'theta_set': '1 .5 .2 .1'}"
      ]
     },
     "execution_count": 22,
     "metadata": {},
     "output_type": "execute_result"
    }
   ],
   "source": [
    "seed = 89720123\n",
    "#reading parameter file and initializing variables\n",
    "file = '/home/peyman/Documents/PhD_UiS/seqdec_powell_repo/Chap5_Sto_Short_Path_Static/function/Parameters.xlsx'\n",
    "parDf = pd.read_excel(file, sheet_name = 'parameters')\n",
    "parDict=parDf.set_index('Index').T.to_dict('list')\n",
    "print(\"Starting adaptive stochastic shortest path with parameters\")\n",
    "params = {key:v for key, value in parDict.items() for v in value}\n",
    "params"
   ]
  },
  {
   "cell_type": "code",
   "execution_count": 23,
   "metadata": {},
   "outputs": [
    {
     "name": "stdout",
     "output_type": "stream",
     "text": [
      "{'nNodes': 150, 'probEdge': 2, 'LO_UPPER_BOUND': 10, 'HI_UPPER_BOUND': 20, 'nIterations': 5, 'stepsize_rule': 'Constant', 'theta_set': '1 .5 .2 .1', 'seed': 89720123}\n"
     ]
    }
   ],
   "source": [
    "params.update({'seed':seed})\n",
    "print(params)"
   ]
  },
  {
   "cell_type": "code",
   "execution_count": 24,
   "metadata": {},
   "outputs": [],
   "source": [
    "state_names = ['CurrentNode', 'CurrentNodeLinksCost']\n",
    "decision_names = ['NextNode']"
   ]
  },
  {
   "cell_type": "code",
   "execution_count": 25,
   "metadata": {},
   "outputs": [
    {
     "name": "stdout",
     "output_type": "stream",
     "text": [
      "Created the graph\n",
      "max_origin_node: 1 -  max_target_node: 109  - distance: 10\n",
      "Computed V_0\n",
      "\t\tkey_0 = 44.03\n",
      "\t\tkey_1 = 47.33\n",
      "\t\tkey_2 = 54.90\n",
      "\t\tkey_3 = 46.35\n",
      "\t\tkey_4 = 38.92\n",
      "\t\tkey_5 = 40.27\n",
      "\t\tkey_6 = 33.54\n",
      "\t\tkey_7 = 45.82\n",
      "\t\tkey_8 = 49.18\n",
      "\t\tkey_9 = 46.90\n",
      "\t\tkey_10 = 47.37\n",
      "\t\tkey_11 = 40.19\n",
      "\t\tkey_12 = 30.16\n",
      "\t\tkey_13 = 52.82\n",
      "\t\tkey_14 = 48.15\n",
      "\t\tkey_15 = 45.75\n",
      "\t\tkey_16 = 40.77\n",
      "\t\tkey_17 = 37.48\n",
      "\t\tkey_18 = 60.67\n",
      "\t\tkey_19 = 59.97\n",
      "\t\tkey_20 = 56.98\n",
      "\t\tkey_21 = 51.84\n",
      "\t\tkey_22 = 40.74\n",
      "\t\tkey_23 = 48.17\n",
      "\t\tkey_24 = 43.72\n",
      "\t\tkey_25 = 34.85\n",
      "\t\tkey_26 = 27.55\n",
      "\t\tkey_27 = 24.02\n",
      "\t\tkey_28 = 20.91\n",
      "\t\tkey_29 = 54.97\n",
      "\t\tkey_30 = 51.99\n",
      "\t\tkey_31 = 51.98\n",
      "\t\tkey_32 = 44.67\n",
      "\t\tkey_33 = 55.60\n",
      "\t\tkey_34 = 67.72\n",
      "\t\tkey_35 = 58.33\n",
      "\t\tkey_36 = 53.58\n",
      "\t\tkey_37 = 52.39\n",
      "\t\tkey_38 = 42.00\n",
      "\t\tkey_39 = 45.48\n",
      "\t\tkey_40 = 46.76\n",
      "\t\tkey_41 = 48.24\n",
      "\t\tkey_42 = 50.41\n",
      "\t\tkey_43 = 57.31\n",
      "\t\tkey_44 = 46.97\n",
      "\t\tkey_45 = 42.24\n",
      "\t\tkey_46 = 51.85\n",
      "\t\tkey_47 = 39.25\n",
      "\t\tkey_48 = 46.67\n",
      "\t\tkey_49 = 51.57\n",
      "\t\tkey_50 = 48.85\n",
      "\t\tkey_51 = 43.64\n",
      "\t\tkey_52 = 34.02\n",
      "\t\tkey_53 = 32.54\n",
      "\t\tkey_54 = 53.37\n",
      "\t\tkey_55 = 43.75\n",
      "\t\tkey_56 = 37.17\n",
      "\t\tkey_57 = 53.79\n",
      "\t\tkey_58 = 48.74\n",
      "\t\tkey_59 = 48.64\n",
      "\t\tkey_60 = 41.08\n",
      "\t\tkey_61 = 38.93\n",
      "\t\tkey_62 = 51.11\n",
      "\t\tkey_63 = 46.11\n",
      "\t\tkey_64 = 39.77\n",
      "\t\tkey_65 = 30.38\n",
      "\t\tkey_66 = 50.27\n",
      "\t\tkey_67 = 49.52\n",
      "\t\tkey_68 = 46.28\n",
      "\t\tkey_69 = 46.00\n",
      "\t\tkey_70 = 59.65\n",
      "\t\tkey_71 = 51.23\n",
      "\t\tkey_72 = 47.25\n",
      "\t\tkey_73 = 38.98\n",
      "\t\tkey_74 = 28.40\n",
      "\t\tkey_75 = 51.16\n",
      "\t\tkey_76 = 41.75\n",
      "\t\tkey_77 = 52.94\n",
      "\t\tkey_78 = 46.65\n",
      "\t\tkey_79 = 41.22\n",
      "\t\tkey_80 = 29.66\n",
      "\t\tkey_81 = 56.53\n",
      "\t\tkey_82 = 47.62\n",
      "\t\tkey_83 = 43.34\n",
      "\t\tkey_84 = 37.07\n",
      "\t\tkey_85 = 50.41\n",
      "\t\tkey_86 = 49.54\n",
      "\t\tkey_87 = 49.77\n",
      "\t\tkey_88 = 42.78\n",
      "\t\tkey_89 = 32.49\n",
      "\t\tkey_90 = 21.01\n",
      "\t\tkey_91 = 15.66\n",
      "\t\tkey_92 = 45.22\n",
      "\t\tkey_93 = 47.07\n",
      "\t\tkey_94 = 44.79\n",
      "\t\tkey_95 = 40.68\n",
      "\t\tkey_96 = 37.07\n",
      "\t\tkey_97 = 47.60\n",
      "\t\tkey_98 = 41.66\n",
      "\t\tkey_99 = 41.99\n",
      "\t\tkey_100 = 41.04\n",
      "\t\tkey_101 = 36.68\n",
      "\t\tkey_102 = 34.42\n",
      "\t\tkey_103 = 28.88\n",
      "\t\tkey_104 = 35.80\n",
      "\t\tkey_105 = 22.74\n",
      "\t\tkey_106 = 12.41\n",
      "\t\tkey_107 = 11.38\n",
      "\t\tkey_108 = 5.68\n",
      "\t\tkey_109 = 0.00\n",
      "\t\tkey_110 = 54.02\n",
      "\t\tkey_111 = 42.04\n",
      "\t\tkey_112 = 39.70\n",
      "\t\tkey_113 = 43.35\n",
      "\t\tkey_114 = 38.40\n",
      "\t\tkey_115 = 41.98\n",
      "\t\tkey_116 = 30.37\n",
      "\t\tkey_117 = 31.21\n",
      "\t\tkey_118 = 26.45\n",
      "\t\tkey_119 = 35.55\n",
      "\t\tkey_120 = 23.44\n",
      "\t\tkey_121 = 45.84\n",
      "\t\tkey_122 = 38.02\n",
      "\t\tkey_123 = 50.87\n",
      "\t\tkey_124 = 45.57\n",
      "\t\tkey_125 = 55.04\n",
      "\t\tkey_126 = 49.90\n",
      "\t\tkey_127 = 48.27\n",
      "\t\tkey_128 = 52.42\n",
      "\t\tkey_129 = 41.27\n",
      "\t\tkey_130 = 34.18\n",
      "\t\tkey_131 = 28.10\n",
      "\t\tkey_132 = 30.86\n",
      "\t\tkey_133 = 25.87\n",
      "\t\tkey_134 = 49.59\n",
      "\t\tkey_135 = 38.83\n",
      "\t\tkey_136 = 32.45\n",
      "\t\tkey_137 = 43.18\n",
      "\t\tkey_138 = 40.75\n",
      "\t\tkey_139 = 39.33\n",
      "\t\tkey_140 = 37.15\n",
      "\t\tkey_141 = 29.53\n",
      "\t\tkey_142 = 24.43\n",
      "\t\tkey_143 = 50.16\n",
      "\t\tkey_144 = 43.44\n",
      "\t\tkey_145 = 34.59\n",
      "\t\tkey_146 = inf\n",
      "\t\tkey_147 = inf\n",
      "\t\tkey_148 = inf\n",
      "\t\tkey_149 = inf\n",
      "None\n",
      "Initial State\n",
      " CurrentNode: 1 and costs on its edges: \n",
      "\t\tkey_2 = 8.08\n",
      "\t\tkey_51 = 4.58\n",
      "None\n"
     ]
    }
   ],
   "source": [
    "# create the model, given the above policy\n",
    "M = StaticModel(state_names, decision_names,  params)\n",
    "policy_names = ['PureExploitation']\n",
    "P = Policy(M, policy_names)\n",
    "    \n",
    "theta_list = M.init_args['theta_set'].split()\n",
    "obj_along_iterations = {theta:[] for theta in theta_list}\n",
    "vbar_along_iterations = {theta:[] for theta in theta_list}"
   ]
  },
  {
   "cell_type": "code",
   "execution_count": 26,
   "metadata": {},
   "outputs": [
    {
     "name": "stdout",
     "output_type": "stream",
     "text": [
      "************Starting iterations for theta 1.0\n",
      "\tTheta 1.0  - Iteration 1 - Stepsize 1.00 - InitState 1 - Vbar 47.33\n",
      "\t\t Theta 1.0  - Iteration 1 - Step 1 - Current State 1 - vbar = 47.33\n",
      "\t\tDecision=51, vhat 48.22 and new vbar for current state 48.22\n",
      "\t\t Theta 1.0  - Iteration 1 - Step 2 - Current State 51 - vbar = 43.64\n",
      "\t\tDecision=52, vhat 45.11 and new vbar for current state 45.11\n",
      "\t\t Theta 1.0  - Iteration 1 - Step 3 - Current State 52 - vbar = 34.02\n",
      "\t\tDecision=53, vhat 34.19 and new vbar for current state 34.19\n",
      "\t\t Theta 1.0  - Iteration 1 - Step 4 - Current State 53 - vbar = 32.54\n",
      "\t\tDecision=120, vhat 33.61 and new vbar for current state 33.61\n",
      "\t\t Theta 1.0  - Iteration 1 - Step 5 - Current State 120 - vbar = 23.44\n",
      "\t\tDecision=28, vhat 22.83 and new vbar for current state 22.83\n",
      "\t\t Theta 1.0  - Iteration 1 - Step 6 - Current State 28 - vbar = 20.91\n",
      "\t\tDecision=91, vhat 21.19 and new vbar for current state 21.19\n",
      "\t\t Theta 1.0  - Iteration 1 - Step 7 - Current State 91 - vbar = 15.66\n",
      "\t\tDecision=106, vhat 15.61 and new vbar for current state 15.61\n",
      "\t\t Theta 1.0  - Iteration 1 - Step 8 - Current State 106 - vbar = 12.41\n",
      "\t\tDecision=107, vhat 12.33 and new vbar for current state 12.33\n",
      "\t\t Theta 1.0  - Iteration 1 - Step 9 - Current State 107 - vbar = 11.38\n",
      "\t\tDecision=108, vhat 12.10 and new vbar for current state 12.10\n",
      "\t\t Theta 1.0  - Iteration 1 - Step 10 - Current State 108 - vbar = 5.68\n",
      "\t\tDecision=109, vhat 4.01 and new vbar for current state 4.01\n",
      "Finishing Theta 1.0 and Iteration 1 with 10 steps. Total cost: 49.510959480969404 \n",
      "\n",
      "\tTheta 1.0  - Iteration 2 - Stepsize 1.00 - InitState 1 - Vbar 48.22\n",
      "\t\t Theta 1.0  - Iteration 2 - Step 1 - Current State 1 - vbar = 48.22\n",
      "\t\tDecision=51, vhat 49.69 and new vbar for current state 49.69\n",
      "\t\t Theta 1.0  - Iteration 2 - Step 2 - Current State 51 - vbar = 45.11\n",
      "\t\tDecision=52, vhat 44.42 and new vbar for current state 44.42\n",
      "\t\t Theta 1.0  - Iteration 2 - Step 3 - Current State 52 - vbar = 34.19\n",
      "\t\tDecision=53, vhat 34.27 and new vbar for current state 34.27\n",
      "\t\t Theta 1.0  - Iteration 2 - Step 4 - Current State 53 - vbar = 33.61\n",
      "\t\tDecision=120, vhat 29.48 and new vbar for current state 29.48\n",
      "\t\t Theta 1.0  - Iteration 2 - Step 5 - Current State 120 - vbar = 22.83\n",
      "\t\tDecision=28, vhat 21.56 and new vbar for current state 21.56\n",
      "\t\t Theta 1.0  - Iteration 2 - Step 6 - Current State 28 - vbar = 21.19\n",
      "\t\tDecision=91, vhat 20.84 and new vbar for current state 20.84\n",
      "\t\t Theta 1.0  - Iteration 2 - Step 7 - Current State 91 - vbar = 15.61\n",
      "\t\tDecision=106, vhat 15.67 and new vbar for current state 15.67\n",
      "\t\t Theta 1.0  - Iteration 2 - Step 8 - Current State 106 - vbar = 12.33\n",
      "\t\tDecision=107, vhat 13.43 and new vbar for current state 13.43\n",
      "\t\t Theta 1.0  - Iteration 2 - Step 9 - Current State 107 - vbar = 12.10\n",
      "\t\tDecision=108, vhat 9.12 and new vbar for current state 9.12\n",
      "\t\t Theta 1.0  - Iteration 2 - Step 10 - Current State 108 - vbar = 4.01\n",
      "\t\tDecision=109, vhat 4.13 and new vbar for current state 4.13\n",
      "Finishing Theta 1.0 and Iteration 2 with 10 steps. Total cost: 41.626212491688065 \n",
      "\n",
      "\tTheta 1.0  - Iteration 3 - Stepsize 1.00 - InitState 1 - Vbar 49.69\n",
      "\t\t Theta 1.0  - Iteration 3 - Step 1 - Current State 1 - vbar = 49.69\n",
      "\t\tDecision=51, vhat 48.99 and new vbar for current state 48.99\n",
      "\t\t Theta 1.0  - Iteration 3 - Step 2 - Current State 51 - vbar = 44.42\n",
      "\t\tDecision=52, vhat 43.63 and new vbar for current state 43.63\n",
      "\t\t Theta 1.0  - Iteration 3 - Step 3 - Current State 52 - vbar = 34.27\n",
      "\t\tDecision=53, vhat 30.63 and new vbar for current state 30.63\n",
      "\t\t Theta 1.0  - Iteration 3 - Step 4 - Current State 53 - vbar = 29.48\n",
      "\t\tDecision=120, vhat 32.19 and new vbar for current state 32.19\n",
      "\t\t Theta 1.0  - Iteration 3 - Step 5 - Current State 120 - vbar = 21.56\n",
      "\t\tDecision=28, vhat 23.56 and new vbar for current state 23.56\n",
      "\t\t Theta 1.0  - Iteration 3 - Step 6 - Current State 28 - vbar = 20.84\n",
      "\t\tDecision=91, vhat 21.16 and new vbar for current state 21.16\n",
      "\t\t Theta 1.0  - Iteration 3 - Step 7 - Current State 91 - vbar = 15.67\n",
      "\t\tDecision=106, vhat 17.01 and new vbar for current state 17.01\n",
      "\t\t Theta 1.0  - Iteration 3 - Step 8 - Current State 106 - vbar = 13.43\n",
      "\t\tDecision=107, vhat 9.87 and new vbar for current state 9.87\n",
      "\t\t Theta 1.0  - Iteration 3 - Step 9 - Current State 107 - vbar = 9.12\n",
      "\t\tDecision=108, vhat 10.01 and new vbar for current state 10.01\n",
      "\t\t Theta 1.0  - Iteration 3 - Step 10 - Current State 108 - vbar = 4.13\n",
      "\t\tDecision=109, vhat 7.10 and new vbar for current state 7.10\n",
      "Finishing Theta 1.0 and Iteration 3 with 10 steps. Total cost: 51.24654587998124 \n",
      "\n",
      "\tTheta 1.0  - Iteration 4 - Stepsize 1.00 - InitState 1 - Vbar 48.99\n",
      "\t\t Theta 1.0  - Iteration 4 - Step 1 - Current State 1 - vbar = 48.99\n",
      "\t\tDecision=51, vhat 48.21 and new vbar for current state 48.21\n",
      "\t\t Theta 1.0  - Iteration 4 - Step 2 - Current State 51 - vbar = 43.63\n",
      "\t\tDecision=52, vhat 40.61 and new vbar for current state 40.61\n",
      "\t\t Theta 1.0  - Iteration 4 - Step 3 - Current State 52 - vbar = 30.63\n",
      "\t\tDecision=53, vhat 33.10 and new vbar for current state 33.10\n",
      "\t\t Theta 1.0  - Iteration 4 - Step 4 - Current State 53 - vbar = 32.19\n",
      "\t\tDecision=120, vhat 34.85 and new vbar for current state 34.85\n",
      "\t\t Theta 1.0  - Iteration 4 - Step 5 - Current State 120 - vbar = 23.56\n",
      "\t\tDecision=28, vhat 22.53 and new vbar for current state 22.53\n",
      "\t\t Theta 1.0  - Iteration 4 - Step 6 - Current State 28 - vbar = 21.16\n",
      "\t\tDecision=91, vhat 22.29 and new vbar for current state 22.29\n",
      "\t\t Theta 1.0  - Iteration 4 - Step 7 - Current State 91 - vbar = 17.01\n",
      "\t\tDecision=106, vhat 13.50 and new vbar for current state 13.50\n",
      "\t\t Theta 1.0  - Iteration 4 - Step 8 - Current State 106 - vbar = 9.87\n",
      "\t\tDecision=107, vhat 10.71 and new vbar for current state 10.71\n",
      "\t\t Theta 1.0  - Iteration 4 - Step 9 - Current State 107 - vbar = 10.01\n",
      "\t\tDecision=108, vhat 13.33 and new vbar for current state 13.33\n",
      "\t\t Theta 1.0  - Iteration 4 - Step 10 - Current State 108 - vbar = 7.10\n",
      "\t\tDecision=109, vhat 6.24 and new vbar for current state 6.24\n",
      "Finishing Theta 1.0 and Iteration 4 with 10 steps. Total cost: 50.20510896216623 \n",
      "\n",
      "\tTheta 1.0  - Iteration 5 - Stepsize 1.00 - InitState 1 - Vbar 48.21\n",
      "\t\t Theta 1.0  - Iteration 5 - Step 1 - Current State 1 - vbar = 48.21\n",
      "\t\tDecision=51, vhat 45.19 and new vbar for current state 45.19\n",
      "\t\t Theta 1.0  - Iteration 5 - Step 2 - Current State 51 - vbar = 40.61\n",
      "\t\tDecision=52, vhat 43.55 and new vbar for current state 43.55\n",
      "\t\t Theta 1.0  - Iteration 5 - Step 3 - Current State 52 - vbar = 33.10\n",
      "\t\tDecision=53, vhat 35.92 and new vbar for current state 35.92\n",
      "\t\t Theta 1.0  - Iteration 5 - Step 4 - Current State 53 - vbar = 34.85\n",
      "\t\tDecision=120, vhat 31.56 and new vbar for current state 31.56\n",
      "\t\t Theta 1.0  - Iteration 5 - Step 5 - Current State 120 - vbar = 22.53\n",
      "\t\tDecision=28, vhat 25.16 and new vbar for current state 25.16\n",
      "\t\t Theta 1.0  - Iteration 5 - Step 6 - Current State 28 - vbar = 22.29\n",
      "\t\tDecision=91, vhat 18.83 and new vbar for current state 18.83\n",
      "\t\t Theta 1.0  - Iteration 5 - Step 7 - Current State 91 - vbar = 13.50\n",
      "\t\tDecision=106, vhat 13.97 and new vbar for current state 13.97\n",
      "\t\t Theta 1.0  - Iteration 5 - Step 8 - Current State 106 - vbar = 10.71\n",
      "\t\tDecision=107, vhat 14.33 and new vbar for current state 14.33\n",
      "\t\t Theta 1.0  - Iteration 5 - Step 9 - Current State 107 - vbar = 13.33\n",
      "\t\tDecision=108, vhat 12.12 and new vbar for current state 12.12\n",
      "\t\t Theta 1.0  - Iteration 5 - Step 10 - Current State 108 - vbar = 6.24\n",
      "\t\tDecision=109, vhat 4.67 and new vbar for current state 4.67\n",
      "Finishing Theta 1.0 and Iteration 5 with 10 steps. Total cost: 48.1246545406011 \n",
      "\n",
      "************Starting iterations for theta 0.5\n",
      "\tTheta 0.5  - Iteration 1 - Stepsize 0.50 - InitState 1 - Vbar 45.19\n",
      "\t\t Theta 0.5  - Iteration 1 - Step 1 - Current State 1 - vbar = 45.19\n",
      "\t\tDecision=51, vhat 48.13 and new vbar for current state 46.66\n",
      "\t\t Theta 0.5  - Iteration 1 - Step 2 - Current State 51 - vbar = 43.55\n",
      "\t\tDecision=52, vhat 47.01 and new vbar for current state 45.28\n",
      "\t\t Theta 0.5  - Iteration 1 - Step 3 - Current State 52 - vbar = 35.92\n",
      "\t\tDecision=53, vhat 33.21 and new vbar for current state 34.57\n",
      "\t\t Theta 0.5  - Iteration 1 - Step 4 - Current State 53 - vbar = 31.56\n",
      "\t\tDecision=120, vhat 35.33 and new vbar for current state 33.44\n",
      "\t\t Theta 0.5  - Iteration 1 - Step 5 - Current State 120 - vbar = 25.16\n",
      "\t\tDecision=28, vhat 20.75 and new vbar for current state 22.95\n",
      "\t\t Theta 0.5  - Iteration 1 - Step 6 - Current State 28 - vbar = 18.83\n",
      "\t\tDecision=91, vhat 19.49 and new vbar for current state 19.16\n",
      "\t\t Theta 0.5  - Iteration 1 - Step 7 - Current State 91 - vbar = 13.97\n",
      "\t\tDecision=106, vhat 17.53 and new vbar for current state 15.75\n",
      "\t\t Theta 0.5  - Iteration 1 - Step 8 - Current State 106 - vbar = 14.33\n",
      "\t\tDecision=107, vhat 13.07 and new vbar for current state 13.70\n",
      "\t\t Theta 0.5  - Iteration 1 - Step 9 - Current State 107 - vbar = 12.12\n",
      "\t\tDecision=108, vhat 11.09 and new vbar for current state 11.60\n",
      "\t\t Theta 0.5  - Iteration 1 - Step 10 - Current State 108 - vbar = 4.67\n",
      "\t\tDecision=109, vhat 4.01 and new vbar for current state 4.34\n",
      "Finishing Theta 0.5 and Iteration 1 with 10 steps. Total cost: 49.510959480969404 \n",
      "\n",
      "\tTheta 0.5  - Iteration 2 - Stepsize 0.50 - InitState 1 - Vbar 46.66\n",
      "\t\t Theta 0.5  - Iteration 2 - Step 1 - Current State 1 - vbar = 46.66\n",
      "\t\tDecision=51, vhat 49.86 and new vbar for current state 48.26\n",
      "\t\t Theta 0.5  - Iteration 2 - Step 2 - Current State 51 - vbar = 45.28\n",
      "\t\tDecision=52, vhat 44.79 and new vbar for current state 45.03\n",
      "\t\t Theta 0.5  - Iteration 2 - Step 3 - Current State 52 - vbar = 34.57\n",
      "\t\tDecision=53, vhat 34.10 and new vbar for current state 34.33\n",
      "\t\t Theta 0.5  - Iteration 2 - Step 4 - Current State 53 - vbar = 33.44\n",
      "\t\tDecision=120, vhat 29.60 and new vbar for current state 31.52\n",
      "\t\t Theta 0.5  - Iteration 2 - Step 5 - Current State 120 - vbar = 22.95\n",
      "\t\tDecision=28, vhat 19.53 and new vbar for current state 21.24\n",
      "\t\t Theta 0.5  - Iteration 2 - Step 6 - Current State 28 - vbar = 19.16\n",
      "\t\tDecision=91, vhat 20.98 and new vbar for current state 20.07\n",
      "\t\t Theta 0.5  - Iteration 2 - Step 7 - Current State 91 - vbar = 15.75\n",
      "\t\tDecision=106, vhat 17.04 and new vbar for current state 16.39\n",
      "\t\t Theta 0.5  - Iteration 2 - Step 8 - Current State 106 - vbar = 13.70\n",
      "\t\tDecision=107, vhat 12.93 and new vbar for current state 13.32\n",
      "\t\t Theta 0.5  - Iteration 2 - Step 9 - Current State 107 - vbar = 11.60\n",
      "\t\tDecision=108, vhat 9.45 and new vbar for current state 10.52\n",
      "\t\t Theta 0.5  - Iteration 2 - Step 10 - Current State 108 - vbar = 4.34\n",
      "\t\tDecision=109, vhat 4.13 and new vbar for current state 4.23\n",
      "Finishing Theta 0.5 and Iteration 2 with 10 steps. Total cost: 41.626212491688065 \n",
      "\n",
      "\tTheta 0.5  - Iteration 3 - Stepsize 0.50 - InitState 1 - Vbar 48.26\n",
      "\t\t Theta 0.5  - Iteration 3 - Step 1 - Current State 1 - vbar = 48.26\n",
      "\t\tDecision=51, vhat 49.61 and new vbar for current state 48.93\n",
      "\t\t Theta 0.5  - Iteration 3 - Step 2 - Current State 51 - vbar = 45.03\n",
      "\t\tDecision=52, vhat 43.70 and new vbar for current state 44.37\n",
      "\t\t Theta 0.5  - Iteration 3 - Step 3 - Current State 52 - vbar = 34.33\n",
      "\t\tDecision=53, vhat 32.68 and new vbar for current state 33.51\n",
      "\t\t Theta 0.5  - Iteration 3 - Step 4 - Current State 53 - vbar = 31.52\n",
      "\t\tDecision=120, vhat 31.87 and new vbar for current state 31.70\n",
      "\t\t Theta 0.5  - Iteration 3 - Step 5 - Current State 120 - vbar = 21.24\n",
      "\t\tDecision=28, vhat 22.79 and new vbar for current state 22.02\n",
      "\t\t Theta 0.5  - Iteration 3 - Step 6 - Current State 28 - vbar = 20.07\n",
      "\t\tDecision=91, vhat 21.88 and new vbar for current state 20.98\n",
      "\t\t Theta 0.5  - Iteration 3 - Step 7 - Current State 91 - vbar = 16.39\n",
      "\t\tDecision=106, vhat 16.90 and new vbar for current state 16.65\n",
      "\t\t Theta 0.5  - Iteration 3 - Step 8 - Current State 106 - vbar = 13.32\n",
      "\t\tDecision=107, vhat 11.28 and new vbar for current state 12.30\n",
      "\t\t Theta 0.5  - Iteration 3 - Step 9 - Current State 107 - vbar = 10.52\n",
      "\t\tDecision=108, vhat 10.11 and new vbar for current state 10.32\n",
      "\t\t Theta 0.5  - Iteration 3 - Step 10 - Current State 108 - vbar = 4.23\n",
      "\t\tDecision=109, vhat 7.10 and new vbar for current state 5.66\n",
      "Finishing Theta 0.5 and Iteration 3 with 10 steps. Total cost: 51.24654587998124 \n",
      "\n",
      "\tTheta 0.5  - Iteration 4 - Stepsize 0.50 - InitState 1 - Vbar 48.93\n",
      "\t\t Theta 0.5  - Iteration 4 - Step 1 - Current State 1 - vbar = 48.93\n",
      "\t\tDecision=51, vhat 48.94 and new vbar for current state 48.94\n",
      "\t\t Theta 0.5  - Iteration 4 - Step 2 - Current State 51 - vbar = 44.37\n",
      "\t\tDecision=52, vhat 43.49 and new vbar for current state 43.93\n",
      "\t\t Theta 0.5  - Iteration 4 - Step 3 - Current State 52 - vbar = 33.51\n",
      "\t\tDecision=53, vhat 32.61 and new vbar for current state 33.06\n",
      "\t\t Theta 0.5  - Iteration 4 - Step 4 - Current State 53 - vbar = 31.70\n",
      "\t\tDecision=120, vhat 33.30 and new vbar for current state 32.50\n",
      "\t\t Theta 0.5  - Iteration 4 - Step 5 - Current State 120 - vbar = 22.02\n",
      "\t\tDecision=28, vhat 22.34 and new vbar for current state 22.18\n",
      "\t\t Theta 0.5  - Iteration 4 - Step 6 - Current State 28 - vbar = 20.98\n",
      "\t\tDecision=91, vhat 21.92 and new vbar for current state 21.45\n",
      "\t\t Theta 0.5  - Iteration 4 - Step 7 - Current State 91 - vbar = 16.65\n",
      "\t\tDecision=106, vhat 15.93 and new vbar for current state 16.29\n",
      "\t\t Theta 0.5  - Iteration 4 - Step 8 - Current State 106 - vbar = 12.30\n",
      "\t\tDecision=107, vhat 11.03 and new vbar for current state 11.66\n",
      "\t\t Theta 0.5  - Iteration 4 - Step 9 - Current State 107 - vbar = 10.32\n",
      "\t\tDecision=108, vhat 11.90 and new vbar for current state 11.11\n",
      "\t\t Theta 0.5  - Iteration 4 - Step 10 - Current State 108 - vbar = 5.66\n",
      "\t\tDecision=109, vhat 6.24 and new vbar for current state 5.95\n",
      "Finishing Theta 0.5 and Iteration 4 with 10 steps. Total cost: 50.20510896216623 \n",
      "\n",
      "\tTheta 0.5  - Iteration 5 - Stepsize 0.50 - InitState 1 - Vbar 48.94\n",
      "\t\t Theta 0.5  - Iteration 5 - Step 1 - Current State 1 - vbar = 48.94\n",
      "\t\tDecision=51, vhat 48.50 and new vbar for current state 48.72\n",
      "\t\t Theta 0.5  - Iteration 5 - Step 2 - Current State 51 - vbar = 43.93\n",
      "\t\tDecision=52, vhat 43.51 and new vbar for current state 43.72\n",
      "\t\t Theta 0.5  - Iteration 5 - Step 3 - Current State 52 - vbar = 33.06\n",
      "\t\tDecision=53, vhat 33.57 and new vbar for current state 33.31\n",
      "\t\t Theta 0.5  - Iteration 5 - Step 4 - Current State 53 - vbar = 32.50\n",
      "\t\tDecision=120, vhat 31.21 and new vbar for current state 31.86\n",
      "\t\t Theta 0.5  - Iteration 5 - Step 5 - Current State 120 - vbar = 22.18\n",
      "\t\tDecision=28, vhat 24.32 and new vbar for current state 23.25\n",
      "\t\t Theta 0.5  - Iteration 5 - Step 6 - Current State 28 - vbar = 21.45\n",
      "\t\tDecision=91, vhat 21.61 and new vbar for current state 21.53\n",
      "\t\t Theta 0.5  - Iteration 5 - Step 7 - Current State 91 - vbar = 16.29\n",
      "\t\tDecision=106, vhat 14.92 and new vbar for current state 15.60\n",
      "\t\t Theta 0.5  - Iteration 5 - Step 8 - Current State 106 - vbar = 11.66\n",
      "\t\tDecision=107, vhat 12.10 and new vbar for current state 11.88\n",
      "\t\t Theta 0.5  - Iteration 5 - Step 9 - Current State 107 - vbar = 11.11\n",
      "\t\tDecision=108, vhat 11.83 and new vbar for current state 11.47\n",
      "\t\t Theta 0.5  - Iteration 5 - Step 10 - Current State 108 - vbar = 5.95\n",
      "\t\tDecision=109, vhat 4.67 and new vbar for current state 5.31\n",
      "Finishing Theta 0.5 and Iteration 5 with 10 steps. Total cost: 48.1246545406011 \n",
      "\n",
      "************Starting iterations for theta 0.2\n",
      "\tTheta 0.2  - Iteration 1 - Stepsize 0.20 - InitState 1 - Vbar 48.72\n",
      "\t\t Theta 0.2  - Iteration 1 - Step 1 - Current State 1 - vbar = 48.72\n",
      "\t\tDecision=51, vhat 48.29 and new vbar for current state 48.64\n",
      "\t\t Theta 0.2  - Iteration 1 - Step 2 - Current State 51 - vbar = 43.72\n",
      "\t\tDecision=52, vhat 44.40 and new vbar for current state 43.85\n",
      "\t\t Theta 0.2  - Iteration 1 - Step 3 - Current State 52 - vbar = 33.31\n",
      "\t\tDecision=53, vhat 33.51 and new vbar for current state 33.35\n",
      "\t\t Theta 0.2  - Iteration 1 - Step 4 - Current State 53 - vbar = 31.86\n",
      "\t\tDecision=120, vhat 33.42 and new vbar for current state 32.17\n",
      "\t\t Theta 0.2  - Iteration 1 - Step 5 - Current State 120 - vbar = 23.25\n",
      "\t\tDecision=28, vhat 23.45 and new vbar for current state 23.29\n",
      "\t\t Theta 0.2  - Iteration 1 - Step 6 - Current State 28 - vbar = 21.53\n",
      "\t\tDecision=91, vhat 21.13 and new vbar for current state 21.45\n",
      "\t\t Theta 0.2  - Iteration 1 - Step 7 - Current State 91 - vbar = 15.60\n",
      "\t\tDecision=106, vhat 15.08 and new vbar for current state 15.50\n",
      "\t\t Theta 0.2  - Iteration 1 - Step 8 - Current State 106 - vbar = 11.88\n",
      "\t\tDecision=107, vhat 12.42 and new vbar for current state 11.99\n",
      "\t\t Theta 0.2  - Iteration 1 - Step 9 - Current State 107 - vbar = 11.47\n",
      "\t\tDecision=108, vhat 11.73 and new vbar for current state 11.52\n",
      "\t\t Theta 0.2  - Iteration 1 - Step 10 - Current State 108 - vbar = 5.31\n",
      "\t\tDecision=109, vhat 4.01 and new vbar for current state 5.05\n",
      "Finishing Theta 0.2 and Iteration 1 with 10 steps. Total cost: 49.510959480969404 \n",
      "\n",
      "\tTheta 0.2  - Iteration 2 - Stepsize 0.20 - InitState 1 - Vbar 48.64\n",
      "\t\t Theta 0.2  - Iteration 2 - Step 1 - Current State 1 - vbar = 48.64\n",
      "\t\tDecision=51, vhat 48.43 and new vbar for current state 48.59\n",
      "\t\t Theta 0.2  - Iteration 2 - Step 2 - Current State 51 - vbar = 43.85\n",
      "\t\tDecision=52, vhat 43.58 and new vbar for current state 43.80\n",
      "\t\t Theta 0.2  - Iteration 2 - Step 3 - Current State 52 - vbar = 33.35\n",
      "\t\tDecision=53, vhat 32.83 and new vbar for current state 33.25\n",
      "\t\t Theta 0.2  - Iteration 2 - Step 4 - Current State 53 - vbar = 32.17\n",
      "\t\tDecision=120, vhat 29.94 and new vbar for current state 31.72\n",
      "\t\t Theta 0.2  - Iteration 2 - Step 5 - Current State 120 - vbar = 23.29\n",
      "\t\tDecision=28, vhat 21.82 and new vbar for current state 23.00\n",
      "\t\t Theta 0.2  - Iteration 2 - Step 6 - Current State 28 - vbar = 21.45\n",
      "\t\tDecision=91, vhat 20.73 and new vbar for current state 21.30\n",
      "\t\t Theta 0.2  - Iteration 2 - Step 7 - Current State 91 - vbar = 15.50\n",
      "\t\tDecision=106, vhat 15.33 and new vbar for current state 15.47\n",
      "\t\t Theta 0.2  - Iteration 2 - Step 8 - Current State 106 - vbar = 11.99\n",
      "\t\tDecision=107, vhat 12.85 and new vbar for current state 12.16\n",
      "\t\t Theta 0.2  - Iteration 2 - Step 9 - Current State 107 - vbar = 11.52\n",
      "\t\tDecision=108, vhat 10.16 and new vbar for current state 11.25\n",
      "\t\t Theta 0.2  - Iteration 2 - Step 10 - Current State 108 - vbar = 5.05\n",
      "\t\tDecision=109, vhat 4.13 and new vbar for current state 4.86\n",
      "Finishing Theta 0.2 and Iteration 2 with 10 steps. Total cost: 41.626212491688065 \n",
      "\n",
      "\tTheta 0.2  - Iteration 3 - Stepsize 0.20 - InitState 1 - Vbar 48.59\n",
      "\t\t Theta 0.2  - Iteration 3 - Step 1 - Current State 1 - vbar = 48.59\n",
      "\t\tDecision=51, vhat 48.38 and new vbar for current state 48.55\n",
      "\t\t Theta 0.2  - Iteration 3 - Step 2 - Current State 51 - vbar = 43.80\n",
      "\t\tDecision=52, vhat 42.61 and new vbar for current state 43.56\n",
      "\t\t Theta 0.2  - Iteration 3 - Step 3 - Current State 52 - vbar = 33.25\n",
      "\t\tDecision=53, vhat 32.88 and new vbar for current state 33.17\n",
      "\t\t Theta 0.2  - Iteration 3 - Step 4 - Current State 53 - vbar = 31.72\n",
      "\t\tDecision=120, vhat 33.62 and new vbar for current state 32.10\n",
      "\t\t Theta 0.2  - Iteration 3 - Step 5 - Current State 120 - vbar = 23.00\n",
      "\t\tDecision=28, vhat 24.02 and new vbar for current state 23.20\n",
      "\t\t Theta 0.2  - Iteration 3 - Step 6 - Current State 28 - vbar = 21.30\n",
      "\t\tDecision=91, vhat 20.95 and new vbar for current state 21.23\n",
      "\t\t Theta 0.2  - Iteration 3 - Step 7 - Current State 91 - vbar = 15.47\n",
      "\t\tDecision=106, vhat 15.74 and new vbar for current state 15.52\n",
      "\t\t Theta 0.2  - Iteration 3 - Step 8 - Current State 106 - vbar = 12.16\n",
      "\t\tDecision=107, vhat 12.00 and new vbar for current state 12.13\n",
      "\t\t Theta 0.2  - Iteration 3 - Step 9 - Current State 107 - vbar = 11.25\n",
      "\t\tDecision=108, vhat 10.74 and new vbar for current state 11.15\n",
      "\t\t Theta 0.2  - Iteration 3 - Step 10 - Current State 108 - vbar = 4.86\n",
      "\t\tDecision=109, vhat 7.10 and new vbar for current state 5.31\n",
      "Finishing Theta 0.2 and Iteration 3 with 10 steps. Total cost: 51.24654587998124 \n",
      "\n",
      "\tTheta 0.2  - Iteration 4 - Stepsize 0.20 - InitState 1 - Vbar 48.55\n",
      "\t\t Theta 0.2  - Iteration 4 - Step 1 - Current State 1 - vbar = 48.55\n",
      "\t\tDecision=51, vhat 48.14 and new vbar for current state 48.47\n",
      "\t\t Theta 0.2  - Iteration 4 - Step 2 - Current State 51 - vbar = 43.56\n",
      "\t\tDecision=52, vhat 43.15 and new vbar for current state 43.48\n",
      "\t\t Theta 0.2  - Iteration 4 - Step 3 - Current State 52 - vbar = 33.17\n",
      "\t\tDecision=53, vhat 33.02 and new vbar for current state 33.14\n",
      "\t\t Theta 0.2  - Iteration 4 - Step 4 - Current State 53 - vbar = 32.10\n",
      "\t\tDecision=120, vhat 34.49 and new vbar for current state 32.58\n",
      "\t\t Theta 0.2  - Iteration 4 - Step 5 - Current State 120 - vbar = 23.20\n",
      "\t\tDecision=28, vhat 22.60 and new vbar for current state 23.08\n",
      "\t\t Theta 0.2  - Iteration 4 - Step 6 - Current State 28 - vbar = 21.23\n",
      "\t\tDecision=91, vhat 20.79 and new vbar for current state 21.15\n",
      "\t\t Theta 0.2  - Iteration 4 - Step 7 - Current State 91 - vbar = 15.52\n",
      "\t\tDecision=106, vhat 15.76 and new vbar for current state 15.57\n",
      "\t\t Theta 0.2  - Iteration 4 - Step 8 - Current State 106 - vbar = 12.13\n",
      "\t\tDecision=107, vhat 11.86 and new vbar for current state 12.08\n",
      "\t\t Theta 0.2  - Iteration 4 - Step 9 - Current State 107 - vbar = 11.15\n",
      "\t\tDecision=108, vhat 11.55 and new vbar for current state 11.23\n",
      "\t\t Theta 0.2  - Iteration 4 - Step 10 - Current State 108 - vbar = 5.31\n",
      "\t\tDecision=109, vhat 6.24 and new vbar for current state 5.50\n",
      "Finishing Theta 0.2 and Iteration 4 with 10 steps. Total cost: 50.20510896216623 \n",
      "\n",
      "\tTheta 0.2  - Iteration 5 - Stepsize 0.20 - InitState 1 - Vbar 48.47\n",
      "\t\t Theta 0.2  - Iteration 5 - Step 1 - Current State 1 - vbar = 48.47\n",
      "\t\tDecision=51, vhat 48.06 and new vbar for current state 48.39\n",
      "\t\t Theta 0.2  - Iteration 5 - Step 2 - Current State 51 - vbar = 43.48\n",
      "\t\tDecision=52, vhat 43.59 and new vbar for current state 43.50\n",
      "\t\t Theta 0.2  - Iteration 5 - Step 3 - Current State 52 - vbar = 33.14\n",
      "\t\tDecision=53, vhat 33.65 and new vbar for current state 33.24\n",
      "\t\t Theta 0.2  - Iteration 5 - Step 4 - Current State 53 - vbar = 32.58\n",
      "\t\tDecision=120, vhat 32.11 and new vbar for current state 32.49\n",
      "\t\t Theta 0.2  - Iteration 5 - Step 5 - Current State 120 - vbar = 23.08\n",
      "\t\tDecision=28, vhat 24.02 and new vbar for current state 23.27\n",
      "\t\t Theta 0.2  - Iteration 5 - Step 6 - Current State 28 - vbar = 21.15\n",
      "\t\tDecision=91, vhat 20.89 and new vbar for current state 21.10\n",
      "\t\t Theta 0.2  - Iteration 5 - Step 7 - Current State 91 - vbar = 15.57\n",
      "\t\tDecision=106, vhat 15.33 and new vbar for current state 15.52\n",
      "\t\t Theta 0.2  - Iteration 5 - Step 8 - Current State 106 - vbar = 12.08\n",
      "\t\tDecision=107, vhat 12.22 and new vbar for current state 12.11\n",
      "\t\t Theta 0.2  - Iteration 5 - Step 9 - Current State 107 - vbar = 11.23\n",
      "\t\tDecision=108, vhat 11.38 and new vbar for current state 11.26\n",
      "\t\t Theta 0.2  - Iteration 5 - Step 10 - Current State 108 - vbar = 5.50\n",
      "\t\tDecision=109, vhat 4.67 and new vbar for current state 5.33\n",
      "Finishing Theta 0.2 and Iteration 5 with 10 steps. Total cost: 48.1246545406011 \n",
      "\n",
      "************Starting iterations for theta 0.1\n",
      "\tTheta 0.1  - Iteration 1 - Stepsize 0.10 - InitState 1 - Vbar 48.39\n",
      "\t\t Theta 0.1  - Iteration 1 - Step 1 - Current State 1 - vbar = 48.39\n",
      "\t\tDecision=51, vhat 48.08 and new vbar for current state 48.36\n",
      "\t\t Theta 0.1  - Iteration 1 - Step 2 - Current State 51 - vbar = 43.50\n",
      "\t\tDecision=52, vhat 44.33 and new vbar for current state 43.59\n",
      "\t\t Theta 0.1  - Iteration 1 - Step 3 - Current State 52 - vbar = 33.24\n",
      "\t\tDecision=53, vhat 34.14 and new vbar for current state 33.33\n",
      "\t\t Theta 0.1  - Iteration 1 - Step 4 - Current State 53 - vbar = 32.49\n",
      "\t\tDecision=120, vhat 33.44 and new vbar for current state 32.58\n",
      "\t\t Theta 0.1  - Iteration 1 - Step 5 - Current State 120 - vbar = 23.27\n",
      "\t\tDecision=28, vhat 23.02 and new vbar for current state 23.24\n",
      "\t\t Theta 0.1  - Iteration 1 - Step 6 - Current State 28 - vbar = 21.10\n",
      "\t\tDecision=91, vhat 21.05 and new vbar for current state 21.09\n",
      "\t\t Theta 0.1  - Iteration 1 - Step 7 - Current State 91 - vbar = 15.52\n",
      "\t\tDecision=106, vhat 15.31 and new vbar for current state 15.50\n",
      "\t\t Theta 0.1  - Iteration 1 - Step 8 - Current State 106 - vbar = 12.11\n",
      "\t\tDecision=107, vhat 12.21 and new vbar for current state 12.12\n",
      "\t\t Theta 0.1  - Iteration 1 - Step 9 - Current State 107 - vbar = 11.26\n",
      "\t\tDecision=108, vhat 11.75 and new vbar for current state 11.31\n",
      "\t\t Theta 0.1  - Iteration 1 - Step 10 - Current State 108 - vbar = 5.33\n",
      "\t\tDecision=109, vhat 4.01 and new vbar for current state 5.20\n",
      "Finishing Theta 0.1 and Iteration 1 with 10 steps. Total cost: 49.510959480969404 \n",
      "\n",
      "\tTheta 0.1  - Iteration 2 - Stepsize 0.10 - InitState 1 - Vbar 48.36\n",
      "\t\t Theta 0.1  - Iteration 2 - Step 1 - Current State 1 - vbar = 48.36\n",
      "\t\tDecision=51, vhat 48.16 and new vbar for current state 48.34\n",
      "\t\t Theta 0.1  - Iteration 2 - Step 2 - Current State 51 - vbar = 43.59\n",
      "\t\tDecision=52, vhat 43.56 and new vbar for current state 43.58\n",
      "\t\t Theta 0.1  - Iteration 2 - Step 3 - Current State 52 - vbar = 33.33\n",
      "\t\tDecision=53, vhat 33.24 and new vbar for current state 33.32\n",
      "\t\t Theta 0.1  - Iteration 2 - Step 4 - Current State 53 - vbar = 32.58\n",
      "\t\tDecision=120, vhat 29.89 and new vbar for current state 32.31\n",
      "\t\t Theta 0.1  - Iteration 2 - Step 5 - Current State 120 - vbar = 23.24\n",
      "\t\tDecision=28, vhat 21.46 and new vbar for current state 23.07\n",
      "\t\t Theta 0.1  - Iteration 2 - Step 6 - Current State 28 - vbar = 21.09\n",
      "\t\tDecision=91, vhat 20.73 and new vbar for current state 21.05\n",
      "\t\t Theta 0.1  - Iteration 2 - Step 7 - Current State 91 - vbar = 15.50\n",
      "\t\tDecision=106, vhat 15.46 and new vbar for current state 15.50\n",
      "\t\t Theta 0.1  - Iteration 2 - Step 8 - Current State 106 - vbar = 12.12\n",
      "\t\tDecision=107, vhat 12.64 and new vbar for current state 12.17\n",
      "\t\t Theta 0.1  - Iteration 2 - Step 9 - Current State 107 - vbar = 11.31\n",
      "\t\tDecision=108, vhat 10.31 and new vbar for current state 11.21\n",
      "\t\t Theta 0.1  - Iteration 2 - Step 10 - Current State 108 - vbar = 5.20\n",
      "\t\tDecision=109, vhat 4.13 and new vbar for current state 5.09\n",
      "Finishing Theta 0.1 and Iteration 2 with 10 steps. Total cost: 41.626212491688065 \n",
      "\n",
      "\tTheta 0.1  - Iteration 3 - Stepsize 0.10 - InitState 1 - Vbar 48.34\n",
      "\t\t Theta 0.1  - Iteration 3 - Step 1 - Current State 1 - vbar = 48.34\n",
      "\t\tDecision=51, vhat 48.16 and new vbar for current state 48.32\n",
      "\t\t Theta 0.1  - Iteration 3 - Step 2 - Current State 51 - vbar = 43.58\n",
      "\t\tDecision=52, vhat 42.69 and new vbar for current state 43.49\n",
      "\t\t Theta 0.1  - Iteration 3 - Step 3 - Current State 52 - vbar = 33.32\n",
      "\t\tDecision=53, vhat 33.47 and new vbar for current state 33.34\n",
      "\t\t Theta 0.1  - Iteration 3 - Step 4 - Current State 53 - vbar = 32.31\n",
      "\t\tDecision=120, vhat 33.69 and new vbar for current state 32.45\n",
      "\t\t Theta 0.1  - Iteration 3 - Step 5 - Current State 120 - vbar = 23.07\n",
      "\t\tDecision=28, vhat 23.77 and new vbar for current state 23.14\n",
      "\t\t Theta 0.1  - Iteration 3 - Step 6 - Current State 28 - vbar = 21.05\n",
      "\t\tDecision=91, vhat 20.98 and new vbar for current state 21.05\n",
      "\t\t Theta 0.1  - Iteration 3 - Step 7 - Current State 91 - vbar = 15.50\n",
      "\t\tDecision=106, vhat 15.75 and new vbar for current state 15.52\n",
      "\t\t Theta 0.1  - Iteration 3 - Step 8 - Current State 106 - vbar = 12.17\n",
      "\t\tDecision=107, vhat 11.96 and new vbar for current state 12.15\n",
      "\t\t Theta 0.1  - Iteration 3 - Step 9 - Current State 107 - vbar = 11.21\n",
      "\t\tDecision=108, vhat 10.97 and new vbar for current state 11.18\n",
      "\t\t Theta 0.1  - Iteration 3 - Step 10 - Current State 108 - vbar = 5.09\n",
      "\t\tDecision=109, vhat 7.10 and new vbar for current state 5.29\n",
      "Finishing Theta 0.1 and Iteration 3 with 10 steps. Total cost: 51.24654587998124 \n",
      "\n",
      "\tTheta 0.1  - Iteration 4 - Stepsize 0.10 - InitState 1 - Vbar 48.32\n",
      "\t\t Theta 0.1  - Iteration 4 - Step 1 - Current State 1 - vbar = 48.32\n",
      "\t\tDecision=51, vhat 48.07 and new vbar for current state 48.29\n",
      "\t\t Theta 0.1  - Iteration 4 - Step 2 - Current State 51 - vbar = 43.49\n",
      "\t\tDecision=52, vhat 43.32 and new vbar for current state 43.48\n",
      "\t\t Theta 0.1  - Iteration 4 - Step 3 - Current State 52 - vbar = 33.34\n",
      "\t\tDecision=53, vhat 33.36 and new vbar for current state 33.34\n",
      "\t\t Theta 0.1  - Iteration 4 - Step 4 - Current State 53 - vbar = 32.45\n",
      "\t\tDecision=120, vhat 34.42 and new vbar for current state 32.65\n",
      "\t\t Theta 0.1  - Iteration 4 - Step 5 - Current State 120 - vbar = 23.14\n",
      "\t\tDecision=28, vhat 22.42 and new vbar for current state 23.07\n",
      "\t\t Theta 0.1  - Iteration 4 - Step 6 - Current State 28 - vbar = 21.05\n",
      "\t\tDecision=91, vhat 20.79 and new vbar for current state 21.02\n",
      "\t\t Theta 0.1  - Iteration 4 - Step 7 - Current State 91 - vbar = 15.52\n",
      "\t\tDecision=106, vhat 15.78 and new vbar for current state 15.55\n",
      "\t\t Theta 0.1  - Iteration 4 - Step 8 - Current State 106 - vbar = 12.15\n",
      "\t\tDecision=107, vhat 11.89 and new vbar for current state 12.12\n",
      "\t\t Theta 0.1  - Iteration 4 - Step 9 - Current State 107 - vbar = 11.18\n",
      "\t\tDecision=108, vhat 11.53 and new vbar for current state 11.22\n",
      "\t\t Theta 0.1  - Iteration 4 - Step 10 - Current State 108 - vbar = 5.29\n",
      "\t\tDecision=109, vhat 6.24 and new vbar for current state 5.39\n",
      "Finishing Theta 0.1 and Iteration 4 with 10 steps. Total cost: 50.20510896216623 \n",
      "\n",
      "\tTheta 0.1  - Iteration 5 - Stepsize 0.10 - InitState 1 - Vbar 48.29\n",
      "\t\t Theta 0.1  - Iteration 5 - Step 1 - Current State 1 - vbar = 48.29\n",
      "\t\tDecision=51, vhat 48.05 and new vbar for current state 48.27\n",
      "\t\t Theta 0.1  - Iteration 5 - Step 2 - Current State 51 - vbar = 43.48\n",
      "\t\tDecision=52, vhat 43.79 and new vbar for current state 43.51\n",
      "\t\t Theta 0.1  - Iteration 5 - Step 3 - Current State 52 - vbar = 33.34\n",
      "\t\tDecision=53, vhat 33.72 and new vbar for current state 33.38\n",
      "\t\t Theta 0.1  - Iteration 5 - Step 4 - Current State 53 - vbar = 32.65\n",
      "\t\tDecision=120, vhat 32.10 and new vbar for current state 32.59\n",
      "\t\t Theta 0.1  - Iteration 5 - Step 5 - Current State 120 - vbar = 23.07\n",
      "\t\tDecision=28, vhat 23.90 and new vbar for current state 23.15\n",
      "\t\t Theta 0.1  - Iteration 5 - Step 6 - Current State 28 - vbar = 21.02\n",
      "\t\tDecision=91, vhat 20.87 and new vbar for current state 21.01\n",
      "\t\t Theta 0.1  - Iteration 5 - Step 7 - Current State 91 - vbar = 15.55\n",
      "\t\tDecision=106, vhat 15.38 and new vbar for current state 15.53\n",
      "\t\t Theta 0.1  - Iteration 5 - Step 8 - Current State 106 - vbar = 12.12\n",
      "\t\tDecision=107, vhat 12.21 and new vbar for current state 12.13\n",
      "\t\t Theta 0.1  - Iteration 5 - Step 9 - Current State 107 - vbar = 11.22\n",
      "\t\tDecision=108, vhat 11.27 and new vbar for current state 11.22\n",
      "\t\t Theta 0.1  - Iteration 5 - Step 10 - Current State 108 - vbar = 5.39\n",
      "\t\tDecision=109, vhat 4.67 and new vbar for current state 5.31\n",
      "Finishing Theta 0.1 and Iteration 5 with 10 steps. Total cost: 48.1246545406011 \n",
      "\n"
     ]
    }
   ],
   "source": [
    "for theta in theta_list:\n",
    "    model = copy(M)\n",
    "    model.theta_step = float(theta)\n",
    "    model.prng = np.random.RandomState(model.init_args['seed'])\n",
    "    \n",
    "    print(\"************Starting iterations for theta {}\".format(model.theta_step))\n",
    "\n",
    "    for ite in list(range(model.init_args['nIterations'])):\n",
    "        \n",
    "        model.obj = 0 \n",
    "        model.state = model.build_state(model.init_state)\n",
    "        \n",
    "        print(\"\\tTheta {}  - Iteration {} - Stepsize {:.2f} - InitState {} - Vbar {:.2f}\".format(model.theta_step,model.n,model.alpha(),model.state.CurrentNode,model.V_t[model.state.CurrentNode]))\n",
    "        \n",
    "        step = 1\n",
    "        while model.state.CurrentNode != model.init_args['target_node']:\n",
    "                # calling policy and choosing a decision\n",
    "                decision,vhat = P.make_decision(model)\n",
    "                x = model.build_decision({'NextNode': decision})\n",
    "                \n",
    "                print(\"\\t\\t Theta {}  - Iteration {} - Step {} - Current State {} - vbar = {:.2f}\".format(model.theta_step,model.n,step, model.state.CurrentNode,model.V_t[model.state.CurrentNode]))\n",
    "                \n",
    "\n",
    "                # update vfa\n",
    "                vbar = model.update_VFA(vhat)\n",
    "                \n",
    "                # print current state, decision , vhat and new vbar\n",
    "                #model.print_State()\n",
    "                print(\"\\t\\tDecision={}, vhat {:.2f} and new vbar for current state {:.2f}\".format(x[0],vhat,model.V_t[model.state.CurrentNode]))\n",
    "\n",
    "                # transition to the next state w/ the given decision\n",
    "                model.transition_fn(x)\n",
    "                step += 1\n",
    "\n",
    "        print(\"Finishing Theta {} and Iteration {} with {} steps. Total cost: {} \\n\".format(model.theta_step,model.n,step-1,model.obj))\n",
    "        model.n+=1\n",
    "        obj_along_iterations[theta].append(model.obj)\n",
    "        vbar_along_iterations[theta].append(model.V_t[model.origin_node])"
   ]
  },
  {
   "cell_type": "code",
   "execution_count": 27,
   "metadata": {},
   "outputs": [
    {
     "name": "stdout",
     "output_type": "stream",
     "text": [
      "Totals  [240.71348135540603, 240.71348135540603, 240.71348135540603, 240.71348135540603]\n"
     ]
    },
    {
     "data": {
      "image/png": "[encoded data removed]",
      "text/plain": [
       "<Figure size 432x288 with 2 Axes>"
      ]
     },
     "metadata": {
      "needs_background": "light"
     },
     "output_type": "display_data"
    }
   ],
   "source": [
    "#Ploting the results\n",
    "fig1, axsubs = plt.subplots(1,2)\n",
    "fig1.suptitle('Comparison of theta^step - stepsize type {} - origin {}, target {}, dist {} '.format(M.init_args['stepsize_rule'],M.origin_node,M.target_node,M.dist) )\n",
    "  \n",
    "color_list = ['b','g','r','m','c']\n",
    "nThetas = list(range(len(theta_list)))\n",
    "Iterations = list(range(model.init_args['nIterations']))\n",
    "\n",
    "    \n",
    "totals = [np.array(obj_along_iterations[theta]).sum() for theta in theta_list]\n",
    "print(\"Totals \",totals)\n",
    "\n",
    "\n",
    "for theta,t in zip(theta_list,nThetas):\n",
    "        \n",
    "        axsubs[0].plot(Iterations, np.array(obj_along_iterations[theta]).cumsum(), \"{}-\".format(color_list[t]),label = \"{}\".format(theta))\n",
    "        #axsubs[0].plot(Iterations, obj_along_iterations[theta], \"{}-\".format(color_list[t]),label = \"{}\".format(theta))\n",
    "\n",
    "        axsubs[0].set_title('Objective function')\n",
    "        axsubs[0].legend()\n",
    "        axsubs[0].set_xlabel('Iterations')\n",
    "        axsubs[0].set_ylabel('Cost')\n",
    "\n",
    "        axsubs[1].plot(Iterations, vbar_along_iterations[theta], \"{}o-\".format(color_list[t]),label = \"{}\".format(theta))\n",
    "        axsubs[1].set_title('Vbar')\n",
    "        axsubs[1].legend()\n",
    "        axsubs[1].set_xlabel('Iterations')\n",
    "        axsubs[1].set_ylabel('Cost')\n",
    "\n",
    "\n",
    "        #axsubs.plot(Iterations, obj_along_iterations[theta], \"{}o-\".format(color_list[t]),label = \"{}\".format(theta))\n",
    "        #axsubs[0].set_title('Cost')\n",
    "        #axsubs.legend()\n",
    "        #axsubs.set_xlabel('Iterations')\n",
    "        #axsubs.set_ylabel('Cost')\n",
    "\n",
    "plt.show()"
   ]
  }
 ],
 "metadata": {
  "kernelspec": {
   "display_name": "Python 3.9.1 64-bit ('jupyterlab-debugger': conda)",
   "language": "python",
   "name": "python39164bitjupyterlabdebuggerconda9f0223ea840b42a4bb0b5831fc210e72"
  },
  "language_info": {
   "codemirror_mode": {
    "name": "ipython",
    "version": 3
   },
   "file_extension": ".py",
   "mimetype": "text/x-python",
   "name": "python",
   "nbconvert_exporter": "python",
   "pygments_lexer": "ipython3",
   "version": "3.9.1"
  }
 },
 "nbformat": 4,
 "nbformat_minor": 4
}
