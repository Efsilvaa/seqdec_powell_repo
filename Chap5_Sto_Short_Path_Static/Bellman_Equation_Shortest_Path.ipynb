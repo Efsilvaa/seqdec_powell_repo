{
 "cells": [
  {
   "cell_type": "markdown",
   "metadata": {},
   "source": [
    "# Shortest Path"
   ]
  },
  {
   "cell_type": "markdown",
   "metadata": {},
   "source": [
    "## Outline of the Problem:"
   ]
  },
  {
   "cell_type": "markdown",
   "metadata": {},
   "source": [
    "Consider the following graph:"
   ]
  },
  {
   "cell_type": "markdown",
   "metadata": {},
   "source": [
    "<img src=\"pics/graph.png\" width=800 height=600 />"
   ]
  },
  {
   "cell_type": "markdown",
   "metadata": {},
   "source": [
    "We wish to travel from node (vertex) A to node G at minimum cost:\n",
    "+ Arrows (edges) indicate the movements we can take\n",
    "+ Numbers on edges indicate the cost of traveling that edge"
   ]
  },
  {
   "cell_type": "markdown",
   "metadata": {},
   "source": [
    "## Finding Least-Cost Paths:"
   ]
  },
  {
   "cell_type": "markdown",
   "metadata": {},
   "source": [
    "Let $J(v)$ denote the minimum cost-to-go from node $v$, understood as the total cost from $v$ if we take the best route.\n",
    "Suppose that we know $J(v)$ for each node $v$, as shown below for the graph from the preceding example."
   ]
  },
  {
   "cell_type": "markdown",
   "metadata": {},
   "source": [
    "<img src=\"pics/graph_least_cost.png\" width=800 height=600 />"
   ]
  },
  {
   "cell_type": "markdown",
   "metadata": {},
   "source": [
    "Note that $J(G) = 0$"
   ]
  },
  {
   "cell_type": "markdown",
   "metadata": {},
   "source": [
    "The best path can now be found as follows:"
   ]
  },
  {
   "cell_type": "markdown",
   "metadata": {},
   "source": [
    "+ Start at node $v= A$\n",
    "+ From current node $v$, move to any node that solves:"
   ]
  },
  {
   "cell_type": "markdown",
   "metadata": {},
   "source": [
    "$$\n",
    "min \\ \\{c(v,w) + J(w)\\} \\\\\n",
    "w \\in F_v\n",
    "$$"
   ]
  },
  {
   "cell_type": "markdown",
   "metadata": {},
   "source": [
    "+ $F_v$ is the set of nodes that can be reached from $v$ in one step\n",
    "+ $c(v, w)$ is the cost of traveling from $v$ to $w$"
   ]
  },
  {
   "cell_type": "markdown",
   "metadata": {},
   "source": [
    "Hence, if we know the function $J$, then finding the best path is almost trivial."
   ]
  },
  {
   "cell_type": "markdown",
   "metadata": {},
   "source": [
    "But how can we find the cost-to-go function $J$? "
   ]
  },
  {
   "cell_type": "markdown",
   "metadata": {},
   "source": [
    "## The Algorithm"
   ]
  },
  {
   "cell_type": "markdown",
   "metadata": {},
   "source": [
    "The standard algorithm for finding $J$ is to start an initial guess and then iterate. "
   ]
  },
  {
   "cell_type": "markdown",
   "metadata": {},
   "source": [
    "Our initial guess will be:"
   ]
  },
  {
   "cell_type": "markdown",
   "metadata": {},
   "source": [
    "$$\n",
    "J_0(v) = \\\\\n",
    "\\text{for all v}\n",
    "$$"
   ]
  },
  {
   "cell_type": "markdown",
   "metadata": {},
   "source": [
    "+ Set $n$ = 0\n",
    "+ Set $J_{n+1}(v)= min \\ \\{c(v,w) + J_n(w)\\}$\n",
    "+ If $J_{n+1}$ and $J_n$ are not equal then incremnet $n$, go to 2"
   ]
  },
  {
   "cell_type": "markdown",
   "metadata": {},
   "source": [
    "## The Implementation"
   ]
  },
  {
   "cell_type": "markdown",
   "metadata": {},
   "source": [
    "Having an algorith is a good start, but we also need to think about how to implement. First, for the cost function $c$, we will implement it as a matrix $Q$, where a typical element is: "
   ]
  },
  {
   "cell_type": "markdown",
   "metadata": {},
   "source": [
    "$$\n",
    "Q(v, w) = c(v,w) \\ \\text{if} \\ w \\in F_v \\\\\n",
    "\\infty \\ \\ otherwis\n",
    "$$"
   ]
  },
  {
   "cell_type": "markdown",
   "metadata": {},
   "source": [
    "We are alos numbering the nodes now, with $A = 0$, so for example:"
   ]
  },
  {
   "cell_type": "markdown",
   "metadata": {},
   "source": [
    "$$\n",
    "Q(1,2)  = \\text{the cost of traveling from B to C}\n",
    "$$"
   ]
  },
  {
   "cell_type": "markdown",
   "metadata": {},
   "source": [
    "## Code Parts"
   ]
  },
  {
   "cell_type": "code",
   "execution_count": 4,
   "metadata": {},
   "outputs": [],
   "source": [
    "import numpy as np\n",
    "from numpy import inf"
   ]
  },
  {
   "cell_type": "code",
   "execution_count": 8,
   "metadata": {},
   "outputs": [],
   "source": [
    "Q = np.array([[inf, 1, 5, 3, inf, inf, inf ],\n",
    "            [inf, inf, inf, 9, 6, inf, inf],\n",
    "            [inf, inf, inf, inf, inf, 2, inf],\n",
    "            [inf, inf, inf, inf, inf, 4, 8],\n",
    "            [inf, inf, inf, inf, inf, inf, 4],\n",
    "            [inf, inf, inf, inf, inf, inf, 1],\n",
    "            [inf, inf, inf, inf, inf, inf, 0]])"
   ]
  },
  {
   "cell_type": "code",
   "execution_count": 9,
   "metadata": {},
   "outputs": [
    {
     "data": {
      "text/plain": [
       "array([[inf,  1.,  5.,  3., inf, inf, inf],\n",
       "       [inf, inf, inf,  9.,  6., inf, inf],\n",
       "       [inf, inf, inf, inf, inf,  2., inf],\n",
       "       [inf, inf, inf, inf, inf,  4.,  8.],\n",
       "       [inf, inf, inf, inf, inf, inf,  4.],\n",
       "       [inf, inf, inf, inf, inf, inf,  1.],\n",
       "       [inf, inf, inf, inf, inf, inf,  0.]])"
      ]
     },
     "execution_count": 9,
     "metadata": {},
     "output_type": "execute_result"
    }
   ],
   "source": [
    "Q"
   ]
  },
  {
   "cell_type": "code",
   "execution_count": 18,
   "metadata": {},
   "outputs": [
    {
     "data": {
      "text/plain": [
       "array([0, 0, 0, 0, 0, 0, 0])"
      ]
     },
     "execution_count": 18,
     "metadata": {},
     "output_type": "execute_result"
    }
   ],
   "source": [
    "nodes = range(7)                          # Nodes = 0,1,..,6\n",
    "\n",
    "J = np.zeros_like(nodes, dtype=np.int)    #Initial guess\n",
    "\n",
    "J"
   ]
  },
  {
   "cell_type": "code",
   "execution_count": 29,
   "metadata": {},
   "outputs": [
    {
     "data": {
      "text/plain": [
       "array([ 94154753048432,               0,               0,               0,\n",
       "                     0,               0, 140603170986544])"
      ]
     },
     "execution_count": 29,
     "metadata": {},
     "output_type": "execute_result"
    }
   ],
   "source": [
    "next_J = np.empty_like(nodes, dtype=np.int)\n",
    "\n",
    "next_J"
   ]
  },
  {
   "cell_type": "code",
   "execution_count": 30,
   "metadata": {},
   "outputs": [],
   "source": [
    "max_iter = 100\n",
    "i = 0"
   ]
  },
  {
   "cell_type": "code",
   "execution_count": 32,
   "metadata": {},
   "outputs": [
    {
     "name": "stdout",
     "output_type": "stream",
     "text": [
      " The cost-to -go function is [ 8 10  3  5  4  1  0]\n"
     ]
    }
   ],
   "source": [
    "while i < max_iter:\n",
    "    for v in nodes:\n",
    "        # minimize Q[v, w] + J[w] over all choices of w\n",
    "        lowest_cost = inf\n",
    "        for w in nodes:\n",
    "            cost = Q[v, w] + J[w]\n",
    "            if cost < lowest_cost:\n",
    "                lowest_cost = cost\n",
    "        next_J[v] = lowest_cost\n",
    "    \n",
    "    if np.equal(next_J, J).all():\n",
    "        break\n",
    "    else:\n",
    "        J[:] = next_J\n",
    "        i += 1\n",
    "\n",
    "print(\" The cost-to -go function is\", J)        "
   ]
  }
 ],
 "metadata": {
  "kernelspec": {
   "display_name": "Python 3.9.1 64-bit ('jupyterlab-debugger': conda)",
   "language": "python",
   "name": "python39164bitjupyterlabdebuggerconda9f0223ea840b42a4bb0b5831fc210e72"
  },
  "language_info": {
   "codemirror_mode": {
    "name": "ipython",
    "version": 3
   },
   "file_extension": ".py",
   "mimetype": "text/x-python",
   "name": "python",
   "nbconvert_exporter": "python",
   "pygments_lexer": "ipython3",
   "version": "3.9.1"
  }
 },
 "nbformat": 4,
 "nbformat_minor": 4
}
